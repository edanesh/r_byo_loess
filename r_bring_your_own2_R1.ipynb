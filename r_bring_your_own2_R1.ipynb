{
 "cells": [
  {
   "cell_type": "code",
   "execution_count": 1,
   "metadata": {
    "isConfigCell": true
   },
   "outputs": [],
   "source": [
    "library(reticulate)\n",
    "sagemaker = import('sagemaker')\n",
    "\n",
    "bucket = sagemaker$Session()$default_bucket()\n",
    "prefix = \"sagemaker/demo-r-byo\"\n",
    "\n",
    "role = sagemaker$get_execution_role()"
   ]
  },
  {
   "cell_type": "code",
   "execution_count": 2,
   "metadata": {},
   "outputs": [
    {
     "data": {
      "text/html": [
       "'arn:aws:iam::870953422121:role/service-role/AmazonSageMaker-ExecutionRole-20211021T162608'"
      ],
      "text/latex": [
       "'arn:aws:iam::870953422121:role/service-role/AmazonSageMaker-ExecutionRole-20211021T162608'"
      ],
      "text/markdown": [
       "'arn:aws:iam::870953422121:role/service-role/AmazonSageMaker-ExecutionRole-20211021T162608'"
      ],
      "text/plain": [
       "[1] \"arn:aws:iam::870953422121:role/service-role/AmazonSageMaker-ExecutionRole-20211021T162608\""
      ]
     },
     "metadata": {},
     "output_type": "display_data"
    }
   ],
   "source": [
    "# role"
   ]
  },
  {
   "cell_type": "code",
   "execution_count": 2,
   "metadata": {
    "isConfigCell": true
   },
   "outputs": [],
   "source": [
    "session = sagemaker$Session()"
   ]
  },
  {
   "cell_type": "code",
   "execution_count": 3,
   "metadata": {},
   "outputs": [],
   "source": [
    "algorithm_name = \"rloess\""
   ]
  },
  {
   "cell_type": "markdown",
   "metadata": {},
   "source": [
    "_Note: Although we could do preliminary data transformations in the notebook, we'll avoid doing so, instead choosing to do those transformations inside the container.  This is not typically the best practice for model efficiency, but provides some benefits in terms of flexibility._"
   ]
  },
  {
   "cell_type": "code",
   "execution_count": 4,
   "metadata": {},
   "outputs": [],
   "source": [
    "boto3_r = import('boto3')"
   ]
  },
  {
   "cell_type": "code",
   "execution_count": 5,
   "metadata": {},
   "outputs": [],
   "source": [
    "region = boto3_r$Session()$region_name\n",
    "account = boto3_r$client('sts')$get_caller_identity()$Account"
   ]
  },
  {
   "cell_type": "markdown",
   "metadata": {},
   "source": [
    "Now we'll create an estimator using the [SageMaker Python SDK](https://github.com/aws/sagemaker-python-sdk).  This allows us to specify:\n",
    "- The training container image in ECR\n",
    "- The IAM role that controls permissions for accessing the S3 data and executing SageMaker functions\n",
    "- Number and type of training instances\n",
    "- S3 path for model artifacts to be output to\n",
    "- Any hyperparameters that we want to have the same value across all training jobs during tuning"
   ]
  },
  {
   "cell_type": "code",
   "execution_count": 6,
   "metadata": {
    "scrolled": true
   },
   "outputs": [
    {
     "name": "stderr",
     "output_type": "stream",
     "text": [
      "Warning message:\n",
      "“Your system is mis-configured: ‘/etc/localtime’ is not a symlink”\n",
      "Warning message:\n",
      "“It is strongly recommended to set envionment variable TZ to ‘Etc/UCT’ (or equivalent)”\n",
      "── \u001b[1mAttaching packages\u001b[22m ─────────────────────────────────────── tidyverse 1.3.1 ──\n",
      "\n",
      "\u001b[32m✔\u001b[39m \u001b[34mggplot2\u001b[39m 3.3.5     \u001b[32m✔\u001b[39m \u001b[34mpurrr  \u001b[39m 0.3.4\n",
      "\u001b[32m✔\u001b[39m \u001b[34mtibble \u001b[39m 3.1.6     \u001b[32m✔\u001b[39m \u001b[34mdplyr  \u001b[39m 1.0.7\n",
      "\u001b[32m✔\u001b[39m \u001b[34mtidyr  \u001b[39m 1.1.4     \u001b[32m✔\u001b[39m \u001b[34mstringr\u001b[39m 1.4.0\n",
      "\u001b[32m✔\u001b[39m \u001b[34mreadr  \u001b[39m 2.1.0     \u001b[32m✔\u001b[39m \u001b[34mforcats\u001b[39m 0.5.1\n",
      "\n",
      "── \u001b[1mConflicts\u001b[22m ────────────────────────────────────────── tidyverse_conflicts() ──\n",
      "\u001b[31m✖\u001b[39m \u001b[34mdplyr\u001b[39m::\u001b[32mfilter()\u001b[39m masks \u001b[34mstats\u001b[39m::filter()\n",
      "\u001b[31m✖\u001b[39m \u001b[34mdplyr\u001b[39m::\u001b[32mlag()\u001b[39m    masks \u001b[34mstats\u001b[39m::lag()\n",
      "\n"
     ]
    }
   ],
   "source": [
    "library(tidyverse)"
   ]
  },
  {
   "cell_type": "markdown",
   "metadata": {},
   "source": [
    "## Data"
   ]
  },
  {
   "cell_type": "code",
   "execution_count": 22,
   "metadata": {},
   "outputs": [
    {
     "name": "stderr",
     "output_type": "stream",
     "text": [
      "New names:\n",
      "* `` -> ...1\n",
      "\n",
      "\u001b[1mRows: \u001b[22m\u001b[34m342156\u001b[39m \u001b[1mColumns: \u001b[22m\u001b[34m7\u001b[39m\n",
      "\n",
      "\u001b[36m──\u001b[39m \u001b[1mColumn specification\u001b[22m \u001b[36m────────────────────────────────────────────────────────\u001b[39m\n",
      "\u001b[1mDelimiter:\u001b[22m \",\"\n",
      "\u001b[31mchr\u001b[39m  (1): status\n",
      "\u001b[32mdbl\u001b[39m  (5): ...1, id, humidity, no2, temperature\n",
      "\u001b[34mdttm\u001b[39m (1): date\n",
      "\n",
      "\n",
      "\u001b[36mℹ\u001b[39m Use \u001b[30m\u001b[47m\u001b[30m\u001b[47m`spec()`\u001b[47m\u001b[30m\u001b[49m\u001b[39m to retrieve the full column specification for this data.\n",
      "\u001b[36mℹ\u001b[39m Specify the column types or set \u001b[30m\u001b[47m\u001b[30m\u001b[47m`show_col_types = FALSE`\u001b[47m\u001b[30m\u001b[49m\u001b[39m to quiet this message.\n",
      "\n"
     ]
    },
    {
     "data": {
      "text/html": [
       "<table class=\"dataframe\">\n",
       "<caption>A tibble: 6 × 7</caption>\n",
       "<thead>\n",
       "\t<tr><th scope=col>...1</th><th scope=col>id</th><th scope=col>date</th><th scope=col>status</th><th scope=col>humidity</th><th scope=col>no2</th><th scope=col>temperature</th></tr>\n",
       "\t<tr><th scope=col>&lt;dbl&gt;</th><th scope=col>&lt;dbl&gt;</th><th scope=col>&lt;dttm&gt;</th><th scope=col>&lt;chr&gt;</th><th scope=col>&lt;dbl&gt;</th><th scope=col>&lt;dbl&gt;</th><th scope=col>&lt;dbl&gt;</th></tr>\n",
       "</thead>\n",
       "<tbody>\n",
       "\t<tr><td>0</td><td>42022</td><td>2021-08-15 00:00:00</td><td>RAW</td><td>71.82511</td><td>297.1198</td><td>24.94795</td></tr>\n",
       "\t<tr><td>1</td><td>42022</td><td>2021-08-15 00:05:00</td><td>RAW</td><td>72.20479</td><td>297.1906</td><td>24.84013</td></tr>\n",
       "\t<tr><td>2</td><td>42022</td><td>2021-08-15 00:10:00</td><td>RAW</td><td>72.43551</td><td>297.3429</td><td>24.74854</td></tr>\n",
       "\t<tr><td>3</td><td>42022</td><td>2021-08-15 00:15:00</td><td>RAW</td><td>72.64743</td><td>297.4239</td><td>24.66797</td></tr>\n",
       "\t<tr><td>4</td><td>42022</td><td>2021-08-15 00:20:00</td><td>RAW</td><td>72.76068</td><td>297.6219</td><td>24.64623</td></tr>\n",
       "\t<tr><td>5</td><td>42022</td><td>2021-08-15 00:25:00</td><td>RAW</td><td>73.05018</td><td>297.7695</td><td>24.57725</td></tr>\n",
       "</tbody>\n",
       "</table>\n"
      ],
      "text/latex": [
       "A tibble: 6 × 7\n",
       "\\begin{tabular}{lllllll}\n",
       " ...1 & id & date & status & humidity & no2 & temperature\\\\\n",
       " <dbl> & <dbl> & <dttm> & <chr> & <dbl> & <dbl> & <dbl>\\\\\n",
       "\\hline\n",
       "\t 0 & 42022 & 2021-08-15 00:00:00 & RAW & 71.82511 & 297.1198 & 24.94795\\\\\n",
       "\t 1 & 42022 & 2021-08-15 00:05:00 & RAW & 72.20479 & 297.1906 & 24.84013\\\\\n",
       "\t 2 & 42022 & 2021-08-15 00:10:00 & RAW & 72.43551 & 297.3429 & 24.74854\\\\\n",
       "\t 3 & 42022 & 2021-08-15 00:15:00 & RAW & 72.64743 & 297.4239 & 24.66797\\\\\n",
       "\t 4 & 42022 & 2021-08-15 00:20:00 & RAW & 72.76068 & 297.6219 & 24.64623\\\\\n",
       "\t 5 & 42022 & 2021-08-15 00:25:00 & RAW & 73.05018 & 297.7695 & 24.57725\\\\\n",
       "\\end{tabular}\n"
      ],
      "text/markdown": [
       "\n",
       "A tibble: 6 × 7\n",
       "\n",
       "| ...1 &lt;dbl&gt; | id &lt;dbl&gt; | date &lt;dttm&gt; | status &lt;chr&gt; | humidity &lt;dbl&gt; | no2 &lt;dbl&gt; | temperature &lt;dbl&gt; |\n",
       "|---|---|---|---|---|---|---|\n",
       "| 0 | 42022 | 2021-08-15 00:00:00 | RAW | 71.82511 | 297.1198 | 24.94795 |\n",
       "| 1 | 42022 | 2021-08-15 00:05:00 | RAW | 72.20479 | 297.1906 | 24.84013 |\n",
       "| 2 | 42022 | 2021-08-15 00:10:00 | RAW | 72.43551 | 297.3429 | 24.74854 |\n",
       "| 3 | 42022 | 2021-08-15 00:15:00 | RAW | 72.64743 | 297.4239 | 24.66797 |\n",
       "| 4 | 42022 | 2021-08-15 00:20:00 | RAW | 72.76068 | 297.6219 | 24.64623 |\n",
       "| 5 | 42022 | 2021-08-15 00:25:00 | RAW | 73.05018 | 297.7695 | 24.57725 |\n",
       "\n"
      ],
      "text/plain": [
       "  ...1 id    date                status humidity no2      temperature\n",
       "1 0    42022 2021-08-15 00:00:00 RAW    71.82511 297.1198 24.94795   \n",
       "2 1    42022 2021-08-15 00:05:00 RAW    72.20479 297.1906 24.84013   \n",
       "3 2    42022 2021-08-15 00:10:00 RAW    72.43551 297.3429 24.74854   \n",
       "4 3    42022 2021-08-15 00:15:00 RAW    72.64743 297.4239 24.66797   \n",
       "5 4    42022 2021-08-15 00:20:00 RAW    72.76068 297.6219 24.64623   \n",
       "6 5    42022 2021-08-15 00:25:00 RAW    73.05018 297.7695 24.57725   "
      ]
     },
     "metadata": {},
     "output_type": "display_data"
    }
   ],
   "source": [
    "# loading airly sensor (sensor ids = 7201, 7599, 7803; instal ids = 41414, 41816, 42022) data\n",
    "# for the period 15-08-2021 to 22-11-2021 (Only NO2, T and RH signals)\n",
    "data_file <- 'data/data_airly.csv'\n",
    "data_airly_all <- read_csv(file=data_file)#, col_types = cols(\"d\", \"d\", \"T\", \"c\", \"d\", \"d\", \"d\"))\n",
    "head(data_airly_all)"
   ]
  },
  {
   "cell_type": "code",
   "execution_count": 23,
   "metadata": {},
   "outputs": [
    {
     "name": "stderr",
     "output_type": "stream",
     "text": [
      "\u001b[1mRows: \u001b[22m\u001b[34m28512\u001b[39m \u001b[1mColumns: \u001b[22m\u001b[34m4\u001b[39m\n",
      "\n",
      "\u001b[36m──\u001b[39m \u001b[1mColumn specification\u001b[22m \u001b[36m────────────────────────────────────────────────────────\u001b[39m\n",
      "\u001b[1mDelimiter:\u001b[22m \",\"\n",
      "\u001b[32mdbl\u001b[39m  (3): NO, NO2, NOX\n",
      "\u001b[34mdttm\u001b[39m (1): Time\n",
      "\n",
      "\n",
      "\u001b[36mℹ\u001b[39m Use \u001b[30m\u001b[47m\u001b[30m\u001b[47m`spec()`\u001b[47m\u001b[30m\u001b[49m\u001b[39m to retrieve the full column specification for this data.\n",
      "\u001b[36mℹ\u001b[39m Specify the column types or set \u001b[30m\u001b[47m\u001b[30m\u001b[47m`show_col_types = FALSE`\u001b[47m\u001b[30m\u001b[49m\u001b[39m to quiet this message.\n",
      "\n"
     ]
    },
    {
     "data": {
      "text/html": [
       "<table class=\"dataframe\">\n",
       "<caption>A tibble: 6 × 5</caption>\n",
       "<thead>\n",
       "\t<tr><th scope=col>Time</th><th scope=col>NO</th><th scope=col>NO2</th><th scope=col>NOX</th><th scope=col>date</th></tr>\n",
       "\t<tr><th scope=col>&lt;dttm&gt;</th><th scope=col>&lt;dbl&gt;</th><th scope=col>&lt;dbl&gt;</th><th scope=col>&lt;dbl&gt;</th><th scope=col>&lt;dttm&gt;</th></tr>\n",
       "</thead>\n",
       "<tbody>\n",
       "\t<tr><td>2021-08-15 01:00:00</td><td>4.43</td><td>21.3</td><td>25.8</td><td>2021-08-15 00:00:00</td></tr>\n",
       "\t<tr><td>2021-08-15 01:05:00</td><td>3.14</td><td>20.8</td><td>24.0</td><td>2021-08-15 00:05:00</td></tr>\n",
       "\t<tr><td>2021-08-15 01:10:00</td><td>2.85</td><td>20.6</td><td>23.4</td><td>2021-08-15 00:10:00</td></tr>\n",
       "\t<tr><td>2021-08-15 01:15:00</td><td>3.60</td><td>20.8</td><td>24.4</td><td>2021-08-15 00:15:00</td></tr>\n",
       "\t<tr><td>2021-08-15 01:20:00</td><td>4.04</td><td>21.2</td><td>25.2</td><td>2021-08-15 00:20:00</td></tr>\n",
       "\t<tr><td>2021-08-15 01:25:00</td><td>4.53</td><td>22.0</td><td>26.5</td><td>2021-08-15 00:25:00</td></tr>\n",
       "</tbody>\n",
       "</table>\n"
      ],
      "text/latex": [
       "A tibble: 6 × 5\n",
       "\\begin{tabular}{lllll}\n",
       " Time & NO & NO2 & NOX & date\\\\\n",
       " <dttm> & <dbl> & <dbl> & <dbl> & <dttm>\\\\\n",
       "\\hline\n",
       "\t 2021-08-15 01:00:00 & 4.43 & 21.3 & 25.8 & 2021-08-15 00:00:00\\\\\n",
       "\t 2021-08-15 01:05:00 & 3.14 & 20.8 & 24.0 & 2021-08-15 00:05:00\\\\\n",
       "\t 2021-08-15 01:10:00 & 2.85 & 20.6 & 23.4 & 2021-08-15 00:10:00\\\\\n",
       "\t 2021-08-15 01:15:00 & 3.60 & 20.8 & 24.4 & 2021-08-15 00:15:00\\\\\n",
       "\t 2021-08-15 01:20:00 & 4.04 & 21.2 & 25.2 & 2021-08-15 00:20:00\\\\\n",
       "\t 2021-08-15 01:25:00 & 4.53 & 22.0 & 26.5 & 2021-08-15 00:25:00\\\\\n",
       "\\end{tabular}\n"
      ],
      "text/markdown": [
       "\n",
       "A tibble: 6 × 5\n",
       "\n",
       "| Time &lt;dttm&gt; | NO &lt;dbl&gt; | NO2 &lt;dbl&gt; | NOX &lt;dbl&gt; | date &lt;dttm&gt; |\n",
       "|---|---|---|---|---|\n",
       "| 2021-08-15 01:00:00 | 4.43 | 21.3 | 25.8 | 2021-08-15 00:00:00 |\n",
       "| 2021-08-15 01:05:00 | 3.14 | 20.8 | 24.0 | 2021-08-15 00:05:00 |\n",
       "| 2021-08-15 01:10:00 | 2.85 | 20.6 | 23.4 | 2021-08-15 00:10:00 |\n",
       "| 2021-08-15 01:15:00 | 3.60 | 20.8 | 24.4 | 2021-08-15 00:15:00 |\n",
       "| 2021-08-15 01:20:00 | 4.04 | 21.2 | 25.2 | 2021-08-15 00:20:00 |\n",
       "| 2021-08-15 01:25:00 | 4.53 | 22.0 | 26.5 | 2021-08-15 00:25:00 |\n",
       "\n"
      ],
      "text/plain": [
       "  Time                NO   NO2  NOX  date               \n",
       "1 2021-08-15 01:00:00 4.43 21.3 25.8 2021-08-15 00:00:00\n",
       "2 2021-08-15 01:05:00 3.14 20.8 24.0 2021-08-15 00:05:00\n",
       "3 2021-08-15 01:10:00 2.85 20.6 23.4 2021-08-15 00:10:00\n",
       "4 2021-08-15 01:15:00 3.60 20.8 24.4 2021-08-15 00:15:00\n",
       "5 2021-08-15 01:20:00 4.04 21.2 25.2 2021-08-15 00:20:00\n",
       "6 2021-08-15 01:25:00 4.53 22.0 26.5 2021-08-15 00:25:00"
      ]
     },
     "metadata": {},
     "output_type": "display_data"
    }
   ],
   "source": [
    "# loading coloated reference sensor (balcony analyser T200) data for the same period\n",
    "data_file <- 'data/data_ref-LONDON.csv'\n",
    "data_ref_all <- read_csv(file=data_file) %>% \n",
    "    mutate(Time = lubridate::force_tz(Time, \"Europe/London\")) %>%   # set time zone (for downloaded data) to pc local tzone\n",
    "    mutate(date = lubridate::with_tz(Time, \"UTC\")) # convert time zone to UTC to match airly data\n",
    "head(data_ref_all)"
   ]
  },
  {
   "cell_type": "code",
   "execution_count": 24,
   "metadata": {},
   "outputs": [],
   "source": [
    "ID = 42022"
   ]
  },
  {
   "cell_type": "code",
   "execution_count": 25,
   "metadata": {},
   "outputs": [
    {
     "data": {
      "text/html": [
       "<table class=\"dataframe\">\n",
       "<caption>A tibble: 6 × 5</caption>\n",
       "<thead>\n",
       "\t<tr><th scope=col>date</th><th scope=col>RAW</th><th scope=col>AUX</th><th scope=col>PPB</th><th scope=col>FINAL</th></tr>\n",
       "\t<tr><th scope=col>&lt;dttm&gt;</th><th scope=col>&lt;dbl&gt;</th><th scope=col>&lt;dbl&gt;</th><th scope=col>&lt;dbl&gt;</th><th scope=col>&lt;dbl&gt;</th></tr>\n",
       "</thead>\n",
       "<tbody>\n",
       "\t<tr><td>2021-08-15 00:00:00</td><td>297.1198</td><td>291.0501</td><td>26.00640</td><td>47.91067</td></tr>\n",
       "\t<tr><td>2021-08-15 00:05:00</td><td>297.1906</td><td>290.9707</td><td>26.64045</td><td>49.09779</td></tr>\n",
       "\t<tr><td>2021-08-15 00:10:00</td><td>297.3429</td><td>290.9539</td><td>27.30686</td><td>50.34218</td></tr>\n",
       "\t<tr><td>2021-08-15 00:15:00</td><td>297.4239</td><td>290.9917</td><td>27.46796</td><td>50.65224</td></tr>\n",
       "\t<tr><td>2021-08-15 00:20:00</td><td>297.6219</td><td>291.0800</td><td>27.83964</td><td>51.33843</td></tr>\n",
       "\t<tr><td>2021-08-15 00:25:00</td><td>297.7695</td><td>291.0375</td><td>28.59472</td><td>52.74053</td></tr>\n",
       "</tbody>\n",
       "</table>\n"
      ],
      "text/latex": [
       "A tibble: 6 × 5\n",
       "\\begin{tabular}{lllll}\n",
       " date & RAW & AUX & PPB & FINAL\\\\\n",
       " <dttm> & <dbl> & <dbl> & <dbl> & <dbl>\\\\\n",
       "\\hline\n",
       "\t 2021-08-15 00:00:00 & 297.1198 & 291.0501 & 26.00640 & 47.91067\\\\\n",
       "\t 2021-08-15 00:05:00 & 297.1906 & 290.9707 & 26.64045 & 49.09779\\\\\n",
       "\t 2021-08-15 00:10:00 & 297.3429 & 290.9539 & 27.30686 & 50.34218\\\\\n",
       "\t 2021-08-15 00:15:00 & 297.4239 & 290.9917 & 27.46796 & 50.65224\\\\\n",
       "\t 2021-08-15 00:20:00 & 297.6219 & 291.0800 & 27.83964 & 51.33843\\\\\n",
       "\t 2021-08-15 00:25:00 & 297.7695 & 291.0375 & 28.59472 & 52.74053\\\\\n",
       "\\end{tabular}\n"
      ],
      "text/markdown": [
       "\n",
       "A tibble: 6 × 5\n",
       "\n",
       "| date &lt;dttm&gt; | RAW &lt;dbl&gt; | AUX &lt;dbl&gt; | PPB &lt;dbl&gt; | FINAL &lt;dbl&gt; |\n",
       "|---|---|---|---|---|\n",
       "| 2021-08-15 00:00:00 | 297.1198 | 291.0501 | 26.00640 | 47.91067 |\n",
       "| 2021-08-15 00:05:00 | 297.1906 | 290.9707 | 26.64045 | 49.09779 |\n",
       "| 2021-08-15 00:10:00 | 297.3429 | 290.9539 | 27.30686 | 50.34218 |\n",
       "| 2021-08-15 00:15:00 | 297.4239 | 290.9917 | 27.46796 | 50.65224 |\n",
       "| 2021-08-15 00:20:00 | 297.6219 | 291.0800 | 27.83964 | 51.33843 |\n",
       "| 2021-08-15 00:25:00 | 297.7695 | 291.0375 | 28.59472 | 52.74053 |\n",
       "\n"
      ],
      "text/plain": [
       "  date                RAW      AUX      PPB      FINAL   \n",
       "1 2021-08-15 00:00:00 297.1198 291.0501 26.00640 47.91067\n",
       "2 2021-08-15 00:05:00 297.1906 290.9707 26.64045 49.09779\n",
       "3 2021-08-15 00:10:00 297.3429 290.9539 27.30686 50.34218\n",
       "4 2021-08-15 00:15:00 297.4239 290.9917 27.46796 50.65224\n",
       "5 2021-08-15 00:20:00 297.6219 291.0800 27.83964 51.33843\n",
       "6 2021-08-15 00:25:00 297.7695 291.0375 28.59472 52.74053"
      ]
     },
     "metadata": {},
     "output_type": "display_data"
    }
   ],
   "source": [
    "data_airly_id <- data_airly_all %>% \n",
    "    filter(id==ID) %>% \n",
    "    select(date, status, no2) %>% \n",
    "    pivot_wider(names_from = status, values_from = c(no2))\n",
    "head(data_airly_id)"
   ]
  },
  {
   "cell_type": "code",
   "execution_count": 26,
   "metadata": {},
   "outputs": [
    {
     "data": {
      "text/html": [
       "<table class=\"dataframe\">\n",
       "<caption>A tibble: 6 × 3</caption>\n",
       "<thead>\n",
       "\t<tr><th scope=col>date</th><th scope=col>temperature</th><th scope=col>humidity</th></tr>\n",
       "\t<tr><th scope=col>&lt;dttm&gt;</th><th scope=col>&lt;dbl&gt;</th><th scope=col>&lt;dbl&gt;</th></tr>\n",
       "</thead>\n",
       "<tbody>\n",
       "\t<tr><td>2021-08-15 00:00:00</td><td>24.94795</td><td>71.82511</td></tr>\n",
       "\t<tr><td>2021-08-15 00:05:00</td><td>24.84013</td><td>72.20479</td></tr>\n",
       "\t<tr><td>2021-08-15 00:10:00</td><td>24.74854</td><td>72.43551</td></tr>\n",
       "\t<tr><td>2021-08-15 00:15:00</td><td>24.66797</td><td>72.64743</td></tr>\n",
       "\t<tr><td>2021-08-15 00:20:00</td><td>24.64623</td><td>72.76068</td></tr>\n",
       "\t<tr><td>2021-08-15 00:25:00</td><td>24.57725</td><td>73.05018</td></tr>\n",
       "</tbody>\n",
       "</table>\n"
      ],
      "text/latex": [
       "A tibble: 6 × 3\n",
       "\\begin{tabular}{lll}\n",
       " date & temperature & humidity\\\\\n",
       " <dttm> & <dbl> & <dbl>\\\\\n",
       "\\hline\n",
       "\t 2021-08-15 00:00:00 & 24.94795 & 71.82511\\\\\n",
       "\t 2021-08-15 00:05:00 & 24.84013 & 72.20479\\\\\n",
       "\t 2021-08-15 00:10:00 & 24.74854 & 72.43551\\\\\n",
       "\t 2021-08-15 00:15:00 & 24.66797 & 72.64743\\\\\n",
       "\t 2021-08-15 00:20:00 & 24.64623 & 72.76068\\\\\n",
       "\t 2021-08-15 00:25:00 & 24.57725 & 73.05018\\\\\n",
       "\\end{tabular}\n"
      ],
      "text/markdown": [
       "\n",
       "A tibble: 6 × 3\n",
       "\n",
       "| date &lt;dttm&gt; | temperature &lt;dbl&gt; | humidity &lt;dbl&gt; |\n",
       "|---|---|---|\n",
       "| 2021-08-15 00:00:00 | 24.94795 | 71.82511 |\n",
       "| 2021-08-15 00:05:00 | 24.84013 | 72.20479 |\n",
       "| 2021-08-15 00:10:00 | 24.74854 | 72.43551 |\n",
       "| 2021-08-15 00:15:00 | 24.66797 | 72.64743 |\n",
       "| 2021-08-15 00:20:00 | 24.64623 | 72.76068 |\n",
       "| 2021-08-15 00:25:00 | 24.57725 | 73.05018 |\n",
       "\n"
      ],
      "text/plain": [
       "  date                temperature humidity\n",
       "1 2021-08-15 00:00:00 24.94795    71.82511\n",
       "2 2021-08-15 00:05:00 24.84013    72.20479\n",
       "3 2021-08-15 00:10:00 24.74854    72.43551\n",
       "4 2021-08-15 00:15:00 24.66797    72.64743\n",
       "5 2021-08-15 00:20:00 24.64623    72.76068\n",
       "6 2021-08-15 00:25:00 24.57725    73.05018"
      ]
     },
     "metadata": {},
     "output_type": "display_data"
    }
   ],
   "source": [
    "data_airly_TRH <- data_airly_all %>% \n",
    "    filter(id==ID) %>% \n",
    "    filter(status==\"RAW\") %>% \n",
    "    select(date, temperature, humidity)\n",
    "head(data_airly_TRH)"
   ]
  },
  {
   "cell_type": "code",
   "execution_count": 28,
   "metadata": {},
   "outputs": [
    {
     "name": "stderr",
     "output_type": "stream",
     "text": [
      "also installing the dependencies ‘jpeg’, ‘latticeExtra’, ‘mapproj’\n",
      "\n",
      "\n",
      "Updating HTML index of packages in '.Library'\n",
      "\n",
      "Making 'packages.html' ...\n",
      " done\n",
      "\n",
      "\n",
      "Attaching package: ‘openair’\n",
      "\n",
      "\n",
      "The following object is masked from ‘package:reticulate’:\n",
      "\n",
      "    import\n",
      "\n",
      "\n"
     ]
    }
   ],
   "source": [
    "install.packages('openair')\n",
    "library(openair)"
   ]
  },
  {
   "cell_type": "code",
   "execution_count": 29,
   "metadata": {},
   "outputs": [],
   "source": [
    "data_base <- data_airly_id %>% \n",
    "    openair::timeAverage(avg.time = \"60 min\", statistic = \"min\", start.date = \"2021-08-15 00:00:00\")"
   ]
  },
  {
   "cell_type": "code",
   "execution_count": 30,
   "metadata": {},
   "outputs": [],
   "source": [
    "data_base_TRH <- data_airly_TRH %>% \n",
    "    openair::timeAverage(avg.time = \"60 min\", statistic = \"mean\", start.date = \"2021-08-15 00:00:00\")"
   ]
  },
  {
   "cell_type": "code",
   "execution_count": 31,
   "metadata": {},
   "outputs": [
    {
     "data": {
      "text/html": [
       "<table class=\"dataframe\">\n",
       "<caption>A data.frame: 6 × 3</caption>\n",
       "<thead>\n",
       "\t<tr><th></th><th scope=col>date</th><th scope=col>RAW</th><th scope=col>temperature</th></tr>\n",
       "\t<tr><th></th><th scope=col>&lt;dttm&gt;</th><th scope=col>&lt;dbl&gt;</th><th scope=col>&lt;dbl&gt;</th></tr>\n",
       "</thead>\n",
       "<tbody>\n",
       "\t<tr><th scope=row>1</th><td>2021-08-15 00:00:00</td><td>297.1198</td><td>24.60835</td></tr>\n",
       "\t<tr><th scope=row>2</th><td>2021-08-15 01:00:00</td><td>296.3621</td><td>23.92445</td></tr>\n",
       "\t<tr><th scope=row>3</th><td>2021-08-15 02:00:00</td><td>295.7771</td><td>23.37839</td></tr>\n",
       "\t<tr><th scope=row>4</th><td>2021-08-15 03:00:00</td><td>295.4487</td><td>22.81762</td></tr>\n",
       "\t<tr><th scope=row>5</th><td>2021-08-15 04:00:00</td><td>295.5031</td><td>22.99725</td></tr>\n",
       "\t<tr><th scope=row>6</th><td>2021-08-15 05:00:00</td><td>294.5177</td><td>24.34073</td></tr>\n",
       "</tbody>\n",
       "</table>\n"
      ],
      "text/latex": [
       "A data.frame: 6 × 3\n",
       "\\begin{tabular}{r|lll}\n",
       "  & date & RAW & temperature\\\\\n",
       "  & <dttm> & <dbl> & <dbl>\\\\\n",
       "\\hline\n",
       "\t1 & 2021-08-15 00:00:00 & 297.1198 & 24.60835\\\\\n",
       "\t2 & 2021-08-15 01:00:00 & 296.3621 & 23.92445\\\\\n",
       "\t3 & 2021-08-15 02:00:00 & 295.7771 & 23.37839\\\\\n",
       "\t4 & 2021-08-15 03:00:00 & 295.4487 & 22.81762\\\\\n",
       "\t5 & 2021-08-15 04:00:00 & 295.5031 & 22.99725\\\\\n",
       "\t6 & 2021-08-15 05:00:00 & 294.5177 & 24.34073\\\\\n",
       "\\end{tabular}\n"
      ],
      "text/markdown": [
       "\n",
       "A data.frame: 6 × 3\n",
       "\n",
       "| <!--/--> | date &lt;dttm&gt; | RAW &lt;dbl&gt; | temperature &lt;dbl&gt; |\n",
       "|---|---|---|---|\n",
       "| 1 | 2021-08-15 00:00:00 | 297.1198 | 24.60835 |\n",
       "| 2 | 2021-08-15 01:00:00 | 296.3621 | 23.92445 |\n",
       "| 3 | 2021-08-15 02:00:00 | 295.7771 | 23.37839 |\n",
       "| 4 | 2021-08-15 03:00:00 | 295.4487 | 22.81762 |\n",
       "| 5 | 2021-08-15 04:00:00 | 295.5031 | 22.99725 |\n",
       "| 6 | 2021-08-15 05:00:00 | 294.5177 | 24.34073 |\n",
       "\n"
      ],
      "text/plain": [
       "  date                RAW      temperature\n",
       "1 2021-08-15 00:00:00 297.1198 24.60835   \n",
       "2 2021-08-15 01:00:00 296.3621 23.92445   \n",
       "3 2021-08-15 02:00:00 295.7771 23.37839   \n",
       "4 2021-08-15 03:00:00 295.4487 22.81762   \n",
       "5 2021-08-15 04:00:00 295.5031 22.99725   \n",
       "6 2021-08-15 05:00:00 294.5177 24.34073   "
      ]
     },
     "metadata": {},
     "output_type": "display_data"
    }
   ],
   "source": [
    "data_base_comb <- cbind(data_base[,1:2], data_base_TRH[,2]) %>% \n",
    "    na.exclude()\n",
    "head(data_base_comb)"
   ]
  },
  {
   "cell_type": "code",
   "execution_count": 32,
   "metadata": {},
   "outputs": [],
   "source": [
    "base_train <- data_base_comb %>% \n",
    "    select(-date)"
   ]
  },
  {
   "cell_type": "code",
   "execution_count": null,
   "metadata": {},
   "outputs": [],
   "source": [
    "write_csv(base_train, \"data/base_train.csv\")"
   ]
  },
  {
   "cell_type": "code",
   "execution_count": 33,
   "metadata": {
    "scrolled": true
   },
   "outputs": [
    {
     "data": {
      "text/html": [
       "<table class=\"dataframe\">\n",
       "<caption>A data.frame: 6 × 7</caption>\n",
       "<thead>\n",
       "\t<tr><th></th><th scope=col>date</th><th scope=col>RAW</th><th scope=col>AUX</th><th scope=col>PPB</th><th scope=col>FINAL</th><th scope=col>temperature</th><th scope=col>humidity</th></tr>\n",
       "\t<tr><th></th><th scope=col>&lt;dttm&gt;</th><th scope=col>&lt;dbl&gt;</th><th scope=col>&lt;dbl&gt;</th><th scope=col>&lt;dbl&gt;</th><th scope=col>&lt;dbl&gt;</th><th scope=col>&lt;dbl&gt;</th><th scope=col>&lt;dbl&gt;</th></tr>\n",
       "</thead>\n",
       "<tbody>\n",
       "\t<tr><th scope=row>1</th><td>2021-08-15 00:00:00</td><td>297.1198</td><td>291.0501</td><td>26.00640</td><td>47.91067</td><td>24.94795</td><td>71.82511</td></tr>\n",
       "\t<tr><th scope=row>2</th><td>2021-08-15 00:05:00</td><td>297.1906</td><td>290.9707</td><td>26.64045</td><td>49.09779</td><td>24.84013</td><td>72.20479</td></tr>\n",
       "\t<tr><th scope=row>3</th><td>2021-08-15 00:10:00</td><td>297.3429</td><td>290.9539</td><td>27.30686</td><td>50.34218</td><td>24.74854</td><td>72.43551</td></tr>\n",
       "\t<tr><th scope=row>4</th><td>2021-08-15 00:15:00</td><td>297.4239</td><td>290.9917</td><td>27.46796</td><td>50.65224</td><td>24.66797</td><td>72.64743</td></tr>\n",
       "\t<tr><th scope=row>5</th><td>2021-08-15 00:20:00</td><td>297.6219</td><td>291.0800</td><td>27.83964</td><td>51.33843</td><td>24.64623</td><td>72.76068</td></tr>\n",
       "\t<tr><th scope=row>6</th><td>2021-08-15 00:25:00</td><td>297.7695</td><td>291.0375</td><td>28.59472</td><td>52.74053</td><td>24.57725</td><td>73.05018</td></tr>\n",
       "</tbody>\n",
       "</table>\n"
      ],
      "text/latex": [
       "A data.frame: 6 × 7\n",
       "\\begin{tabular}{r|lllllll}\n",
       "  & date & RAW & AUX & PPB & FINAL & temperature & humidity\\\\\n",
       "  & <dttm> & <dbl> & <dbl> & <dbl> & <dbl> & <dbl> & <dbl>\\\\\n",
       "\\hline\n",
       "\t1 & 2021-08-15 00:00:00 & 297.1198 & 291.0501 & 26.00640 & 47.91067 & 24.94795 & 71.82511\\\\\n",
       "\t2 & 2021-08-15 00:05:00 & 297.1906 & 290.9707 & 26.64045 & 49.09779 & 24.84013 & 72.20479\\\\\n",
       "\t3 & 2021-08-15 00:10:00 & 297.3429 & 290.9539 & 27.30686 & 50.34218 & 24.74854 & 72.43551\\\\\n",
       "\t4 & 2021-08-15 00:15:00 & 297.4239 & 290.9917 & 27.46796 & 50.65224 & 24.66797 & 72.64743\\\\\n",
       "\t5 & 2021-08-15 00:20:00 & 297.6219 & 291.0800 & 27.83964 & 51.33843 & 24.64623 & 72.76068\\\\\n",
       "\t6 & 2021-08-15 00:25:00 & 297.7695 & 291.0375 & 28.59472 & 52.74053 & 24.57725 & 73.05018\\\\\n",
       "\\end{tabular}\n"
      ],
      "text/markdown": [
       "\n",
       "A data.frame: 6 × 7\n",
       "\n",
       "| <!--/--> | date &lt;dttm&gt; | RAW &lt;dbl&gt; | AUX &lt;dbl&gt; | PPB &lt;dbl&gt; | FINAL &lt;dbl&gt; | temperature &lt;dbl&gt; | humidity &lt;dbl&gt; |\n",
       "|---|---|---|---|---|---|---|---|\n",
       "| 1 | 2021-08-15 00:00:00 | 297.1198 | 291.0501 | 26.00640 | 47.91067 | 24.94795 | 71.82511 |\n",
       "| 2 | 2021-08-15 00:05:00 | 297.1906 | 290.9707 | 26.64045 | 49.09779 | 24.84013 | 72.20479 |\n",
       "| 3 | 2021-08-15 00:10:00 | 297.3429 | 290.9539 | 27.30686 | 50.34218 | 24.74854 | 72.43551 |\n",
       "| 4 | 2021-08-15 00:15:00 | 297.4239 | 290.9917 | 27.46796 | 50.65224 | 24.66797 | 72.64743 |\n",
       "| 5 | 2021-08-15 00:20:00 | 297.6219 | 291.0800 | 27.83964 | 51.33843 | 24.64623 | 72.76068 |\n",
       "| 6 | 2021-08-15 00:25:00 | 297.7695 | 291.0375 | 28.59472 | 52.74053 | 24.57725 | 73.05018 |\n",
       "\n"
      ],
      "text/plain": [
       "  date                RAW      AUX      PPB      FINAL    temperature humidity\n",
       "1 2021-08-15 00:00:00 297.1198 291.0501 26.00640 47.91067 24.94795    71.82511\n",
       "2 2021-08-15 00:05:00 297.1906 290.9707 26.64045 49.09779 24.84013    72.20479\n",
       "3 2021-08-15 00:10:00 297.3429 290.9539 27.30686 50.34218 24.74854    72.43551\n",
       "4 2021-08-15 00:15:00 297.4239 290.9917 27.46796 50.65224 24.66797    72.64743\n",
       "5 2021-08-15 00:20:00 297.6219 291.0800 27.83964 51.33843 24.64623    72.76068\n",
       "6 2021-08-15 00:25:00 297.7695 291.0375 28.59472 52.74053 24.57725    73.05018"
      ]
     },
     "metadata": {},
     "output_type": "display_data"
    }
   ],
   "source": [
    "data_airly_idTRH <- merge(data_airly_id, data_airly_TRH)\n",
    "head(data_airly_idTRH)"
   ]
  },
  {
   "cell_type": "code",
   "execution_count": 34,
   "metadata": {},
   "outputs": [],
   "source": [
    "# split data into training; first 30 days (~30%), the rest for test (~70%)\n",
    "data_airly_train <- data_airly_idTRH %>%\n",
    "  filter(date < \"2021-09-15 00-00-00\")\n",
    "\n",
    "data_airly_test <- data_airly_idTRH %>%\n",
    "  filter(date >= \"2021-09-15 00-00-00\")\n",
    "\n",
    "data_ref_train <- data_ref_all %>%\n",
    "  filter(date < \"2021-09-15 00-00-00\")\n",
    "\n",
    "data_ref_test <- data_ref_all %>%\n",
    "  filter(date >= \"2021-09-15 00-00-00\")"
   ]
  },
  {
   "cell_type": "code",
   "execution_count": 36,
   "metadata": {},
   "outputs": [
    {
     "data": {
      "text/html": [
       "<table class=\"dataframe\">\n",
       "<caption>A data.frame: 6 × 7</caption>\n",
       "<thead>\n",
       "\t<tr><th></th><th scope=col>date</th><th scope=col>RAW</th><th scope=col>AUX</th><th scope=col>PPB</th><th scope=col>FINAL</th><th scope=col>temperature</th><th scope=col>humidity</th></tr>\n",
       "\t<tr><th></th><th scope=col>&lt;dttm&gt;</th><th scope=col>&lt;dbl&gt;</th><th scope=col>&lt;dbl&gt;</th><th scope=col>&lt;dbl&gt;</th><th scope=col>&lt;dbl&gt;</th><th scope=col>&lt;dbl&gt;</th><th scope=col>&lt;dbl&gt;</th></tr>\n",
       "</thead>\n",
       "<tbody>\n",
       "\t<tr><th scope=row>1</th><td>2021-09-15 00:00:00</td><td>297.0186</td><td>290.4469</td><td>30.05517</td><td>48.12218</td><td>17.34458</td><td>84.18478</td></tr>\n",
       "\t<tr><th scope=row>2</th><td>2021-09-15 00:05:00</td><td>296.9539</td><td>290.4402</td><td>29.83899</td><td>47.84300</td><td>17.30262</td><td>84.36512</td></tr>\n",
       "\t<tr><th scope=row>3</th><td>2021-09-15 00:10:00</td><td>296.9006</td><td>290.4230</td><td>29.70262</td><td>47.66598</td><td>17.26921</td><td>84.36981</td></tr>\n",
       "\t<tr><th scope=row>4</th><td>2021-09-15 00:15:00</td><td>297.4361</td><td>290.4441</td><td>31.75936</td><td>50.37513</td><td>17.22725</td><td>84.76824</td></tr>\n",
       "\t<tr><th scope=row>5</th><td>2021-09-15 00:20:00</td><td>297.4461</td><td>290.3990</td><td>31.98491</td><td>50.67905</td><td>17.16810</td><td>85.36808</td></tr>\n",
       "\t<tr><th scope=row>6</th><td>2021-09-15 00:25:00</td><td>297.3139</td><td>290.4098</td><td>31.43061</td><td>49.95518</td><td>17.14620</td><td>85.35519</td></tr>\n",
       "</tbody>\n",
       "</table>\n"
      ],
      "text/latex": [
       "A data.frame: 6 × 7\n",
       "\\begin{tabular}{r|lllllll}\n",
       "  & date & RAW & AUX & PPB & FINAL & temperature & humidity\\\\\n",
       "  & <dttm> & <dbl> & <dbl> & <dbl> & <dbl> & <dbl> & <dbl>\\\\\n",
       "\\hline\n",
       "\t1 & 2021-09-15 00:00:00 & 297.0186 & 290.4469 & 30.05517 & 48.12218 & 17.34458 & 84.18478\\\\\n",
       "\t2 & 2021-09-15 00:05:00 & 296.9539 & 290.4402 & 29.83899 & 47.84300 & 17.30262 & 84.36512\\\\\n",
       "\t3 & 2021-09-15 00:10:00 & 296.9006 & 290.4230 & 29.70262 & 47.66598 & 17.26921 & 84.36981\\\\\n",
       "\t4 & 2021-09-15 00:15:00 & 297.4361 & 290.4441 & 31.75936 & 50.37513 & 17.22725 & 84.76824\\\\\n",
       "\t5 & 2021-09-15 00:20:00 & 297.4461 & 290.3990 & 31.98491 & 50.67905 & 17.16810 & 85.36808\\\\\n",
       "\t6 & 2021-09-15 00:25:00 & 297.3139 & 290.4098 & 31.43061 & 49.95518 & 17.14620 & 85.35519\\\\\n",
       "\\end{tabular}\n"
      ],
      "text/markdown": [
       "\n",
       "A data.frame: 6 × 7\n",
       "\n",
       "| <!--/--> | date &lt;dttm&gt; | RAW &lt;dbl&gt; | AUX &lt;dbl&gt; | PPB &lt;dbl&gt; | FINAL &lt;dbl&gt; | temperature &lt;dbl&gt; | humidity &lt;dbl&gt; |\n",
       "|---|---|---|---|---|---|---|---|\n",
       "| 1 | 2021-09-15 00:00:00 | 297.0186 | 290.4469 | 30.05517 | 48.12218 | 17.34458 | 84.18478 |\n",
       "| 2 | 2021-09-15 00:05:00 | 296.9539 | 290.4402 | 29.83899 | 47.84300 | 17.30262 | 84.36512 |\n",
       "| 3 | 2021-09-15 00:10:00 | 296.9006 | 290.4230 | 29.70262 | 47.66598 | 17.26921 | 84.36981 |\n",
       "| 4 | 2021-09-15 00:15:00 | 297.4361 | 290.4441 | 31.75936 | 50.37513 | 17.22725 | 84.76824 |\n",
       "| 5 | 2021-09-15 00:20:00 | 297.4461 | 290.3990 | 31.98491 | 50.67905 | 17.16810 | 85.36808 |\n",
       "| 6 | 2021-09-15 00:25:00 | 297.3139 | 290.4098 | 31.43061 | 49.95518 | 17.14620 | 85.35519 |\n",
       "\n"
      ],
      "text/plain": [
       "  date                RAW      AUX      PPB      FINAL    temperature humidity\n",
       "1 2021-09-15 00:00:00 297.0186 290.4469 30.05517 48.12218 17.34458    84.18478\n",
       "2 2021-09-15 00:05:00 296.9539 290.4402 29.83899 47.84300 17.30262    84.36512\n",
       "3 2021-09-15 00:10:00 296.9006 290.4230 29.70262 47.66598 17.26921    84.36981\n",
       "4 2021-09-15 00:15:00 297.4361 290.4441 31.75936 50.37513 17.22725    84.76824\n",
       "5 2021-09-15 00:20:00 297.4461 290.3990 31.98491 50.67905 17.16810    85.36808\n",
       "6 2021-09-15 00:25:00 297.3139 290.4098 31.43061 49.95518 17.14620    85.35519"
      ]
     },
     "metadata": {},
     "output_type": "display_data"
    }
   ],
   "source": [
    "head(data_airly_test)"
   ]
  },
  {
   "cell_type": "code",
   "execution_count": 37,
   "metadata": {},
   "outputs": [],
   "source": [
    "data_airly_train_1hr <- data_airly_train %>% \n",
    "    openair::timeAverage(avg.time = \"60 min\", statistic = \"mean\", start.date = \"2021-08-15 00:00:00\")\n",
    "\n",
    "data_ref_train_1hr <- data_ref_train %>% \n",
    "    openair::timeAverage(avg.time = \"60 min\", statistic = \"mean\", start.date = \"2021-08-15 00:00:00\")"
   ]
  },
  {
   "cell_type": "code",
   "execution_count": 38,
   "metadata": {},
   "outputs": [],
   "source": [
    "data_train_comb <- inner_join(data_airly_train_1hr, data_ref_train_1hr, by=c(\"date\"=\"date\"))"
   ]
  },
  {
   "cell_type": "code",
   "execution_count": null,
   "metadata": {},
   "outputs": [],
   "source": []
  },
  {
   "cell_type": "code",
   "execution_count": 39,
   "metadata": {},
   "outputs": [
    {
     "data": {
      "text/html": [
       "<table class=\"dataframe\">\n",
       "<caption>A tibble: 6 × 11</caption>\n",
       "<thead>\n",
       "\t<tr><th scope=col>date</th><th scope=col>RAW</th><th scope=col>AUX</th><th scope=col>PPB</th><th scope=col>FINAL</th><th scope=col>temperature</th><th scope=col>humidity</th><th scope=col>Time</th><th scope=col>NO</th><th scope=col>NO2</th><th scope=col>NOX</th></tr>\n",
       "\t<tr><th scope=col>&lt;dttm&gt;</th><th scope=col>&lt;dbl&gt;</th><th scope=col>&lt;dbl&gt;</th><th scope=col>&lt;dbl&gt;</th><th scope=col>&lt;dbl&gt;</th><th scope=col>&lt;dbl&gt;</th><th scope=col>&lt;dbl&gt;</th><th scope=col>&lt;dttm&gt;</th><th scope=col>&lt;dbl&gt;</th><th scope=col>&lt;dbl&gt;</th><th scope=col>&lt;dbl&gt;</th></tr>\n",
       "</thead>\n",
       "<tbody>\n",
       "\t<tr><td>2021-08-15 00:00:00</td><td>297.4983</td><td>291.0624</td><td>27.46018</td><td>50.64405</td><td>24.60835</td><td>72.84120</td><td>2021-08-15 01:27:30</td><td>4.676667</td><td>21.55833</td><td>26.22500</td></tr>\n",
       "\t<tr><td>2021-08-15 01:00:00</td><td>296.7222</td><td>290.9680</td><td>25.08844</td><td>46.37331</td><td>23.92445</td><td>74.40823</td><td>2021-08-15 02:27:30</td><td>4.335833</td><td>17.80000</td><td>22.15000</td></tr>\n",
       "\t<tr><td>2021-08-15 02:00:00</td><td>296.2973</td><td>290.9715</td><td>23.58629</td><td>43.66986</td><td>23.37839</td><td>75.36103</td><td>2021-08-15 03:27:30</td><td>4.755000</td><td>15.29167</td><td>20.05000</td></tr>\n",
       "\t<tr><td>2021-08-15 03:00:00</td><td>295.6056</td><td>290.8266</td><td>21.67852</td><td>40.20739</td><td>22.81762</td><td>75.84851</td><td>2021-08-15 04:27:30</td><td>3.353333</td><td>11.87417</td><td>15.22500</td></tr>\n",
       "\t<tr><td>2021-08-15 04:00:00</td><td>295.7697</td><td>291.0592</td><td>21.30270</td><td>39.47796</td><td>22.99725</td><td>75.73416</td><td>2021-08-15 05:27:30</td><td>2.855000</td><td>10.91667</td><td>13.77500</td></tr>\n",
       "\t<tr><td>2021-08-15 05:00:00</td><td>295.5761</td><td>291.3231</td><td>19.16184</td><td>35.35252</td><td>24.34073</td><td>73.23513</td><td>2021-08-15 06:27:30</td><td>4.393333</td><td>13.33333</td><td>17.73333</td></tr>\n",
       "</tbody>\n",
       "</table>\n"
      ],
      "text/latex": [
       "A tibble: 6 × 11\n",
       "\\begin{tabular}{lllllllllll}\n",
       " date & RAW & AUX & PPB & FINAL & temperature & humidity & Time & NO & NO2 & NOX\\\\\n",
       " <dttm> & <dbl> & <dbl> & <dbl> & <dbl> & <dbl> & <dbl> & <dttm> & <dbl> & <dbl> & <dbl>\\\\\n",
       "\\hline\n",
       "\t 2021-08-15 00:00:00 & 297.4983 & 291.0624 & 27.46018 & 50.64405 & 24.60835 & 72.84120 & 2021-08-15 01:27:30 & 4.676667 & 21.55833 & 26.22500\\\\\n",
       "\t 2021-08-15 01:00:00 & 296.7222 & 290.9680 & 25.08844 & 46.37331 & 23.92445 & 74.40823 & 2021-08-15 02:27:30 & 4.335833 & 17.80000 & 22.15000\\\\\n",
       "\t 2021-08-15 02:00:00 & 296.2973 & 290.9715 & 23.58629 & 43.66986 & 23.37839 & 75.36103 & 2021-08-15 03:27:30 & 4.755000 & 15.29167 & 20.05000\\\\\n",
       "\t 2021-08-15 03:00:00 & 295.6056 & 290.8266 & 21.67852 & 40.20739 & 22.81762 & 75.84851 & 2021-08-15 04:27:30 & 3.353333 & 11.87417 & 15.22500\\\\\n",
       "\t 2021-08-15 04:00:00 & 295.7697 & 291.0592 & 21.30270 & 39.47796 & 22.99725 & 75.73416 & 2021-08-15 05:27:30 & 2.855000 & 10.91667 & 13.77500\\\\\n",
       "\t 2021-08-15 05:00:00 & 295.5761 & 291.3231 & 19.16184 & 35.35252 & 24.34073 & 73.23513 & 2021-08-15 06:27:30 & 4.393333 & 13.33333 & 17.73333\\\\\n",
       "\\end{tabular}\n"
      ],
      "text/markdown": [
       "\n",
       "A tibble: 6 × 11\n",
       "\n",
       "| date &lt;dttm&gt; | RAW &lt;dbl&gt; | AUX &lt;dbl&gt; | PPB &lt;dbl&gt; | FINAL &lt;dbl&gt; | temperature &lt;dbl&gt; | humidity &lt;dbl&gt; | Time &lt;dttm&gt; | NO &lt;dbl&gt; | NO2 &lt;dbl&gt; | NOX &lt;dbl&gt; |\n",
       "|---|---|---|---|---|---|---|---|---|---|---|\n",
       "| 2021-08-15 00:00:00 | 297.4983 | 291.0624 | 27.46018 | 50.64405 | 24.60835 | 72.84120 | 2021-08-15 01:27:30 | 4.676667 | 21.55833 | 26.22500 |\n",
       "| 2021-08-15 01:00:00 | 296.7222 | 290.9680 | 25.08844 | 46.37331 | 23.92445 | 74.40823 | 2021-08-15 02:27:30 | 4.335833 | 17.80000 | 22.15000 |\n",
       "| 2021-08-15 02:00:00 | 296.2973 | 290.9715 | 23.58629 | 43.66986 | 23.37839 | 75.36103 | 2021-08-15 03:27:30 | 4.755000 | 15.29167 | 20.05000 |\n",
       "| 2021-08-15 03:00:00 | 295.6056 | 290.8266 | 21.67852 | 40.20739 | 22.81762 | 75.84851 | 2021-08-15 04:27:30 | 3.353333 | 11.87417 | 15.22500 |\n",
       "| 2021-08-15 04:00:00 | 295.7697 | 291.0592 | 21.30270 | 39.47796 | 22.99725 | 75.73416 | 2021-08-15 05:27:30 | 2.855000 | 10.91667 | 13.77500 |\n",
       "| 2021-08-15 05:00:00 | 295.5761 | 291.3231 | 19.16184 | 35.35252 | 24.34073 | 73.23513 | 2021-08-15 06:27:30 | 4.393333 | 13.33333 | 17.73333 |\n",
       "\n"
      ],
      "text/plain": [
       "  date                RAW      AUX      PPB      FINAL    temperature humidity\n",
       "1 2021-08-15 00:00:00 297.4983 291.0624 27.46018 50.64405 24.60835    72.84120\n",
       "2 2021-08-15 01:00:00 296.7222 290.9680 25.08844 46.37331 23.92445    74.40823\n",
       "3 2021-08-15 02:00:00 296.2973 290.9715 23.58629 43.66986 23.37839    75.36103\n",
       "4 2021-08-15 03:00:00 295.6056 290.8266 21.67852 40.20739 22.81762    75.84851\n",
       "5 2021-08-15 04:00:00 295.7697 291.0592 21.30270 39.47796 22.99725    75.73416\n",
       "6 2021-08-15 05:00:00 295.5761 291.3231 19.16184 35.35252 24.34073    73.23513\n",
       "  Time                NO       NO2      NOX     \n",
       "1 2021-08-15 01:27:30 4.676667 21.55833 26.22500\n",
       "2 2021-08-15 02:27:30 4.335833 17.80000 22.15000\n",
       "3 2021-08-15 03:27:30 4.755000 15.29167 20.05000\n",
       "4 2021-08-15 04:27:30 3.353333 11.87417 15.22500\n",
       "5 2021-08-15 05:27:30 2.855000 10.91667 13.77500\n",
       "6 2021-08-15 06:27:30 4.393333 13.33333 17.73333"
      ]
     },
     "metadata": {},
     "output_type": "display_data"
    }
   ],
   "source": [
    "head(data_train_comb)"
   ]
  },
  {
   "cell_type": "code",
   "execution_count": 41,
   "metadata": {},
   "outputs": [],
   "source": [
    "gas_train <- data_train_comb %>% \n",
    "    select(NO2, RAW, temperature) %>% \n",
    "    na.exclude()"
   ]
  },
  {
   "cell_type": "code",
   "execution_count": 42,
   "metadata": {},
   "outputs": [],
   "source": [
    "write_csv(gas_train, \"data/gas_train.csv\")"
   ]
  },
  {
   "cell_type": "code",
   "execution_count": null,
   "metadata": {},
   "outputs": [],
   "source": []
  },
  {
   "cell_type": "code",
   "execution_count": 48,
   "metadata": {},
   "outputs": [],
   "source": [
    "data_airly_test_1hr <- data_airly_test %>% \n",
    "    openair::timeAverage(avg.time = \"60 min\", statistic = \"mean\", start.date = \"2021-09-15 00:00:00\")\n",
    "\n",
    "data_ref_test_1hr <- data_ref_test %>% \n",
    "    openair::timeAverage(avg.time = \"60 min\", statistic = \"mean\", start.date = \"2021-09-15 00:00:00\")"
   ]
  },
  {
   "cell_type": "code",
   "execution_count": 49,
   "metadata": {},
   "outputs": [],
   "source": [
    "data_test_comb <- inner_join(data_airly_test_1hr, data_ref_test_1hr, by=c(\"date\"=\"date\"))"
   ]
  },
  {
   "cell_type": "code",
   "execution_count": 50,
   "metadata": {
    "scrolled": true
   },
   "outputs": [
    {
     "data": {
      "text/html": [
       "<table class=\"dataframe\">\n",
       "<caption>A tibble: 6 × 11</caption>\n",
       "<thead>\n",
       "\t<tr><th scope=col>date</th><th scope=col>RAW</th><th scope=col>AUX</th><th scope=col>PPB</th><th scope=col>FINAL</th><th scope=col>temperature</th><th scope=col>humidity</th><th scope=col>Time</th><th scope=col>NO</th><th scope=col>NO2</th><th scope=col>NOX</th></tr>\n",
       "\t<tr><th scope=col>&lt;dttm&gt;</th><th scope=col>&lt;dbl&gt;</th><th scope=col>&lt;dbl&gt;</th><th scope=col>&lt;dbl&gt;</th><th scope=col>&lt;dbl&gt;</th><th scope=col>&lt;dbl&gt;</th><th scope=col>&lt;dbl&gt;</th><th scope=col>&lt;dttm&gt;</th><th scope=col>&lt;dbl&gt;</th><th scope=col>&lt;dbl&gt;</th><th scope=col>&lt;dbl&gt;</th></tr>\n",
       "</thead>\n",
       "<tbody>\n",
       "\t<tr><td>2021-09-15 00:00:00</td><td>297.1858</td><td>290.4173</td><td>30.91114</td><td>49.27974</td><td>17.10584</td><td>85.24315</td><td>2021-09-15 01:27:30</td><td> 6.069167</td><td>20.91667</td><td>26.98333</td></tr>\n",
       "\t<tr><td>2021-09-15 01:00:00</td><td>296.6088</td><td>290.4185</td><td>28.79548</td><td>46.56564</td><td>16.60335</td><td>86.91472</td><td>2021-09-15 02:27:30</td><td> 5.256667</td><td>19.25000</td><td>24.52500</td></tr>\n",
       "\t<tr><td>2021-09-15 02:00:00</td><td>295.9173</td><td>290.3378</td><td>26.48576</td><td>43.57857</td><td>16.11310</td><td>86.60823</td><td>2021-09-15 03:27:30</td><td> 9.430000</td><td>16.95000</td><td>26.36667</td></tr>\n",
       "\t<tr><td>2021-09-15 03:00:00</td><td>295.9334</td><td>290.2650</td><td>26.94795</td><td>44.24168</td><td>15.67477</td><td>86.84233</td><td>2021-09-15 04:27:30</td><td> 7.552500</td><td>16.06667</td><td>23.64167</td></tr>\n",
       "\t<tr><td>2021-09-15 04:00:00</td><td>296.0547</td><td>290.2665</td><td>27.51941</td><td>45.03515</td><td>15.39307</td><td>87.85701</td><td>2021-09-15 05:27:30</td><td>20.241667</td><td>16.39167</td><td>36.60833</td></tr>\n",
       "\t<tr><td>2021-09-15 05:00:00</td><td>296.4984</td><td>290.4345</td><td>28.72853</td><td>46.63902</td><td>15.37075</td><td>88.66242</td><td>2021-09-15 06:27:30</td><td>29.433333</td><td>17.25000</td><td>46.70000</td></tr>\n",
       "</tbody>\n",
       "</table>\n"
      ],
      "text/latex": [
       "A tibble: 6 × 11\n",
       "\\begin{tabular}{lllllllllll}\n",
       " date & RAW & AUX & PPB & FINAL & temperature & humidity & Time & NO & NO2 & NOX\\\\\n",
       " <dttm> & <dbl> & <dbl> & <dbl> & <dbl> & <dbl> & <dbl> & <dttm> & <dbl> & <dbl> & <dbl>\\\\\n",
       "\\hline\n",
       "\t 2021-09-15 00:00:00 & 297.1858 & 290.4173 & 30.91114 & 49.27974 & 17.10584 & 85.24315 & 2021-09-15 01:27:30 &  6.069167 & 20.91667 & 26.98333\\\\\n",
       "\t 2021-09-15 01:00:00 & 296.6088 & 290.4185 & 28.79548 & 46.56564 & 16.60335 & 86.91472 & 2021-09-15 02:27:30 &  5.256667 & 19.25000 & 24.52500\\\\\n",
       "\t 2021-09-15 02:00:00 & 295.9173 & 290.3378 & 26.48576 & 43.57857 & 16.11310 & 86.60823 & 2021-09-15 03:27:30 &  9.430000 & 16.95000 & 26.36667\\\\\n",
       "\t 2021-09-15 03:00:00 & 295.9334 & 290.2650 & 26.94795 & 44.24168 & 15.67477 & 86.84233 & 2021-09-15 04:27:30 &  7.552500 & 16.06667 & 23.64167\\\\\n",
       "\t 2021-09-15 04:00:00 & 296.0547 & 290.2665 & 27.51941 & 45.03515 & 15.39307 & 87.85701 & 2021-09-15 05:27:30 & 20.241667 & 16.39167 & 36.60833\\\\\n",
       "\t 2021-09-15 05:00:00 & 296.4984 & 290.4345 & 28.72853 & 46.63902 & 15.37075 & 88.66242 & 2021-09-15 06:27:30 & 29.433333 & 17.25000 & 46.70000\\\\\n",
       "\\end{tabular}\n"
      ],
      "text/markdown": [
       "\n",
       "A tibble: 6 × 11\n",
       "\n",
       "| date &lt;dttm&gt; | RAW &lt;dbl&gt; | AUX &lt;dbl&gt; | PPB &lt;dbl&gt; | FINAL &lt;dbl&gt; | temperature &lt;dbl&gt; | humidity &lt;dbl&gt; | Time &lt;dttm&gt; | NO &lt;dbl&gt; | NO2 &lt;dbl&gt; | NOX &lt;dbl&gt; |\n",
       "|---|---|---|---|---|---|---|---|---|---|---|\n",
       "| 2021-09-15 00:00:00 | 297.1858 | 290.4173 | 30.91114 | 49.27974 | 17.10584 | 85.24315 | 2021-09-15 01:27:30 |  6.069167 | 20.91667 | 26.98333 |\n",
       "| 2021-09-15 01:00:00 | 296.6088 | 290.4185 | 28.79548 | 46.56564 | 16.60335 | 86.91472 | 2021-09-15 02:27:30 |  5.256667 | 19.25000 | 24.52500 |\n",
       "| 2021-09-15 02:00:00 | 295.9173 | 290.3378 | 26.48576 | 43.57857 | 16.11310 | 86.60823 | 2021-09-15 03:27:30 |  9.430000 | 16.95000 | 26.36667 |\n",
       "| 2021-09-15 03:00:00 | 295.9334 | 290.2650 | 26.94795 | 44.24168 | 15.67477 | 86.84233 | 2021-09-15 04:27:30 |  7.552500 | 16.06667 | 23.64167 |\n",
       "| 2021-09-15 04:00:00 | 296.0547 | 290.2665 | 27.51941 | 45.03515 | 15.39307 | 87.85701 | 2021-09-15 05:27:30 | 20.241667 | 16.39167 | 36.60833 |\n",
       "| 2021-09-15 05:00:00 | 296.4984 | 290.4345 | 28.72853 | 46.63902 | 15.37075 | 88.66242 | 2021-09-15 06:27:30 | 29.433333 | 17.25000 | 46.70000 |\n",
       "\n"
      ],
      "text/plain": [
       "  date                RAW      AUX      PPB      FINAL    temperature humidity\n",
       "1 2021-09-15 00:00:00 297.1858 290.4173 30.91114 49.27974 17.10584    85.24315\n",
       "2 2021-09-15 01:00:00 296.6088 290.4185 28.79548 46.56564 16.60335    86.91472\n",
       "3 2021-09-15 02:00:00 295.9173 290.3378 26.48576 43.57857 16.11310    86.60823\n",
       "4 2021-09-15 03:00:00 295.9334 290.2650 26.94795 44.24168 15.67477    86.84233\n",
       "5 2021-09-15 04:00:00 296.0547 290.2665 27.51941 45.03515 15.39307    87.85701\n",
       "6 2021-09-15 05:00:00 296.4984 290.4345 28.72853 46.63902 15.37075    88.66242\n",
       "  Time                NO        NO2      NOX     \n",
       "1 2021-09-15 01:27:30  6.069167 20.91667 26.98333\n",
       "2 2021-09-15 02:27:30  5.256667 19.25000 24.52500\n",
       "3 2021-09-15 03:27:30  9.430000 16.95000 26.36667\n",
       "4 2021-09-15 04:27:30  7.552500 16.06667 23.64167\n",
       "5 2021-09-15 05:27:30 20.241667 16.39167 36.60833\n",
       "6 2021-09-15 06:27:30 29.433333 17.25000 46.70000"
      ]
     },
     "metadata": {},
     "output_type": "display_data"
    }
   ],
   "source": [
    "head(data_test_comb)"
   ]
  },
  {
   "cell_type": "code",
   "execution_count": 53,
   "metadata": {},
   "outputs": [],
   "source": [
    "gas_test <- data_test_comb %>%\n",
    "    na.exclude()"
   ]
  },
  {
   "cell_type": "code",
   "execution_count": 54,
   "metadata": {},
   "outputs": [],
   "source": [
    "write_csv(gas_test, \"data/gas_test.csv\")"
   ]
  },
  {
   "cell_type": "code",
   "execution_count": null,
   "metadata": {},
   "outputs": [],
   "source": []
  },
  {
   "cell_type": "markdown",
   "metadata": {},
   "source": [
    "## upload"
   ]
  },
  {
   "cell_type": "code",
   "execution_count": 46,
   "metadata": {},
   "outputs": [
    {
     "data": {
      "text/html": [
       "'s3://sagemaker-eu-west-2-870953422121/sagemaker/demo-r-byo/42022/train/base/base_train.csv'"
      ],
      "text/latex": [
       "'s3://sagemaker-eu-west-2-870953422121/sagemaker/demo-r-byo/42022/train/base/base\\_train.csv'"
      ],
      "text/markdown": [
       "'s3://sagemaker-eu-west-2-870953422121/sagemaker/demo-r-byo/42022/train/base/base_train.csv'"
      ],
      "text/plain": [
       "[1] \"s3://sagemaker-eu-west-2-870953422121/sagemaker/demo-r-byo/42022/train/base/base_train.csv\""
      ]
     },
     "metadata": {},
     "output_type": "display_data"
    }
   ],
   "source": [
    "session$upload_data(path=\"data/base_train.csv\",\n",
    "                                      bucket=bucket,\n",
    "                                      key_prefix=str_glue(prefix, ID, \"train\", \"base\", .sep=\"/\"))"
   ]
  },
  {
   "cell_type": "code",
   "execution_count": 47,
   "metadata": {},
   "outputs": [
    {
     "data": {
      "text/html": [
       "'s3://sagemaker-eu-west-2-870953422121/sagemaker/demo-r-byo/42022/train/gas/gas_train.csv'"
      ],
      "text/latex": [
       "'s3://sagemaker-eu-west-2-870953422121/sagemaker/demo-r-byo/42022/train/gas/gas\\_train.csv'"
      ],
      "text/markdown": [
       "'s3://sagemaker-eu-west-2-870953422121/sagemaker/demo-r-byo/42022/train/gas/gas_train.csv'"
      ],
      "text/plain": [
       "[1] \"s3://sagemaker-eu-west-2-870953422121/sagemaker/demo-r-byo/42022/train/gas/gas_train.csv\""
      ]
     },
     "metadata": {},
     "output_type": "display_data"
    }
   ],
   "source": [
    "session$upload_data(path=\"data/gas_train.csv\",\n",
    "                                      bucket=bucket,\n",
    "                                      key_prefix=str_glue(prefix, ID, \"train\", \"gas\", .sep=\"/\"))"
   ]
  },
  {
   "cell_type": "markdown",
   "metadata": {},
   "source": [
    "## train"
   ]
  },
  {
   "cell_type": "code",
   "execution_count": 9,
   "metadata": {},
   "outputs": [],
   "source": [
    "estimator = sagemaker$estimator$Estimator(\n",
    "    image_uri=str_glue(\"{account}.dkr.ecr.{region}.amazonaws.com/rmars:latest\"),\n",
    "    role=role,\n",
    "    instance_count=1L,\n",
    "    instance_type=\"ml.m4.xlarge\",\n",
    "    output_path=str_glue(\"s3://{bucket}/{prefix}/output\"),\n",
    "    sagemaker_session=session,\n",
    "    hyperparameters=list('target' = 'RAW',\n",
    "                       'degree'= 2)\n",
    ")  # Setting constant hyperparameter\n",
    "\n",
    "# target is by defauld \"RAW\". See mars.R where this is set."
   ]
  },
  {
   "cell_type": "markdown",
   "metadata": {},
   "source": [
    "Once we've defined our estimator we can specify the hyperparameters that we'd like to tune and their possible values.  We have three different types of hyperparameters.\n",
    "- Categorical parameters need to take one value from a discrete set.  We define this by passing the list of possible values to `CategoricalParameter(list)`\n",
    "- Continuous parameters can take any real number value between the minimum and maximum value, defined by `ContinuousParameter(min, max)`\n",
    "- Integer parameters can take any integer value between the minimum and maximum value, defined by `IntegerParameter(min, max)`\n",
    "\n",
    "*Note, if possible, it's almost always best to specify a value as the least restrictive type.  For example, tuning `thresh` as a continuous value between 0.01 and 0.2 is likely to yield a better result than tuning as a categorical parameter with possible values of 0.01, 0.1, 0.15, or 0.2.*"
   ]
  },
  {
   "cell_type": "code",
   "execution_count": 10,
   "metadata": {},
   "outputs": [],
   "source": [
    "# to set the degree as a varying HP to tune, use: 'degree': IntegerParameter(1, 3) and remove it from the Estimator\n",
    "\n",
    "hyperparameter_ranges = list(\n",
    "    \"thresh\" = sagemaker$parameter$ContinuousParameter(0.001, 0.01),\n",
    "    \"prune\" = sagemaker$parameter$CategoricalParameter(c(\"TRUE\", \"FALSE\"))\n",
    ")"
   ]
  },
  {
   "cell_type": "markdown",
   "metadata": {},
   "source": [
    "Next we'll specify the objective metric that we'd like to tune and its definition.  This metric is output by a `print` statement in our `mars.R` file.  Its critical that the format aligns with the regular expression (Regex) we then specify to extract that metric from the CloudWatch logs of our training job."
   ]
  },
  {
   "cell_type": "code",
   "execution_count": 11,
   "metadata": {},
   "outputs": [],
   "source": [
    "objective_metric_name = 'mse'\n",
    "metric_definitions = list(list('Name'= 'mse',\n",
    "                               'Regex'= 'mse: ([0-9\\\\.]+)'))"
   ]
  },
  {
   "cell_type": "markdown",
   "metadata": {},
   "source": [
    "Now, we'll create a `HyperparameterTuner` object, which we pass:\n",
    "- The MXNet estimator we created above\n",
    "- Our hyperparameter ranges\n",
    "- Objective metric name and definition\n",
    "- Whether we should maximize or minimize our objective metric (defaults to 'Maximize')\n",
    "- Number of training jobs to run in total and how many training jobs should be run simultaneously.  More parallel jobs will finish tuning sooner, but may sacrifice accuracy.  We recommend you set the parallel jobs value to less than 10% of the total number of training jobs (we'll set it higher just for this example to keep it short)."
   ]
  },
  {
   "cell_type": "code",
   "execution_count": 12,
   "metadata": {},
   "outputs": [],
   "source": [
    "tuner = sagemaker$tuner$HyperparameterTuner(\n",
    "    estimator,\n",
    "    objective_metric_name,\n",
    "    hyperparameter_ranges,\n",
    "    metric_definitions,\n",
    "    objective_type='Minimize',\n",
    "    max_jobs=9L,\n",
    "    max_parallel_jobs=3L)"
   ]
  },
  {
   "cell_type": "markdown",
   "metadata": {},
   "source": [
    "# Fit!"
   ]
  },
  {
   "cell_type": "markdown",
   "metadata": {},
   "source": [
    "And finally, we can start our hyperparameter tuning job by calling `.fit()` and passing in the S3 paths to our train (and val) datasets (folders).\n",
    "\n",
    "*Note, typically for hyperparameter tuning, we'd want to specify both a training and validation dataset and optimize the objective metric from the validation dataset.  However, because data is a very small dataset we'll skip the step of splitting into training and validation.  In practice, doing this could lead to a model that overfits to our training data and does not generalize well.*"
   ]
  },
  {
   "cell_type": "code",
   "execution_count": 13,
   "metadata": {},
   "outputs": [],
   "source": [
    "tuner$fit(list('train'=str_glue(\"s3://{bucket}/{prefix}/{ID}/train\")), wait=FALSE)"
   ]
  },
  {
   "cell_type": "code",
   "execution_count": 14,
   "metadata": {},
   "outputs": [],
   "source": [
    "status = boto3_r$client(\"sagemaker\")$describe_hyper_parameter_tuning_job(\n",
    "    HyperParameterTuningJobName=tuner$latest_tuning_job$job_name\n",
    "    )$HyperParameterTuningJobStatus"
   ]
  },
  {
   "cell_type": "code",
   "execution_count": 15,
   "metadata": {},
   "outputs": [
    {
     "data": {
      "text/html": [
       "'InProgress'"
      ],
      "text/latex": [
       "'InProgress'"
      ],
      "text/markdown": [
       "'InProgress'"
      ],
      "text/plain": [
       "[1] \"InProgress\""
      ]
     },
     "metadata": {},
     "output_type": "display_data"
    }
   ],
   "source": [
    "status"
   ]
  },
  {
   "cell_type": "code",
   "execution_count": null,
   "metadata": {},
   "outputs": [],
   "source": []
  },
  {
   "cell_type": "code",
   "execution_count": null,
   "metadata": {},
   "outputs": [],
   "source": [
    "# while (status == \"Completed\") {\n",
    "    \n",
    "#     status = boto3_r$client(\"sagemaker\")$describe_hyper_parameter_tuning_job(\n",
    "#     HyperParameterTuningJobName=tuner$latest_tuning_job$job_name\n",
    "#     )$HyperParameterTuningJobStatus\n",
    "\n",
    "#     completed = boto3_r$client(\"sagemaker\")$describe_hyper_parameter_tuning_job(\n",
    "#     HyperParameterTuningJobName=tuner$latest_tuning_job$job_name)$TrainingJobStatusCounters$Completed\n",
    "\n",
    "#     prog = boto3_r$client(\"sagemaker\")$describe_hyper_parameter_tuning_job(\n",
    "#     HyperParameterTuningJobName=tuner$latest_tuning_job$job_name)$TrainingJobStatusCounters$InProgress\n",
    "    \n",
    "#     print(str_glue(\"{status}, Completed Jobs: {completed}, In Progress Jobs: {prog}\"))\n",
    "        \n",
    "#     Sys.sleep(30)\n",
    "# }"
   ]
  },
  {
   "cell_type": "markdown",
   "metadata": {},
   "source": [
    "Wait until the HPO job is complete, and then run the following cell:"
   ]
  },
  {
   "cell_type": "code",
   "execution_count": null,
   "metadata": {},
   "outputs": [],
   "source": [
    "boto3_r$client(\"sagemaker\")$describe_hyper_parameter_tuning_job(\n",
    "    HyperParameterTuningJobName=tuner$latest_tuning_job$job_name\n",
    ")$BestTrainingJob"
   ]
  },
  {
   "cell_type": "markdown",
   "metadata": {},
   "source": [
    "---\n",
    "\n",
    "## HPO Analysis\n",
    "\n",
    "Now that we've started our hyperparameter tuning job, it will run in the background and we can close this notebook.  Once finished, we can use the [HPO Analysis notebook](https://github.com/awslabs/amazon-sagemaker-examples/tree/master/hyperparameter_tuning/analyze_results/HPO_Analyze_TuningJob_Results.ipynb) to determine which set of hyperparameters worked best.\n",
    "\n",
    "For more detail on Amazon SageMaker's Hyperparameter Tuning, please refer to the AWS documentation. "
   ]
  },
  {
   "cell_type": "markdown",
   "metadata": {},
   "source": [
    "---\n",
    "## Host\n",
    "\n",
    "Hosting the model we just tuned takes three steps in Amazon SageMaker.  First, we define the model we want to host, pointing the service to the model artifact our training job just wrote to S3.\n",
    "\n",
    "We will use the results of the HPO for this purpose, but using `hyper_parameter_tuning_job` method."
   ]
  },
  {
   "cell_type": "code",
   "execution_count": null,
   "metadata": {},
   "outputs": [],
   "source": [
    "best_training = boto3_r$client(\"sagemaker\")$describe_hyper_parameter_tuning_job(\n",
    "    HyperParameterTuningJobName=tuner$latest_tuning_job$job_name\n",
    ")$BestTrainingJob"
   ]
  },
  {
   "cell_type": "code",
   "execution_count": null,
   "metadata": {},
   "outputs": [],
   "source": [
    "# Get the best trainig job and S3 location for the model file\n",
    "best_model_s3 = boto3_r$client(\"sagemaker\")$describe_training_job(\n",
    "    TrainingJobName=best_training$TrainingJobName\n",
    ")$ModelArtifacts$S3ModelArtifacts\n",
    "best_model_s3"
   ]
  },
  {
   "cell_type": "code",
   "execution_count": null,
   "metadata": {
    "scrolled": true
   },
   "outputs": [],
   "source": [
    "# import time\n",
    "\n",
    "r_job = str_glue(\"demo-r-byo\", ID, format(Sys.time(), '%H-%M-%S'), .sep='-')"
   ]
  },
  {
   "cell_type": "code",
   "execution_count": null,
   "metadata": {},
   "outputs": [],
   "source": [
    "r_hosting_container = list(\n",
    "    \"Image\"=str_glue(\"{account}.dkr.ecr.{region}.amazonaws.com/{algorithm_name}:latest\"),\n",
    "    \"ModelDataUrl\"=best_model_s3\n",
    ")\n",
    "\n",
    "create_model_response = boto3_r$client(\"sagemaker\")$create_model(\n",
    "    ModelName=r_job, ExecutionRoleArn=role, PrimaryContainer=r_hosting_container\n",
    ")\n",
    "\n",
    "print(create_model_response$ModelArn)"
   ]
  },
  {
   "cell_type": "markdown",
   "metadata": {},
   "source": [
    "Next, let's create an endpoing configuration, passing in the model we just registered.  In this case, we'll only use a few c4.xlarges."
   ]
  },
  {
   "cell_type": "code",
   "execution_count": null,
   "metadata": {},
   "outputs": [],
   "source": [
    "r_endpoint_config = str_glue(\"demo-r-byo-config\", ID, format(Sys.time(), '%H-%M-%S'), .sep='-')\n",
    "print(r_endpoint_config)\n",
    "\n",
    "create_endpoint_config_response = boto3.client(\"sagemaker\").create_endpoint_config(\n",
    "    EndpointConfigName=r_endpoint_config,\n",
    "    ProductionVariants=[\n",
    "        {\n",
    "            \"InstanceType\": \"ml.t2.medium\",\n",
    "            \"InitialInstanceCount\": 1,\n",
    "            \"ModelName\": r_job,\n",
    "            \"VariantName\": \"AllTraffic\",\n",
    "        }\n",
    "    ],\n",
    ")\n",
    "\n",
    "print(\"Endpoint Config Arn: \" + create_endpoint_config_response[\"EndpointConfigArn\"])"
   ]
  },
  {
   "cell_type": "markdown",
   "metadata": {},
   "source": [
    "Finally, we'll create the endpoints using our endpoint configuration from the last step."
   ]
  },
  {
   "cell_type": "code",
   "execution_count": null,
   "metadata": {},
   "outputs": [],
   "source": [
    "%%time\n",
    "\n",
    "r_endpoint = \"demo-r-endpoint-\" + time.strftime(\"%Y%m%d%H%M\", time.gmtime())\n",
    "print(r_endpoint)\n",
    "create_endpoint_response = boto3.client(\"sagemaker\").create_endpoint(\n",
    "    EndpointName=r_endpoint, EndpointConfigName=r_endpoint_config\n",
    ")\n",
    "print(create_endpoint_response[\"EndpointArn\"])\n",
    "\n",
    "resp = boto3.client(\"sagemaker\").describe_endpoint(EndpointName=r_endpoint)\n",
    "status = resp[\"EndpointStatus\"]\n",
    "print(\"Status: \" + status)\n",
    "\n",
    "try:\n",
    "    boto3.client(\"sagemaker\").get_waiter(\"endpoint_in_service\").wait(EndpointName=r_endpoint)\n",
    "finally:\n",
    "    resp = boto3.client(\"sagemaker\").describe_endpoint(EndpointName=r_endpoint)\n",
    "    status = resp[\"EndpointStatus\"]\n",
    "    print(\"Arn: \" + resp[\"EndpointArn\"])\n",
    "    print(\"Status: \" + status)\n",
    "\n",
    "    if status != \"InService\":\n",
    "        raise Exception(\"Endpoint creation did not succeed\")"
   ]
  },
  {
   "cell_type": "markdown",
   "metadata": {},
   "source": [
    "---\n",
    "## Predict\n",
    "To confirm our endpoints are working properly, let's try to invoke the endpoint.\n",
    "\n",
    "_Note: The payload we're passing in the request is a CSV string with a header record, followed by multiple new lines.  It also contains text columns, which the serving code converts to the set of indicator variables needed for our model predictions.  Again, this is not a best practice for highly optimized code, however, it showcases the flexibility of bringing your own algorithm._"
   ]
  },
  {
   "cell_type": "code",
   "execution_count": null,
   "metadata": {},
   "outputs": [],
   "source": []
  },
  {
   "cell_type": "code",
   "execution_count": null,
   "metadata": {},
   "outputs": [],
   "source": [
    "json <- reticulate::import(\"json\")\n",
    "runtime = boto3_r$Session()$client(\"runtime.sagemaker\")"
   ]
  },
  {
   "cell_type": "code",
   "execution_count": null,
   "metadata": {},
   "outputs": [],
   "source": [
    "r_endpoint = 'demo-r-endpoint-202112032200'"
   ]
  },
  {
   "cell_type": "code",
   "execution_count": null,
   "metadata": {},
   "outputs": [],
   "source": [
    "csv_serializer = sagemaker$serializers$CSVSerializer(content_type='text/csv')"
   ]
  },
  {
   "cell_type": "code",
   "execution_count": null,
   "metadata": {},
   "outputs": [],
   "source": [
    "# there is a limit of max 500 samples at a time for invoking endpoints )?)\n",
    "payload = data_airly_idTRH$temperature[1:10]\n",
    "my_payload_as_csv = csv_serializer$serialize(payload) # Payload (aka, data) for inference."
   ]
  },
  {
   "cell_type": "code",
   "execution_count": null,
   "metadata": {},
   "outputs": [],
   "source": [
    "my_payload_as_csv"
   ]
  },
  {
   "cell_type": "code",
   "execution_count": null,
   "metadata": {},
   "outputs": [],
   "source": [
    "response = runtime$invoke_endpoint(EndpointName=r_endpoint, \n",
    "                                   ContentType=\"text/csv\", \n",
    "                                   Body=my_payload_as_csv)"
   ]
  },
  {
   "cell_type": "code",
   "execution_count": null,
   "metadata": {},
   "outputs": [],
   "source": [
    "result = json$loads(response$Body$read()$decode())\n",
    "display(result)"
   ]
  },
  {
   "cell_type": "code",
   "execution_count": null,
   "metadata": {},
   "outputs": [],
   "source": [
    "payload"
   ]
  },
  {
   "cell_type": "markdown",
   "metadata": {},
   "source": [
    "We can see the result is a CSV of predictions for our target variable.  Let's compare them to the actuals to see how our model did."
   ]
  },
  {
   "cell_type": "code",
   "execution_count": null,
   "metadata": {
    "scrolled": true
   },
   "outputs": [],
   "source": [
    "import matplotlib.pyplot as plt\n",
    "import numpy as np\n",
    "\n",
    "\n",
    "plt.scatter(base_test[\"RAW\"], np.fromstring(result[0], sep=\",\"), alpha=0.4, s=50)\n",
    "plt.xlabel(\"Actual\")\n",
    "plt.ylabel(\"Prediction\")\n",
    "x = np.linspace(*plt.xlim())\n",
    "plt.plot(x, x, linestyle=\"--\", color=\"g\", linewidth=1)\n",
    "\n",
    "plt.show()"
   ]
  },
  {
   "cell_type": "code",
   "execution_count": null,
   "metadata": {
    "scrolled": true
   },
   "outputs": [],
   "source": [
    "import matplotlib.pyplot as plt\n",
    "import numpy as np\n",
    "\n",
    "plt.scatter(base_test[\" temperature\"], base_test[\"RAW\"], alpha=0.4, s=50)\n",
    "plt.plot(base_test[\" temperature\"], np.fromstring(result[0], sep=\",\"), color=\"red\")\n",
    "plt.xlabel(\"Actual\")\n",
    "plt.ylabel(\"Prediction\")\n",
    "x = np.linspace(*plt.xlim())\n",
    "# plt.plot(x, x, linestyle=\"--\", color=\"g\", linewidth=1)\n",
    "\n",
    "\n",
    "\n",
    "plt.show()"
   ]
  },
  {
   "cell_type": "markdown",
   "metadata": {},
   "source": [
    "### (Optional) Clean-up\n",
    "\n",
    "If you're ready to be done with this notebook, please run the cell below.  This will remove the hosted endpoint you created and avoid any charges from a stray instance being left on."
   ]
  },
  {
   "cell_type": "code",
   "execution_count": null,
   "metadata": {},
   "outputs": [],
   "source": [
    "#boto3.client(\"sagemaker\").delete_endpoint(EndpointName=r_endpoint)"
   ]
  },
  {
   "cell_type": "markdown",
   "metadata": {},
   "source": [
    "## deploy"
   ]
  },
  {
   "cell_type": "code",
   "execution_count": null,
   "metadata": {},
   "outputs": [],
   "source": [
    "mars_pred= tuner$deploy(initial_instance_count = 1L, instance_type = 'ml.t2.medium')"
   ]
  },
  {
   "cell_type": "markdown",
   "metadata": {},
   "source": [
    "## predict"
   ]
  },
  {
   "cell_type": "code",
   "execution_count": null,
   "metadata": {},
   "outputs": [],
   "source": [
    "# cols = names(test)[names(test)== <target>]\n",
    "# preds = predict(mars_pred, data_airly_idTRH$temperature)"
   ]
  },
  {
   "cell_type": "code",
   "execution_count": null,
   "metadata": {},
   "outputs": [],
   "source": [
    "mars_pred"
   ]
  },
  {
   "cell_type": "code",
   "execution_count": 136,
   "metadata": {},
   "outputs": [
    {
     "ename": "ERROR",
     "evalue": "Error in py_call_impl(callable, dots$args, dots$keywords): ModelError: An error occurred (ModelError) when calling the InvokeEndpoint operation: Received server error (500) from primary with message \"{\"error\":\"500 - Internal server error\"}\". See https://eu-west-2.console.aws.amazon.com/cloudwatch/home?region=eu-west-2#logEventViewer:group=/aws/sagemaker/Endpoints/rmars-211203-2206-007-5a1de485 in account 870953422121 for more information.\n\nDetailed traceback:\n  File \"/home/ec2-user/anaconda3/envs/R/lib/python3.9/site-packages/sagemaker/predictor.py\", line 161, in predict\n    response = self.sagemaker_session.sagemaker_runtime_client.invoke_endpoint(**request_args)\n  File \"/home/ec2-user/anaconda3/envs/R/lib/python3.9/site-packages/botocore/client.py\", line 391, in _api_call\n    return self._make_api_call(operation_name, kwargs)\n  File \"/home/ec2-user/anaconda3/envs/R/lib/python3.9/site-packages/botocore/client.py\", line 719, in _make_api_call\n    raise error_class(parsed_response, operation_name)\n\n",
     "output_type": "error",
     "traceback": [
      "Error in py_call_impl(callable, dots$args, dots$keywords): ModelError: An error occurred (ModelError) when calling the InvokeEndpoint operation: Received server error (500) from primary with message \"{\"error\":\"500 - Internal server error\"}\". See https://eu-west-2.console.aws.amazon.com/cloudwatch/home?region=eu-west-2#logEventViewer:group=/aws/sagemaker/Endpoints/rmars-211203-2206-007-5a1de485 in account 870953422121 for more information.\n\nDetailed traceback:\n  File \"/home/ec2-user/anaconda3/envs/R/lib/python3.9/site-packages/sagemaker/predictor.py\", line 161, in predict\n    response = self.sagemaker_session.sagemaker_runtime_client.invoke_endpoint(**request_args)\n  File \"/home/ec2-user/anaconda3/envs/R/lib/python3.9/site-packages/botocore/client.py\", line 391, in _api_call\n    return self._make_api_call(operation_name, kwargs)\n  File \"/home/ec2-user/anaconda3/envs/R/lib/python3.9/site-packages/botocore/client.py\", line 719, in _make_api_call\n    raise error_class(parsed_response, operation_name)\n\nTraceback:\n",
      "1. mars_pred$predict(data_airly_idTRH$temperature[1:10])",
      "2. py_call_impl(callable, dots$args, dots$keywords)"
     ]
    }
   ],
   "source": [
    "# Alternatively you can call the predict method in mars_pred class\n",
    "# mars_pred$serializer = csv_serializer\n",
    "# mars_pred$deserializer = csv_deserializer\n",
    "pred = mars_pred$predict(data_airly_idTRH$temperature[1:10])"
   ]
  },
  {
   "cell_type": "code",
   "execution_count": null,
   "metadata": {},
   "outputs": [],
   "source": [
    "mars_pred$serializer"
   ]
  },
  {
   "cell_type": "code",
   "execution_count": null,
   "metadata": {},
   "outputs": [],
   "source": [
    "mars_pred$predict(my_payload_as_csv)"
   ]
  },
  {
   "cell_type": "code",
   "execution_count": 139,
   "metadata": {},
   "outputs": [
    {
     "data": {
      "text/html": [
       "<style>\n",
       ".list-inline {list-style: none; margin:0; padding: 0}\n",
       ".list-inline>li {display: inline-block}\n",
       ".list-inline>li:not(:last-child)::after {content: \"\\00b7\"; padding: 0 .5ex}\n",
       "</style>\n",
       "<ol class=list-inline><li>24.9479522705078</li><li>24.8401317596436</li><li>24.74853515625</li><li>24.66796875</li><li>24.6462287902832</li><li>24.5772533416748</li><li>24.5111522674561</li><li>24.5120334625244</li><li>24.5016384124756</li><li>24.4976463317871</li></ol>\n"
      ],
      "text/latex": [
       "\\begin{enumerate*}\n",
       "\\item 24.9479522705078\n",
       "\\item 24.8401317596436\n",
       "\\item 24.74853515625\n",
       "\\item 24.66796875\n",
       "\\item 24.6462287902832\n",
       "\\item 24.5772533416748\n",
       "\\item 24.5111522674561\n",
       "\\item 24.5120334625244\n",
       "\\item 24.5016384124756\n",
       "\\item 24.4976463317871\n",
       "\\end{enumerate*}\n"
      ],
      "text/markdown": [
       "1. 24.9479522705078\n",
       "2. 24.8401317596436\n",
       "3. 24.74853515625\n",
       "4. 24.66796875\n",
       "5. 24.6462287902832\n",
       "6. 24.5772533416748\n",
       "7. 24.5111522674561\n",
       "8. 24.5120334625244\n",
       "9. 24.5016384124756\n",
       "10. 24.4976463317871\n",
       "\n",
       "\n"
      ],
      "text/plain": [
       " [1] 24.94795 24.84013 24.74854 24.66797 24.64623 24.57725 24.51115 24.51203\n",
       " [9] 24.50164 24.49765"
      ]
     },
     "metadata": {},
     "output_type": "display_data"
    }
   ],
   "source": [
    "data_airly_idTRH$temperature[1:10]"
   ]
  },
  {
   "cell_type": "code",
   "execution_count": null,
   "metadata": {},
   "outputs": [],
   "source": [
    "my_payload_as_csv"
   ]
  },
  {
   "cell_type": "code",
   "execution_count": null,
   "metadata": {},
   "outputs": [],
   "source": [
    "mars_pred$predict(my_payload_as_csv)"
   ]
  },
  {
   "cell_type": "code",
   "execution_count": 140,
   "metadata": {},
   "outputs": [],
   "source": [
    "write_csv(data_airly_idTRH %>% select(temperature), \"data/base_test2.csv\")"
   ]
  },
  {
   "cell_type": "code",
   "execution_count": null,
   "metadata": {},
   "outputs": [],
   "source": [
    "my_payload_as_csv"
   ]
  },
  {
   "cell_type": "code",
   "execution_count": 141,
   "metadata": {},
   "outputs": [
    {
     "data": {
      "text/html": [
       "'24.947952270507812,24.840131759643555,24.74853515625,24.66796875,24.646228790283203,24.577253341674805,24.511152267456055,24.512033462524418,24.501638412475582,24.49764633178711'"
      ],
      "text/latex": [
       "'24.947952270507812,24.840131759643555,24.74853515625,24.66796875,24.646228790283203,24.577253341674805,24.511152267456055,24.512033462524418,24.501638412475582,24.49764633178711'"
      ],
      "text/markdown": [
       "'24.947952270507812,24.840131759643555,24.74853515625,24.66796875,24.646228790283203,24.577253341674805,24.511152267456055,24.512033462524418,24.501638412475582,24.49764633178711'"
      ],
      "text/plain": [
       "[1] \"24.947952270507812,24.840131759643555,24.74853515625,24.66796875,24.646228790283203,24.577253341674805,24.511152267456055,24.512033462524418,24.501638412475582,24.49764633178711\""
      ]
     },
     "metadata": {},
     "output_type": "display_data"
    }
   ],
   "source": [
    "csv_serializer$serialize(data_airly_idTRH$temperature[1:10])"
   ]
  },
  {
   "cell_type": "code",
   "execution_count": 142,
   "metadata": {},
   "outputs": [
    {
     "ename": "ERROR",
     "evalue": "Error in py_call_impl(callable, dots$args, dots$keywords): KeyError: 0\n\nDetailed traceback:\n  File \"/home/ec2-user/anaconda3/envs/R/lib/python3.9/site-packages/sagemaker/serializers.py\", line 112, in serialize\n    has_multiple_rows = len(data) > 0 and self._is_sequence_like(data[0])\n  File \"/home/ec2-user/anaconda3/envs/R/lib/python3.9/site-packages/pandas/core/frame.py\", line 3458, in __getitem__\n    indexer = self.columns.get_loc(key)\n  File \"/home/ec2-user/anaconda3/envs/R/lib/python3.9/site-packages/pandas/core/indexes/base.py\", line 3363, in get_loc\n    raise KeyError(key) from err\n\n",
     "output_type": "error",
     "traceback": [
      "Error in py_call_impl(callable, dots$args, dots$keywords): KeyError: 0\n\nDetailed traceback:\n  File \"/home/ec2-user/anaconda3/envs/R/lib/python3.9/site-packages/sagemaker/serializers.py\", line 112, in serialize\n    has_multiple_rows = len(data) > 0 and self._is_sequence_like(data[0])\n  File \"/home/ec2-user/anaconda3/envs/R/lib/python3.9/site-packages/pandas/core/frame.py\", line 3458, in __getitem__\n    indexer = self.columns.get_loc(key)\n  File \"/home/ec2-user/anaconda3/envs/R/lib/python3.9/site-packages/pandas/core/indexes/base.py\", line 3363, in get_loc\n    raise KeyError(key) from err\n\nTraceback:\n",
      "1. csv_serializer$serialize(payload)",
      "2. py_call_impl(callable, dots$args, dots$keywords)"
     ]
    }
   ],
   "source": [
    "# there is a limit of max 500 samples at a time for invoking endpoints )?)\n",
    "payload = data_airly_idTRH %>% select(temperature)\n",
    "my_payload_as_csv = csv_serializer$serialize(payload) # Payload (aka, data) for inference.\n",
    "my_payload_as_csv"
   ]
  },
  {
   "cell_type": "code",
   "execution_count": 149,
   "metadata": {},
   "outputs": [
    {
     "data": {
      "text/html": [
       "<style>\n",
       ".list-inline {list-style: none; margin:0; padding: 0}\n",
       ".list-inline>li {display: inline-block}\n",
       ".list-inline>li:not(:last-child)::after {content: \"\\00b7\"; padding: 0 .5ex}\n",
       "</style>\n",
       "<ol class=list-inline><li>24.9479522705078</li><li>24.8401317596436</li><li>24.74853515625</li><li>24.66796875</li><li>24.6462287902832</li><li>24.5772533416748</li></ol>\n"
      ],
      "text/latex": [
       "\\begin{enumerate*}\n",
       "\\item 24.9479522705078\n",
       "\\item 24.8401317596436\n",
       "\\item 24.74853515625\n",
       "\\item 24.66796875\n",
       "\\item 24.6462287902832\n",
       "\\item 24.5772533416748\n",
       "\\end{enumerate*}\n"
      ],
      "text/markdown": [
       "1. 24.9479522705078\n",
       "2. 24.8401317596436\n",
       "3. 24.74853515625\n",
       "4. 24.66796875\n",
       "5. 24.6462287902832\n",
       "6. 24.5772533416748\n",
       "\n",
       "\n"
      ],
      "text/plain": [
       "[1] 24.94795 24.84013 24.74854 24.66797 24.64623 24.57725"
      ]
     },
     "metadata": {},
     "output_type": "display_data"
    }
   ],
   "source": [
    "head((data_airly_idTRH %>% select(temperature))[[1]])"
   ]
  },
  {
   "cell_type": "code",
   "execution_count": 143,
   "metadata": {},
   "outputs": [
    {
     "data": {
      "text/plain": [
       "<sagemaker.predictor.Predictor>"
      ]
     },
     "metadata": {},
     "output_type": "display_data"
    }
   ],
   "source": [
    "mars_pred"
   ]
  },
  {
   "cell_type": "code",
   "execution_count": 144,
   "metadata": {},
   "outputs": [],
   "source": [
    "mars_pred$serializer = csv_serializer"
   ]
  },
  {
   "cell_type": "code",
   "execution_count": 150,
   "metadata": {},
   "outputs": [
    {
     "ename": "ERROR",
     "evalue": "Error in py_call_impl(callable, dots$args, dots$keywords): ModelError: An error occurred (ModelError) when calling the InvokeEndpoint operation: Received server error (500) from primary with message \"{\"error\":\"500 - Internal server error\"}\". See https://eu-west-2.console.aws.amazon.com/cloudwatch/home?region=eu-west-2#logEventViewer:group=/aws/sagemaker/Endpoints/rmars-211203-2206-007-5a1de485 in account 870953422121 for more information.\n\nDetailed traceback:\n  File \"/home/ec2-user/anaconda3/envs/R/lib/python3.9/site-packages/sagemaker/predictor.py\", line 161, in predict\n    response = self.sagemaker_session.sagemaker_runtime_client.invoke_endpoint(**request_args)\n  File \"/home/ec2-user/anaconda3/envs/R/lib/python3.9/site-packages/botocore/client.py\", line 391, in _api_call\n    return self._make_api_call(operation_name, kwargs)\n  File \"/home/ec2-user/anaconda3/envs/R/lib/python3.9/site-packages/botocore/client.py\", line 719, in _make_api_call\n    raise error_class(parsed_response, operation_name)\n\n",
     "output_type": "error",
     "traceback": [
      "Error in py_call_impl(callable, dots$args, dots$keywords): ModelError: An error occurred (ModelError) when calling the InvokeEndpoint operation: Received server error (500) from primary with message \"{\"error\":\"500 - Internal server error\"}\". See https://eu-west-2.console.aws.amazon.com/cloudwatch/home?region=eu-west-2#logEventViewer:group=/aws/sagemaker/Endpoints/rmars-211203-2206-007-5a1de485 in account 870953422121 for more information.\n\nDetailed traceback:\n  File \"/home/ec2-user/anaconda3/envs/R/lib/python3.9/site-packages/sagemaker/predictor.py\", line 161, in predict\n    response = self.sagemaker_session.sagemaker_runtime_client.invoke_endpoint(**request_args)\n  File \"/home/ec2-user/anaconda3/envs/R/lib/python3.9/site-packages/botocore/client.py\", line 391, in _api_call\n    return self._make_api_call(operation_name, kwargs)\n  File \"/home/ec2-user/anaconda3/envs/R/lib/python3.9/site-packages/botocore/client.py\", line 719, in _make_api_call\n    raise error_class(parsed_response, operation_name)\n\nTraceback:\n",
      "1. mars_pred$predict((data_airly_idTRH %>% select(temperature))[[1]])",
      "2. py_call_impl(callable, dots$args, dots$keywords)"
     ]
    }
   ],
   "source": [
    "pred = mars_pred$predict((data_airly_idTRH %>% select(temperature))[[1]])"
   ]
  },
  {
   "cell_type": "code",
   "execution_count": 17,
   "metadata": {},
   "outputs": [
    {
     "name": "stderr",
     "output_type": "stream",
     "text": [
      "\u001b[1mRows: \u001b[22m\u001b[34m715\u001b[39m \u001b[1mColumns: \u001b[22m\u001b[34m3\u001b[39m\n",
      "\n",
      "\u001b[36m──\u001b[39m \u001b[1mColumn specification\u001b[22m \u001b[36m────────────────────────────────────────────────────────\u001b[39m\n",
      "\u001b[1mDelimiter:\u001b[22m \",\"\n",
      "\u001b[32mdbl\u001b[39m (3): NO2, RAW, temperature\n",
      "\n",
      "\n",
      "\u001b[36mℹ\u001b[39m Use \u001b[30m\u001b[47m\u001b[30m\u001b[47m`spec()`\u001b[47m\u001b[30m\u001b[49m\u001b[39m to retrieve the full column specification for this data.\n",
      "\u001b[36mℹ\u001b[39m Specify the column types or set \u001b[30m\u001b[47m\u001b[30m\u001b[47m`show_col_types = FALSE`\u001b[47m\u001b[30m\u001b[49m\u001b[39m to quiet this message.\n",
      "\n"
     ]
    }
   ],
   "source": [
    "gas_train <- read_csv('data/gas_train.csv')"
   ]
  },
  {
   "cell_type": "code",
   "execution_count": 18,
   "metadata": {},
   "outputs": [
    {
     "data": {
      "text/html": [
       "<table class=\"dataframe\">\n",
       "<caption>A tibble: 6 × 3</caption>\n",
       "<thead>\n",
       "\t<tr><th scope=col>NO2</th><th scope=col>RAW</th><th scope=col>temperature</th></tr>\n",
       "\t<tr><th scope=col>&lt;dbl&gt;</th><th scope=col>&lt;dbl&gt;</th><th scope=col>&lt;dbl&gt;</th></tr>\n",
       "</thead>\n",
       "<tbody>\n",
       "\t<tr><td>21.55833</td><td>297.4983</td><td>24.60835</td></tr>\n",
       "\t<tr><td>17.80000</td><td>296.7222</td><td>23.92445</td></tr>\n",
       "\t<tr><td>15.29167</td><td>296.2973</td><td>23.37839</td></tr>\n",
       "\t<tr><td>11.87417</td><td>295.6056</td><td>22.81762</td></tr>\n",
       "\t<tr><td>10.91667</td><td>295.7697</td><td>22.99725</td></tr>\n",
       "\t<tr><td>13.33333</td><td>295.5761</td><td>24.34073</td></tr>\n",
       "</tbody>\n",
       "</table>\n"
      ],
      "text/latex": [
       "A tibble: 6 × 3\n",
       "\\begin{tabular}{lll}\n",
       " NO2 & RAW & temperature\\\\\n",
       " <dbl> & <dbl> & <dbl>\\\\\n",
       "\\hline\n",
       "\t 21.55833 & 297.4983 & 24.60835\\\\\n",
       "\t 17.80000 & 296.7222 & 23.92445\\\\\n",
       "\t 15.29167 & 296.2973 & 23.37839\\\\\n",
       "\t 11.87417 & 295.6056 & 22.81762\\\\\n",
       "\t 10.91667 & 295.7697 & 22.99725\\\\\n",
       "\t 13.33333 & 295.5761 & 24.34073\\\\\n",
       "\\end{tabular}\n"
      ],
      "text/markdown": [
       "\n",
       "A tibble: 6 × 3\n",
       "\n",
       "| NO2 &lt;dbl&gt; | RAW &lt;dbl&gt; | temperature &lt;dbl&gt; |\n",
       "|---|---|---|\n",
       "| 21.55833 | 297.4983 | 24.60835 |\n",
       "| 17.80000 | 296.7222 | 23.92445 |\n",
       "| 15.29167 | 296.2973 | 23.37839 |\n",
       "| 11.87417 | 295.6056 | 22.81762 |\n",
       "| 10.91667 | 295.7697 | 22.99725 |\n",
       "| 13.33333 | 295.5761 | 24.34073 |\n",
       "\n"
      ],
      "text/plain": [
       "  NO2      RAW      temperature\n",
       "1 21.55833 297.4983 24.60835   \n",
       "2 17.80000 296.7222 23.92445   \n",
       "3 15.29167 296.2973 23.37839   \n",
       "4 11.87417 295.6056 22.81762   \n",
       "5 10.91667 295.7697 22.99725   \n",
       "6 13.33333 295.5761 24.34073   "
      ]
     },
     "metadata": {},
     "output_type": "display_data"
    }
   ],
   "source": [
    "head(gas_train)"
   ]
  },
  {
   "cell_type": "code",
   "execution_count": 25,
   "metadata": {},
   "outputs": [
    {
     "data": {
      "text/html": [
       "<table class=\"dataframe\">\n",
       "<caption>A spec_tbl_df: 715 × 3</caption>\n",
       "<thead>\n",
       "\t<tr><th scope=col>NO2</th><th scope=col>RAW</th><th scope=col>temperature</th></tr>\n",
       "\t<tr><th scope=col>&lt;dbl&gt;</th><th scope=col>&lt;dbl&gt;</th><th scope=col>&lt;dbl&gt;</th></tr>\n",
       "</thead>\n",
       "<tbody>\n",
       "\t<tr><td>21.558333</td><td>297.4983</td><td>24.60835</td></tr>\n",
       "\t<tr><td>17.800000</td><td>296.7222</td><td>23.92445</td></tr>\n",
       "\t<tr><td>15.291667</td><td>296.2973</td><td>23.37839</td></tr>\n",
       "\t<tr><td>11.874167</td><td>295.6056</td><td>22.81762</td></tr>\n",
       "\t<tr><td>10.916667</td><td>295.7697</td><td>22.99725</td></tr>\n",
       "\t<tr><td>13.333333</td><td>295.5761</td><td>24.34073</td></tr>\n",
       "\t<tr><td>11.043333</td><td>293.8243</td><td>26.39088</td></tr>\n",
       "\t<tr><td> 8.230833</td><td>292.7910</td><td>27.87427</td></tr>\n",
       "\t<tr><td> 7.315000</td><td>292.1766</td><td>29.50114</td></tr>\n",
       "\t<tr><td> 3.060833</td><td>289.4100</td><td>30.91003</td></tr>\n",
       "\t<tr><td> 3.112500</td><td>289.7266</td><td>31.96396</td></tr>\n",
       "\t<tr><td> 2.900000</td><td>303.0672</td><td>28.15390</td></tr>\n",
       "\t<tr><td> 4.148333</td><td>288.0685</td><td>30.94253</td></tr>\n",
       "\t<tr><td> 3.613333</td><td>286.6682</td><td>33.12922</td></tr>\n",
       "\t<tr><td> 3.787500</td><td>287.3329</td><td>34.33341</td></tr>\n",
       "\t<tr><td> 4.391667</td><td>289.0334</td><td>33.33913</td></tr>\n",
       "\t<tr><td> 6.322500</td><td>290.4830</td><td>33.21213</td></tr>\n",
       "\t<tr><td>11.479167</td><td>291.6087</td><td>32.70313</td></tr>\n",
       "\t<tr><td>22.448333</td><td>295.1995</td><td>30.60186</td></tr>\n",
       "\t<tr><td>23.800000</td><td>296.4563</td><td>28.83852</td></tr>\n",
       "\t<tr><td>34.600000</td><td>299.4994</td><td>27.29877</td></tr>\n",
       "\t<tr><td>31.600000</td><td>298.8483</td><td>25.84933</td></tr>\n",
       "\t<tr><td>31.483333</td><td>299.0723</td><td>25.16920</td></tr>\n",
       "\t<tr><td>25.041667</td><td>298.2941</td><td>24.63953</td></tr>\n",
       "\t<tr><td>16.816667</td><td>297.4837</td><td>24.42590</td></tr>\n",
       "\t<tr><td>13.408333</td><td>296.4818</td><td>24.31771</td></tr>\n",
       "\t<tr><td>11.950000</td><td>296.2963</td><td>23.72599</td></tr>\n",
       "\t<tr><td>14.933333</td><td>296.4287</td><td>23.57755</td></tr>\n",
       "\t<tr><td>19.850000</td><td>296.7455</td><td>24.28708</td></tr>\n",
       "\t<tr><td>21.733333</td><td>296.8179</td><td>24.75497</td></tr>\n",
       "\t<tr><td>⋮</td><td>⋮</td><td>⋮</td></tr>\n",
       "\t<tr><td>28.92500</td><td>298.0523</td><td>22.93192</td></tr>\n",
       "\t<tr><td>33.51667</td><td>299.4900</td><td>21.84233</td></tr>\n",
       "\t<tr><td>28.73333</td><td>298.6263</td><td>21.00817</td></tr>\n",
       "\t<tr><td>25.15833</td><td>297.3814</td><td>20.85823</td></tr>\n",
       "\t<tr><td>22.49167</td><td>297.4372</td><td>19.91883</td></tr>\n",
       "\t<tr><td>23.71667</td><td>298.0177</td><td>19.40988</td></tr>\n",
       "\t<tr><td>18.92500</td><td>296.9405</td><td>18.93343</td></tr>\n",
       "\t<tr><td>13.59167</td><td>295.7765</td><td>18.42359</td></tr>\n",
       "\t<tr><td>14.18333</td><td>295.5673</td><td>18.27729</td></tr>\n",
       "\t<tr><td>17.72500</td><td>296.1322</td><td>18.13927</td></tr>\n",
       "\t<tr><td>18.45000</td><td>296.2383</td><td>17.63978</td></tr>\n",
       "\t<tr><td>22.53333</td><td>296.9205</td><td>17.83659</td></tr>\n",
       "\t<tr><td>26.96667</td><td>297.1630</td><td>19.13672</td></tr>\n",
       "\t<tr><td>28.90833</td><td>297.0949</td><td>20.47636</td></tr>\n",
       "\t<tr><td>29.00833</td><td>296.6827</td><td>22.12879</td></tr>\n",
       "\t<tr><td>22.79167</td><td>294.5599</td><td>24.25519</td></tr>\n",
       "\t<tr><td>21.38333</td><td>294.2931</td><td>25.40355</td></tr>\n",
       "\t<tr><td>15.33333</td><td>292.4249</td><td>27.19623</td></tr>\n",
       "\t<tr><td>11.93750</td><td>292.1506</td><td>27.64209</td></tr>\n",
       "\t<tr><td>14.56667</td><td>292.3190</td><td>28.42925</td></tr>\n",
       "\t<tr><td>13.39417</td><td>293.0094</td><td>27.23651</td></tr>\n",
       "\t<tr><td>12.00833</td><td>293.4473</td><td>26.41491</td></tr>\n",
       "\t<tr><td>17.32500</td><td>294.8740</td><td>25.43373</td></tr>\n",
       "\t<tr><td>36.06667</td><td>299.2676</td><td>23.68642</td></tr>\n",
       "\t<tr><td>39.24167</td><td>300.4693</td><td>22.02233</td></tr>\n",
       "\t<tr><td>32.82500</td><td>299.6838</td><td>20.65612</td></tr>\n",
       "\t<tr><td>36.47500</td><td>300.3683</td><td>19.79990</td></tr>\n",
       "\t<tr><td>31.46667</td><td>299.1516</td><td>19.03215</td></tr>\n",
       "\t<tr><td>27.08333</td><td>298.2853</td><td>18.24271</td></tr>\n",
       "\t<tr><td>21.84167</td><td>297.2382</td><td>17.58170</td></tr>\n",
       "</tbody>\n",
       "</table>\n"
      ],
      "text/latex": [
       "A spec\\_tbl\\_df: 715 × 3\n",
       "\\begin{tabular}{lll}\n",
       " NO2 & RAW & temperature\\\\\n",
       " <dbl> & <dbl> & <dbl>\\\\\n",
       "\\hline\n",
       "\t 21.558333 & 297.4983 & 24.60835\\\\\n",
       "\t 17.800000 & 296.7222 & 23.92445\\\\\n",
       "\t 15.291667 & 296.2973 & 23.37839\\\\\n",
       "\t 11.874167 & 295.6056 & 22.81762\\\\\n",
       "\t 10.916667 & 295.7697 & 22.99725\\\\\n",
       "\t 13.333333 & 295.5761 & 24.34073\\\\\n",
       "\t 11.043333 & 293.8243 & 26.39088\\\\\n",
       "\t  8.230833 & 292.7910 & 27.87427\\\\\n",
       "\t  7.315000 & 292.1766 & 29.50114\\\\\n",
       "\t  3.060833 & 289.4100 & 30.91003\\\\\n",
       "\t  3.112500 & 289.7266 & 31.96396\\\\\n",
       "\t  2.900000 & 303.0672 & 28.15390\\\\\n",
       "\t  4.148333 & 288.0685 & 30.94253\\\\\n",
       "\t  3.613333 & 286.6682 & 33.12922\\\\\n",
       "\t  3.787500 & 287.3329 & 34.33341\\\\\n",
       "\t  4.391667 & 289.0334 & 33.33913\\\\\n",
       "\t  6.322500 & 290.4830 & 33.21213\\\\\n",
       "\t 11.479167 & 291.6087 & 32.70313\\\\\n",
       "\t 22.448333 & 295.1995 & 30.60186\\\\\n",
       "\t 23.800000 & 296.4563 & 28.83852\\\\\n",
       "\t 34.600000 & 299.4994 & 27.29877\\\\\n",
       "\t 31.600000 & 298.8483 & 25.84933\\\\\n",
       "\t 31.483333 & 299.0723 & 25.16920\\\\\n",
       "\t 25.041667 & 298.2941 & 24.63953\\\\\n",
       "\t 16.816667 & 297.4837 & 24.42590\\\\\n",
       "\t 13.408333 & 296.4818 & 24.31771\\\\\n",
       "\t 11.950000 & 296.2963 & 23.72599\\\\\n",
       "\t 14.933333 & 296.4287 & 23.57755\\\\\n",
       "\t 19.850000 & 296.7455 & 24.28708\\\\\n",
       "\t 21.733333 & 296.8179 & 24.75497\\\\\n",
       "\t ⋮ & ⋮ & ⋮\\\\\n",
       "\t 28.92500 & 298.0523 & 22.93192\\\\\n",
       "\t 33.51667 & 299.4900 & 21.84233\\\\\n",
       "\t 28.73333 & 298.6263 & 21.00817\\\\\n",
       "\t 25.15833 & 297.3814 & 20.85823\\\\\n",
       "\t 22.49167 & 297.4372 & 19.91883\\\\\n",
       "\t 23.71667 & 298.0177 & 19.40988\\\\\n",
       "\t 18.92500 & 296.9405 & 18.93343\\\\\n",
       "\t 13.59167 & 295.7765 & 18.42359\\\\\n",
       "\t 14.18333 & 295.5673 & 18.27729\\\\\n",
       "\t 17.72500 & 296.1322 & 18.13927\\\\\n",
       "\t 18.45000 & 296.2383 & 17.63978\\\\\n",
       "\t 22.53333 & 296.9205 & 17.83659\\\\\n",
       "\t 26.96667 & 297.1630 & 19.13672\\\\\n",
       "\t 28.90833 & 297.0949 & 20.47636\\\\\n",
       "\t 29.00833 & 296.6827 & 22.12879\\\\\n",
       "\t 22.79167 & 294.5599 & 24.25519\\\\\n",
       "\t 21.38333 & 294.2931 & 25.40355\\\\\n",
       "\t 15.33333 & 292.4249 & 27.19623\\\\\n",
       "\t 11.93750 & 292.1506 & 27.64209\\\\\n",
       "\t 14.56667 & 292.3190 & 28.42925\\\\\n",
       "\t 13.39417 & 293.0094 & 27.23651\\\\\n",
       "\t 12.00833 & 293.4473 & 26.41491\\\\\n",
       "\t 17.32500 & 294.8740 & 25.43373\\\\\n",
       "\t 36.06667 & 299.2676 & 23.68642\\\\\n",
       "\t 39.24167 & 300.4693 & 22.02233\\\\\n",
       "\t 32.82500 & 299.6838 & 20.65612\\\\\n",
       "\t 36.47500 & 300.3683 & 19.79990\\\\\n",
       "\t 31.46667 & 299.1516 & 19.03215\\\\\n",
       "\t 27.08333 & 298.2853 & 18.24271\\\\\n",
       "\t 21.84167 & 297.2382 & 17.58170\\\\\n",
       "\\end{tabular}\n"
      ],
      "text/markdown": [
       "\n",
       "A spec_tbl_df: 715 × 3\n",
       "\n",
       "| NO2 &lt;dbl&gt; | RAW &lt;dbl&gt; | temperature &lt;dbl&gt; |\n",
       "|---|---|---|\n",
       "| 21.558333 | 297.4983 | 24.60835 |\n",
       "| 17.800000 | 296.7222 | 23.92445 |\n",
       "| 15.291667 | 296.2973 | 23.37839 |\n",
       "| 11.874167 | 295.6056 | 22.81762 |\n",
       "| 10.916667 | 295.7697 | 22.99725 |\n",
       "| 13.333333 | 295.5761 | 24.34073 |\n",
       "| 11.043333 | 293.8243 | 26.39088 |\n",
       "|  8.230833 | 292.7910 | 27.87427 |\n",
       "|  7.315000 | 292.1766 | 29.50114 |\n",
       "|  3.060833 | 289.4100 | 30.91003 |\n",
       "|  3.112500 | 289.7266 | 31.96396 |\n",
       "|  2.900000 | 303.0672 | 28.15390 |\n",
       "|  4.148333 | 288.0685 | 30.94253 |\n",
       "|  3.613333 | 286.6682 | 33.12922 |\n",
       "|  3.787500 | 287.3329 | 34.33341 |\n",
       "|  4.391667 | 289.0334 | 33.33913 |\n",
       "|  6.322500 | 290.4830 | 33.21213 |\n",
       "| 11.479167 | 291.6087 | 32.70313 |\n",
       "| 22.448333 | 295.1995 | 30.60186 |\n",
       "| 23.800000 | 296.4563 | 28.83852 |\n",
       "| 34.600000 | 299.4994 | 27.29877 |\n",
       "| 31.600000 | 298.8483 | 25.84933 |\n",
       "| 31.483333 | 299.0723 | 25.16920 |\n",
       "| 25.041667 | 298.2941 | 24.63953 |\n",
       "| 16.816667 | 297.4837 | 24.42590 |\n",
       "| 13.408333 | 296.4818 | 24.31771 |\n",
       "| 11.950000 | 296.2963 | 23.72599 |\n",
       "| 14.933333 | 296.4287 | 23.57755 |\n",
       "| 19.850000 | 296.7455 | 24.28708 |\n",
       "| 21.733333 | 296.8179 | 24.75497 |\n",
       "| ⋮ | ⋮ | ⋮ |\n",
       "| 28.92500 | 298.0523 | 22.93192 |\n",
       "| 33.51667 | 299.4900 | 21.84233 |\n",
       "| 28.73333 | 298.6263 | 21.00817 |\n",
       "| 25.15833 | 297.3814 | 20.85823 |\n",
       "| 22.49167 | 297.4372 | 19.91883 |\n",
       "| 23.71667 | 298.0177 | 19.40988 |\n",
       "| 18.92500 | 296.9405 | 18.93343 |\n",
       "| 13.59167 | 295.7765 | 18.42359 |\n",
       "| 14.18333 | 295.5673 | 18.27729 |\n",
       "| 17.72500 | 296.1322 | 18.13927 |\n",
       "| 18.45000 | 296.2383 | 17.63978 |\n",
       "| 22.53333 | 296.9205 | 17.83659 |\n",
       "| 26.96667 | 297.1630 | 19.13672 |\n",
       "| 28.90833 | 297.0949 | 20.47636 |\n",
       "| 29.00833 | 296.6827 | 22.12879 |\n",
       "| 22.79167 | 294.5599 | 24.25519 |\n",
       "| 21.38333 | 294.2931 | 25.40355 |\n",
       "| 15.33333 | 292.4249 | 27.19623 |\n",
       "| 11.93750 | 292.1506 | 27.64209 |\n",
       "| 14.56667 | 292.3190 | 28.42925 |\n",
       "| 13.39417 | 293.0094 | 27.23651 |\n",
       "| 12.00833 | 293.4473 | 26.41491 |\n",
       "| 17.32500 | 294.8740 | 25.43373 |\n",
       "| 36.06667 | 299.2676 | 23.68642 |\n",
       "| 39.24167 | 300.4693 | 22.02233 |\n",
       "| 32.82500 | 299.6838 | 20.65612 |\n",
       "| 36.47500 | 300.3683 | 19.79990 |\n",
       "| 31.46667 | 299.1516 | 19.03215 |\n",
       "| 27.08333 | 298.2853 | 18.24271 |\n",
       "| 21.84167 | 297.2382 | 17.58170 |\n",
       "\n"
      ],
      "text/plain": [
       "    NO2       RAW      temperature\n",
       "1   21.558333 297.4983 24.60835   \n",
       "2   17.800000 296.7222 23.92445   \n",
       "3   15.291667 296.2973 23.37839   \n",
       "4   11.874167 295.6056 22.81762   \n",
       "5   10.916667 295.7697 22.99725   \n",
       "6   13.333333 295.5761 24.34073   \n",
       "7   11.043333 293.8243 26.39088   \n",
       "8    8.230833 292.7910 27.87427   \n",
       "9    7.315000 292.1766 29.50114   \n",
       "10   3.060833 289.4100 30.91003   \n",
       "11   3.112500 289.7266 31.96396   \n",
       "12   2.900000 303.0672 28.15390   \n",
       "13   4.148333 288.0685 30.94253   \n",
       "14   3.613333 286.6682 33.12922   \n",
       "15   3.787500 287.3329 34.33341   \n",
       "16   4.391667 289.0334 33.33913   \n",
       "17   6.322500 290.4830 33.21213   \n",
       "18  11.479167 291.6087 32.70313   \n",
       "19  22.448333 295.1995 30.60186   \n",
       "20  23.800000 296.4563 28.83852   \n",
       "21  34.600000 299.4994 27.29877   \n",
       "22  31.600000 298.8483 25.84933   \n",
       "23  31.483333 299.0723 25.16920   \n",
       "24  25.041667 298.2941 24.63953   \n",
       "25  16.816667 297.4837 24.42590   \n",
       "26  13.408333 296.4818 24.31771   \n",
       "27  11.950000 296.2963 23.72599   \n",
       "28  14.933333 296.4287 23.57755   \n",
       "29  19.850000 296.7455 24.28708   \n",
       "30  21.733333 296.8179 24.75497   \n",
       "⋮   ⋮         ⋮        ⋮          \n",
       "686 28.92500  298.0523 22.93192   \n",
       "687 33.51667  299.4900 21.84233   \n",
       "688 28.73333  298.6263 21.00817   \n",
       "689 25.15833  297.3814 20.85823   \n",
       "690 22.49167  297.4372 19.91883   \n",
       "691 23.71667  298.0177 19.40988   \n",
       "692 18.92500  296.9405 18.93343   \n",
       "693 13.59167  295.7765 18.42359   \n",
       "694 14.18333  295.5673 18.27729   \n",
       "695 17.72500  296.1322 18.13927   \n",
       "696 18.45000  296.2383 17.63978   \n",
       "697 22.53333  296.9205 17.83659   \n",
       "698 26.96667  297.1630 19.13672   \n",
       "699 28.90833  297.0949 20.47636   \n",
       "700 29.00833  296.6827 22.12879   \n",
       "701 22.79167  294.5599 24.25519   \n",
       "702 21.38333  294.2931 25.40355   \n",
       "703 15.33333  292.4249 27.19623   \n",
       "704 11.93750  292.1506 27.64209   \n",
       "705 14.56667  292.3190 28.42925   \n",
       "706 13.39417  293.0094 27.23651   \n",
       "707 12.00833  293.4473 26.41491   \n",
       "708 17.32500  294.8740 25.43373   \n",
       "709 36.06667  299.2676 23.68642   \n",
       "710 39.24167  300.4693 22.02233   \n",
       "711 32.82500  299.6838 20.65612   \n",
       "712 36.47500  300.3683 19.79990   \n",
       "713 31.46667  299.1516 19.03215   \n",
       "714 27.08333  298.2853 18.24271   \n",
       "715 21.84167  297.2382 17.58170   "
      ]
     },
     "metadata": {},
     "output_type": "display_data"
    }
   ],
   "source": [
    "gas_train"
   ]
  },
  {
   "cell_type": "code",
   "execution_count": 44,
   "metadata": {},
   "outputs": [
    {
     "name": "stderr",
     "output_type": "stream",
     "text": [
      "Warning message in storage.mode(v) <- \"double\":\n",
      "“NAs introduced by coercion”\n",
      "Warning message in storage.mode(x) <- \"double\":\n",
      "“NAs introduced by coercion”\n"
     ]
    },
    {
     "ename": "ERROR",
     "evalue": "Error in simpleLoess(y, x, w, span, degree = degree, parametric = parametric, : NA/NaN/Inf in foreign function call (arg 1)\n",
     "output_type": "error",
     "traceback": [
      "Error in simpleLoess(y, x, w, span, degree = degree, parametric = parametric, : NA/NaN/Inf in foreign function call (arg 1)\nTraceback:\n",
      "1. loess(target ~ paste(colnames(training_data[, colnames(training_data) != \n .     target]), collapse = \"+\"), training_data, degree = degree, \n .     span = span, control = loess.control(surface = \"direct\"), \n .     family = \"gaussian\")",
      "2. simpleLoess(y, x, w, span, degree = degree, parametric = parametric, \n .     drop.square = drop.square, normalize = normalize, statistics = control$statistics, \n .     surface = control$surface, cell = control$cell, iterations = iterations, \n .     iterTrace = control$iterTrace, trace.hat = control$trace.hat)"
     ]
    }
   ],
   "source": [
    "target='NO2'\n",
    "training_data=gas_train %>% na.exclude()\n",
    "degree=2\n",
    "span=1\n",
    "model <- loess(target ~ paste(colnames(training_data[,colnames(training_data) != target]), collapse = '+'), training_data,\n",
    "                   degree=degree, span=span, control=loess.control(surface = \"direct\"), family=\"gaussian\")"
   ]
  },
  {
   "cell_type": "code",
   "execution_count": 41,
   "metadata": {},
   "outputs": [
    {
     "data": {
      "text/html": [
       "0"
      ],
      "text/latex": [
       "0"
      ],
      "text/markdown": [
       "0"
      ],
      "text/plain": [
       "[1] 0"
      ]
     },
     "metadata": {},
     "output_type": "display_data"
    }
   ],
   "source": [
    "sum(is.nan(gas_train$temperature))"
   ]
  },
  {
   "cell_type": "code",
   "execution_count": 45,
   "metadata": {},
   "outputs": [
    {
     "data": {
      "text/plain": [
       "Call:\n",
       "loess(formula = NO2 ~ RAW + temperature, data = gas_train)\n",
       "\n",
       "Number of Observations: 715 \n",
       "Equivalent Number of Parameters: 10.53 \n",
       "Residual Standard Error: 3.658 "
      ]
     },
     "metadata": {},
     "output_type": "display_data"
    }
   ],
   "source": [
    "loess(NO2~RAW+temperature, gas_train)"
   ]
  },
  {
   "cell_type": "code",
   "execution_count": 46,
   "metadata": {},
   "outputs": [
    {
     "data": {
      "text/plain": [
       "NO2 ~ RAW"
      ]
     },
     "metadata": {},
     "output_type": "display_data"
    }
   ],
   "source": [
    "formula('NO2~RAW')"
   ]
  },
  {
   "cell_type": "code",
   "execution_count": 74,
   "metadata": {},
   "outputs": [],
   "source": [
    "formula=formula(paste(target, paste(colnames(training_data[, colnames(training_data) != target]), collapse = \"+\"), sep='~'))"
   ]
  },
  {
   "cell_type": "code",
   "execution_count": 131,
   "metadata": {},
   "outputs": [],
   "source": [
    "model=loess(formula, gas_train)"
   ]
  },
  {
   "cell_type": "code",
   "execution_count": 132,
   "metadata": {},
   "outputs": [
    {
     "data": {
      "text/html": [
       "'loess'"
      ],
      "text/latex": [
       "'loess'"
      ],
      "text/markdown": [
       "'loess'"
      ],
      "text/plain": [
       "[1] \"loess\""
      ]
     },
     "metadata": {},
     "output_type": "display_data"
    }
   ],
   "source": [
    "class(model)"
   ]
  },
  {
   "cell_type": "code",
   "execution_count": 133,
   "metadata": {},
   "outputs": [
    {
     "data": {
      "text/html": [
       "<style>\n",
       ".dl-inline {width: auto; margin:0; padding: 0}\n",
       ".dl-inline>dt, .dl-inline>dd {float: none; width: auto; display: inline-block}\n",
       ".dl-inline>dt::after {content: \":\\0020\"; padding-right: .5ex}\n",
       ".dl-inline>dt:not(:first-of-type) {padding-left: .5ex}\n",
       "</style><dl class=dl-inline><dt>1</dt><dd>20.9491810914665</dd><dt>2</dt><dd>18.1223712142894</dd><dt>3</dt><dd>14.6643058496492</dd><dt>4</dt><dd>14.7559616016269</dd><dt>5</dt><dd>15.3643973525618</dd><dt>6</dt><dd>17.6775550184445</dd><dt>7</dt><dd>20.1134700610225</dd><dt>8</dt><dd>21.1022478218504</dd><dt>9</dt><dd>16.4465201762993</dd><dt>10</dt><dd>12.4899140655267</dd><dt>11</dt><dd>13.7811082972277</dd><dt>12</dt><dd>9.19595992028071</dd><dt>13</dt><dd>5.6292935430856</dd><dt>14</dt><dd>6.35334658420485</dd><dt>15</dt><dd>8.54618478541069</dd><dt>16</dt><dd>13.1385222680847</dd><dt>17</dt><dd>17.0034445722529</dd><dt>18</dt><dd>22.6033064926017</dd><dt>19</dt><dd>28.1149176591732</dd><dt>20</dt><dd>32.9894736060918</dd><dt>21</dt><dd>31.7903682249004</dd><dt>22</dt><dd>29.5886418798236</dd><dt>23</dt><dd>26.9023870146415</dd><dt>24</dt><dd>21.835236517492</dd><dt>25</dt><dd>20.900808391283</dd><dt>26</dt><dd>19.5175325126596</dd><dt>27</dt><dd>17.5660380664966</dd><dt>28</dt><dd>17.9252223258944</dd><dt>29</dt><dd>18.6364091346822</dd><dt>30</dt><dd>21.7419378172539</dd><dt>31</dt><dd>23.35011174431</dd><dt>32</dt><dd>20.4164211160942</dd><dt>33</dt><dd>19.0821438020509</dd><dt>34</dt><dd>17.083550272629</dd><dt>35</dt><dd>17.3223351498721</dd><dt>36</dt><dd>13.1301856600307</dd><dt>37</dt><dd>12.54453136386</dd><dt>38</dt><dd>13.8232918330418</dd><dt>39</dt><dd>16.6596565284893</dd><dt>40</dt><dd>16.3498715078728</dd><dt>41</dt><dd>22.5343530164476</dd><dt>42</dt><dd>25.0686755586528</dd><dt>43</dt><dd>32.0879348598004</dd><dt>44</dt><dd>27.6564086263682</dd><dt>45</dt><dd>26.2962531290703</dd><dt>46</dt><dd>20.9682904239506</dd><dt>47</dt><dd>16.6178363652597</dd><dt>48</dt><dd>17.0781096341805</dd><dt>49</dt><dd>14.6966117058863</dd><dt>50</dt><dd>13.6303468869989</dd><dt>51</dt><dd>9.2615730437321</dd><dt>52</dt><dd>10.4127507659639</dd><dt>53</dt><dd>11.5299903309078</dd><dt>54</dt><dd>14.4035480952926</dd><dt>55</dt><dd>10.3946889815276</dd><dt>56</dt><dd>18.0513711896395</dd><dt>57</dt><dd>24.8231693698229</dd><dt>58</dt><dd>24.3482167649411</dd><dt>59</dt><dd>20.1357190594141</dd><dt>60</dt><dd>13.1685208645241</dd><dt>61</dt><dd>13.788034800373</dd><dt>62</dt><dd>13.4455294465818</dd><dt>63</dt><dd>12.7505655802229</dd><dt>64</dt><dd>13.7523115002326</dd><dt>65</dt><dd>15.7073014234777</dd><dt>66</dt><dd>18.2506726289042</dd><dt>67</dt><dd>11.3986573053174</dd><dt>68</dt><dd>10.8597770300275</dd><dt>69</dt><dd>10.4702071230594</dd><dt>70</dt><dd>9.00651222538648</dd><dt>71</dt><dd>8.31411217238458</dd><dt>72</dt><dd>7.98406768386795</dd><dt>73</dt><dd>6.73467792494937</dd><dt>74</dt><dd>7.38384213607342</dd><dt>75</dt><dd>5.92903189314119</dd><dt>76</dt><dd>5.35123699831151</dd><dt>77</dt><dd>7.28951810995522</dd><dt>78</dt><dd>7.29342102362921</dd><dt>79</dt><dd>5.88808488757542</dd><dt>80</dt><dd>6.62472342193286</dd><dt>81</dt><dd>7.29389111312864</dd><dt>82</dt><dd>6.10686521574122</dd><dt>83</dt><dd>5.65908559196901</dd><dt>84</dt><dd>6.00719970579326</dd><dt>85</dt><dd>7.77828771959652</dd><dt>86</dt><dd>6.70889409230174</dd><dt>87</dt><dd>7.87781577999416</dd><dt>88</dt><dd>8.47991869896583</dd><dt>89</dt><dd>11.4367943568059</dd><dt>90</dt><dd>13.9368393986021</dd><dt>91</dt><dd>11.7794156283401</dd><dt>92</dt><dd>9.08891533192487</dd><dt>93</dt><dd>6.38887109658009</dd><dt>94</dt><dd>6.72233523612662</dd><dt>95</dt><dd>7.08328980954734</dd><dt>96</dt><dd>7.25287301060094</dd><dt>97</dt><dd>4.71262661440697</dd><dt>98</dt><dd>4.91479051536377</dd><dt>99</dt><dd>4.19383436290664</dd><dt>100</dt><dd>4.59265970030171</dd><dt>101</dt><dd>5.00932723621421</dd><dt>102</dt><dd>5.83113873363539</dd><dt>103</dt><dd>4.98079318820395</dd><dt>104</dt><dd>4.06895791127324</dd><dt>105</dt><dd>3.98736984883602</dd><dt>106</dt><dd>4.19651385942922</dd><dt>107</dt><dd>5.50201510994668</dd><dt>108</dt><dd>5.06070791000828</dd><dt>109</dt><dd>5.12603544021007</dd><dt>110</dt><dd>5.71521923681269</dd><dt>111</dt><dd>8.59457258318175</dd><dt>112</dt><dd>9.2247485421768</dd><dt>113</dt><dd>8.96355798026498</dd><dt>114</dt><dd>9.44594777480829</dd><dt>115</dt><dd>8.79606331012058</dd><dt>116</dt><dd>8.26317194810004</dd><dt>117</dt><dd>8.35044103252056</dd><dt>118</dt><dd>8.10022810788742</dd><dt>119</dt><dd>7.8823579079558</dd><dt>120</dt><dd>6.64760433749972</dd><dt>121</dt><dd>5.49709813989385</dd><dt>122</dt><dd>4.625359874202</dd><dt>123</dt><dd>4.98735128406124</dd><dt>124</dt><dd>7.53472502433809</dd><dt>125</dt><dd>12.678640968221</dd><dt>126</dt><dd>13.4841072337276</dd><dt>127</dt><dd>10.5257556782419</dd><dt>128</dt><dd>6.90336824638136</dd><dt>129</dt><dd>5.56786024532337</dd><dt>130</dt><dd>6.41805093975465</dd><dt>131</dt><dd>4.95660572199686</dd><dt>132</dt><dd>4.51011888235911</dd><dt>133</dt><dd>4.81806095076495</dd><dt>134</dt><dd>6.51230412162573</dd><dt>135</dt><dd>8.49055723607855</dd><dt>136</dt><dd>15.6072904115162</dd><dt>137</dt><dd>20.6462915803166</dd><dt>138</dt><dd>19.9189360800399</dd><dt>139</dt><dd>8.82426684288587</dd><dt>140</dt><dd>6.7790047872784</dd><dt>141</dt><dd>6.12069990603778</dd><dt>142</dt><dd>6.25657369590697</dd><dt>143</dt><dd>6.46856338706828</dd><dt>144</dt><dd>9.9508983596011</dd><dt>145</dt><dd>9.108977096588</dd><dt>146</dt><dd>&lt;NA&gt;</dd><dt>147</dt><dd>&lt;NA&gt;</dd><dt>148</dt><dd>&lt;NA&gt;</dd><dt>149</dt><dd>&lt;NA&gt;</dd><dt>150</dt><dd>&lt;NA&gt;</dd><dt>151</dt><dd>&lt;NA&gt;</dd><dt>152</dt><dd>10.6265557144815</dd><dt>153</dt><dd>9.71850377598985</dd><dt>154</dt><dd>7.81618030894026</dd><dt>155</dt><dd>5.16742240669743</dd><dt>156</dt><dd>5.30118948762869</dd><dt>157</dt><dd>6.63260900199665</dd><dt>158</dt><dd>7.48026646570353</dd><dt>159</dt><dd>10.9023696400633</dd><dt>160</dt><dd>23.4377948828754</dd><dt>161</dt><dd>27.3813244649999</dd><dt>162</dt><dd>24.4421109479444</dd><dt>163</dt><dd>17.5607514875411</dd><dt>164</dt><dd>15.6052908732481</dd><dt>165</dt><dd>14.6375473240147</dd><dt>166</dt><dd>11.8920985458768</dd><dt>167</dt><dd>9.27924616556761</dd><dt>168</dt><dd>10.8780781229189</dd><dt>169</dt><dd>10.719507141004</dd><dt>170</dt><dd>9.20511687317088</dd><dt>171</dt><dd>&lt;NA&gt;</dd><dt>172</dt><dd>&lt;NA&gt;</dd><dt>173</dt><dd>&lt;NA&gt;</dd><dt>174</dt><dd>24.0220999650305</dd><dt>175</dt><dd>25.7003444288951</dd><dt>176</dt><dd>16.5899889724178</dd><dt>177</dt><dd>13.3785862419732</dd><dt>178</dt><dd>6.92867419037535</dd><dt>179</dt><dd>6.93892978072668</dd><dt>180</dt><dd>6.03462686814603</dd><dt>181</dt><dd>6.92649725982672</dd><dt>182</dt><dd>5.56219336378324</dd><dt>183</dt><dd>6.29775477291608</dd><dt>184</dt><dd>9.64368121864073</dd><dt>185</dt><dd>17.1189666861835</dd><dt>186</dt><dd>26.1948925273541</dd><dt>187</dt><dd>24.185331370546</dd><dt>188</dt><dd>18.2786665551035</dd><dt>189</dt><dd>12.417503722141</dd><dt>190</dt><dd>11.6919518360066</dd><dt>191</dt><dd>12.7839133090463</dd><dt>192</dt><dd>13.0894234265023</dd><dt>193</dt><dd>13.020035293045</dd><dt>194</dt><dd>10.7441786769419</dd><dt>195</dt><dd>10.2323131113563</dd><dt>196</dt><dd>11.7176622756263</dd><dt>197</dt><dd>11.4232538251248</dd><dt>198</dt><dd>14.1634598897149</dd><dt>199</dt><dd>6.9524607181437</dd><dt>200</dt><dd>5.846351756115</dd><dt>201</dt><dd>⋯</dd><dt>202</dt><dd>&lt;NA&gt;</dd><dt>203</dt><dd>&lt;NA&gt;</dd><dt>204</dt><dd>&lt;NA&gt;</dd><dt>205</dt><dd>&lt;NA&gt;</dd><dt>206</dt><dd>&lt;NA&gt;</dd><dt>207</dt><dd>&lt;NA&gt;</dd><dt>208</dt><dd>&lt;NA&gt;</dd><dt>209</dt><dd>&lt;NA&gt;</dd><dt>210</dt><dd>&lt;NA&gt;</dd><dt>211</dt><dd>&lt;NA&gt;</dd><dt>212</dt><dd>&lt;NA&gt;</dd><dt>213</dt><dd>&lt;NA&gt;</dd><dt>214</dt><dd>&lt;NA&gt;</dd><dt>215</dt><dd>&lt;NA&gt;</dd><dt>216</dt><dd>&lt;NA&gt;</dd><dt>217</dt><dd>&lt;NA&gt;</dd><dt>218</dt><dd>&lt;NA&gt;</dd><dt>219</dt><dd>&lt;NA&gt;</dd><dt>220</dt><dd>19.3277035830913</dd><dt>221</dt><dd>24.4443202632184</dd><dt>222</dt><dd>34.3988477173563</dd><dt>223</dt><dd>38.7265177229725</dd><dt>224</dt><dd>42.5419306583674</dd><dt>225</dt><dd>51.1339199449673</dd><dt>226</dt><dd>&lt;NA&gt;</dd><dt>227</dt><dd>&lt;NA&gt;</dd><dt>228</dt><dd>&lt;NA&gt;</dd><dt>229</dt><dd>&lt;NA&gt;</dd><dt>230</dt><dd>&lt;NA&gt;</dd><dt>231</dt><dd>&lt;NA&gt;</dd><dt>232</dt><dd>&lt;NA&gt;</dd><dt>233</dt><dd>&lt;NA&gt;</dd><dt>234</dt><dd>&lt;NA&gt;</dd><dt>235</dt><dd>&lt;NA&gt;</dd><dt>236</dt><dd>&lt;NA&gt;</dd><dt>237</dt><dd>&lt;NA&gt;</dd><dt>238</dt><dd>&lt;NA&gt;</dd><dt>239</dt><dd>&lt;NA&gt;</dd><dt>240</dt><dd>&lt;NA&gt;</dd><dt>241</dt><dd>&lt;NA&gt;</dd><dt>242</dt><dd>&lt;NA&gt;</dd><dt>243</dt><dd>12.8579892787407</dd><dt>244</dt><dd>10.1556694706243</dd><dt>245</dt><dd>13.7026205179752</dd><dt>246</dt><dd>19.9337722076462</dd><dt>247</dt><dd>28.0101971667689</dd><dt>248</dt><dd>36.8146353591657</dd><dt>249</dt><dd>&lt;NA&gt;</dd><dt>250</dt><dd>&lt;NA&gt;</dd><dt>251</dt><dd>&lt;NA&gt;</dd><dt>252</dt><dd>&lt;NA&gt;</dd><dt>253</dt><dd>&lt;NA&gt;</dd><dt>254</dt><dd>&lt;NA&gt;</dd><dt>255</dt><dd>&lt;NA&gt;</dd><dt>256</dt><dd>&lt;NA&gt;</dd><dt>257</dt><dd>&lt;NA&gt;</dd><dt>258</dt><dd>&lt;NA&gt;</dd><dt>259</dt><dd>&lt;NA&gt;</dd><dt>260</dt><dd>&lt;NA&gt;</dd><dt>261</dt><dd>&lt;NA&gt;</dd><dt>262</dt><dd>&lt;NA&gt;</dd><dt>263</dt><dd>&lt;NA&gt;</dd><dt>264</dt><dd>&lt;NA&gt;</dd><dt>265</dt><dd>&lt;NA&gt;</dd><dt>266</dt><dd>10.5639998586953</dd><dt>267</dt><dd>20.9053150900512</dd><dt>268</dt><dd>20.4020411616869</dd><dt>269</dt><dd>25.5223813775164</dd><dt>270</dt><dd>&lt;NA&gt;</dd><dt>271</dt><dd>&lt;NA&gt;</dd><dt>272</dt><dd>&lt;NA&gt;</dd><dt>273</dt><dd>&lt;NA&gt;</dd><dt>274</dt><dd>&lt;NA&gt;</dd><dt>275</dt><dd>&lt;NA&gt;</dd><dt>276</dt><dd>&lt;NA&gt;</dd><dt>277</dt><dd>&lt;NA&gt;</dd><dt>278</dt><dd>&lt;NA&gt;</dd><dt>279</dt><dd>&lt;NA&gt;</dd><dt>280</dt><dd>&lt;NA&gt;</dd><dt>281</dt><dd>&lt;NA&gt;</dd><dt>282</dt><dd>&lt;NA&gt;</dd><dt>283</dt><dd>&lt;NA&gt;</dd><dt>284</dt><dd>&lt;NA&gt;</dd><dt>285</dt><dd>&lt;NA&gt;</dd><dt>286</dt><dd>&lt;NA&gt;</dd><dt>287</dt><dd>&lt;NA&gt;</dd><dt>288</dt><dd>&lt;NA&gt;</dd><dt>289</dt><dd>&lt;NA&gt;</dd><dt>290</dt><dd>&lt;NA&gt;</dd><dt>291</dt><dd>&lt;NA&gt;</dd><dt>292</dt><dd>&lt;NA&gt;</dd><dt>293</dt><dd>&lt;NA&gt;</dd><dt>294</dt><dd>&lt;NA&gt;</dd><dt>295</dt><dd>&lt;NA&gt;</dd><dt>296</dt><dd>&lt;NA&gt;</dd><dt>297</dt><dd>&lt;NA&gt;</dd><dt>298</dt><dd>&lt;NA&gt;</dd><dt>299</dt><dd>&lt;NA&gt;</dd><dt>300</dt><dd>&lt;NA&gt;</dd><dt>301</dt><dd>&lt;NA&gt;</dd><dt>302</dt><dd>&lt;NA&gt;</dd><dt>303</dt><dd>&lt;NA&gt;</dd><dt>304</dt><dd>&lt;NA&gt;</dd><dt>305</dt><dd>&lt;NA&gt;</dd><dt>306</dt><dd>&lt;NA&gt;</dd><dt>307</dt><dd>&lt;NA&gt;</dd><dt>308</dt><dd>&lt;NA&gt;</dd><dt>309</dt><dd>&lt;NA&gt;</dd><dt>310</dt><dd>&lt;NA&gt;</dd><dt>311</dt><dd>&lt;NA&gt;</dd><dt>312</dt><dd>&lt;NA&gt;</dd><dt>313</dt><dd>&lt;NA&gt;</dd><dt>314</dt><dd>&lt;NA&gt;</dd><dt>315</dt><dd>&lt;NA&gt;</dd><dt>316</dt><dd>&lt;NA&gt;</dd><dt>317</dt><dd>&lt;NA&gt;</dd><dt>318</dt><dd>&lt;NA&gt;</dd><dt>319</dt><dd>&lt;NA&gt;</dd><dt>320</dt><dd>&lt;NA&gt;</dd><dt>321</dt><dd>&lt;NA&gt;</dd><dt>322</dt><dd>&lt;NA&gt;</dd><dt>323</dt><dd>&lt;NA&gt;</dd><dt>324</dt><dd>&lt;NA&gt;</dd><dt>325</dt><dd>&lt;NA&gt;</dd><dt>326</dt><dd>&lt;NA&gt;</dd><dt>327</dt><dd>&lt;NA&gt;</dd><dt>328</dt><dd>&lt;NA&gt;</dd><dt>329</dt><dd>&lt;NA&gt;</dd><dt>330</dt><dd>&lt;NA&gt;</dd><dt>331</dt><dd>&lt;NA&gt;</dd><dt>332</dt><dd>&lt;NA&gt;</dd><dt>333</dt><dd>&lt;NA&gt;</dd><dt>334</dt><dd>&lt;NA&gt;</dd><dt>335</dt><dd>&lt;NA&gt;</dd><dt>336</dt><dd>&lt;NA&gt;</dd><dt>337</dt><dd>&lt;NA&gt;</dd><dt>338</dt><dd>&lt;NA&gt;</dd><dt>339</dt><dd>&lt;NA&gt;</dd><dt>340</dt><dd>&lt;NA&gt;</dd><dt>341</dt><dd>&lt;NA&gt;</dd><dt>342</dt><dd>16.461489317597</dd><dt>343</dt><dd>&lt;NA&gt;</dd><dt>344</dt><dd>&lt;NA&gt;</dd><dt>345</dt><dd>&lt;NA&gt;</dd><dt>346</dt><dd>&lt;NA&gt;</dd><dt>347</dt><dd>&lt;NA&gt;</dd><dt>348</dt><dd>&lt;NA&gt;</dd><dt>349</dt><dd>&lt;NA&gt;</dd><dt>350</dt><dd>&lt;NA&gt;</dd><dt>351</dt><dd>&lt;NA&gt;</dd><dt>352</dt><dd>&lt;NA&gt;</dd><dt>353</dt><dd>7.98424463092754</dd><dt>354</dt><dd>6.62334606781657</dd><dt>355</dt><dd>6.17370547334031</dd><dt>356</dt><dd>5.82982194935703</dd><dt>357</dt><dd>6.44531629152359</dd><dt>358</dt><dd>7.57578606664158</dd><dt>359</dt><dd>&lt;NA&gt;</dd><dt>360</dt><dd>&lt;NA&gt;</dd><dt>361</dt><dd>9.20942513650385</dd><dt>362</dt><dd>7.78460434224686</dd><dt>363</dt><dd>7.39462760361619</dd><dt>364</dt><dd>7.36018317611215</dd><dt>365</dt><dd>7.76298393162238</dd><dt>366</dt><dd>14.7807905875329</dd><dt>367</dt><dd>14.0023127654253</dd><dt>368</dt><dd>12.7166252816558</dd><dt>369</dt><dd>12.2463021259169</dd><dt>370</dt><dd>14.4610356807542</dd><dt>371</dt><dd>17.3166593513896</dd><dt>372</dt><dd>16.9734485234568</dd><dt>373</dt><dd>9.19176192325748</dd><dt>374</dt><dd>6.71799320417532</dd><dt>375</dt><dd>6.51849644417303</dd><dt>376</dt><dd>6.59289103145002</dd><dt>377</dt><dd>7.17313197437459</dd><dt>378</dt><dd>6.06457701069879</dd><dt>379</dt><dd>6.17071656826238</dd><dt>380</dt><dd>&lt;NA&gt;</dd><dt>381</dt><dd>&lt;NA&gt;</dd><dt>382</dt><dd>&lt;NA&gt;</dd><dt>383</dt><dd>&lt;NA&gt;</dd><dt>384</dt><dd>&lt;NA&gt;</dd><dt>385</dt><dd>&lt;NA&gt;</dd><dt>386</dt><dd>&lt;NA&gt;</dd><dt>387</dt><dd>&lt;NA&gt;</dd><dt>388</dt><dd>6.28412314988484</dd><dt>389</dt><dd>5.94388838045176</dd><dt>390</dt><dd>6.52026563745929</dd><dt>391</dt><dd>9.50813832223819</dd><dt>392</dt><dd>11.4584178928783</dd><dt>393</dt><dd>16.6719004473242</dd><dt>394</dt><dd>11.8015199665349</dd><dt>395</dt><dd>12.0176269169903</dd><dt>396</dt><dd>15.3468392270358</dd><dt>397</dt><dd>14.0806461156693</dd><dt>398</dt><dd>&lt;NA&gt;</dd><dt>399</dt><dd>&lt;NA&gt;</dd><dt>400</dt><dd>&lt;NA&gt;</dd><dt>401</dt><dd>&lt;NA&gt;</dd></dl>\n"
      ],
      "text/latex": [
       "\\begin{description*}\n",
       "\\item[1] 20.9491810914665\n",
       "\\item[2] 18.1223712142894\n",
       "\\item[3] 14.6643058496492\n",
       "\\item[4] 14.7559616016269\n",
       "\\item[5] 15.3643973525618\n",
       "\\item[6] 17.6775550184445\n",
       "\\item[7] 20.1134700610225\n",
       "\\item[8] 21.1022478218504\n",
       "\\item[9] 16.4465201762993\n",
       "\\item[10] 12.4899140655267\n",
       "\\item[11] 13.7811082972277\n",
       "\\item[12] 9.19595992028071\n",
       "\\item[13] 5.6292935430856\n",
       "\\item[14] 6.35334658420485\n",
       "\\item[15] 8.54618478541069\n",
       "\\item[16] 13.1385222680847\n",
       "\\item[17] 17.0034445722529\n",
       "\\item[18] 22.6033064926017\n",
       "\\item[19] 28.1149176591732\n",
       "\\item[20] 32.9894736060918\n",
       "\\item[21] 31.7903682249004\n",
       "\\item[22] 29.5886418798236\n",
       "\\item[23] 26.9023870146415\n",
       "\\item[24] 21.835236517492\n",
       "\\item[25] 20.900808391283\n",
       "\\item[26] 19.5175325126596\n",
       "\\item[27] 17.5660380664966\n",
       "\\item[28] 17.9252223258944\n",
       "\\item[29] 18.6364091346822\n",
       "\\item[30] 21.7419378172539\n",
       "\\item[31] 23.35011174431\n",
       "\\item[32] 20.4164211160942\n",
       "\\item[33] 19.0821438020509\n",
       "\\item[34] 17.083550272629\n",
       "\\item[35] 17.3223351498721\n",
       "\\item[36] 13.1301856600307\n",
       "\\item[37] 12.54453136386\n",
       "\\item[38] 13.8232918330418\n",
       "\\item[39] 16.6596565284893\n",
       "\\item[40] 16.3498715078728\n",
       "\\item[41] 22.5343530164476\n",
       "\\item[42] 25.0686755586528\n",
       "\\item[43] 32.0879348598004\n",
       "\\item[44] 27.6564086263682\n",
       "\\item[45] 26.2962531290703\n",
       "\\item[46] 20.9682904239506\n",
       "\\item[47] 16.6178363652597\n",
       "\\item[48] 17.0781096341805\n",
       "\\item[49] 14.6966117058863\n",
       "\\item[50] 13.6303468869989\n",
       "\\item[51] 9.2615730437321\n",
       "\\item[52] 10.4127507659639\n",
       "\\item[53] 11.5299903309078\n",
       "\\item[54] 14.4035480952926\n",
       "\\item[55] 10.3946889815276\n",
       "\\item[56] 18.0513711896395\n",
       "\\item[57] 24.8231693698229\n",
       "\\item[58] 24.3482167649411\n",
       "\\item[59] 20.1357190594141\n",
       "\\item[60] 13.1685208645241\n",
       "\\item[61] 13.788034800373\n",
       "\\item[62] 13.4455294465818\n",
       "\\item[63] 12.7505655802229\n",
       "\\item[64] 13.7523115002326\n",
       "\\item[65] 15.7073014234777\n",
       "\\item[66] 18.2506726289042\n",
       "\\item[67] 11.3986573053174\n",
       "\\item[68] 10.8597770300275\n",
       "\\item[69] 10.4702071230594\n",
       "\\item[70] 9.00651222538648\n",
       "\\item[71] 8.31411217238458\n",
       "\\item[72] 7.98406768386795\n",
       "\\item[73] 6.73467792494937\n",
       "\\item[74] 7.38384213607342\n",
       "\\item[75] 5.92903189314119\n",
       "\\item[76] 5.35123699831151\n",
       "\\item[77] 7.28951810995522\n",
       "\\item[78] 7.29342102362921\n",
       "\\item[79] 5.88808488757542\n",
       "\\item[80] 6.62472342193286\n",
       "\\item[81] 7.29389111312864\n",
       "\\item[82] 6.10686521574122\n",
       "\\item[83] 5.65908559196901\n",
       "\\item[84] 6.00719970579326\n",
       "\\item[85] 7.77828771959652\n",
       "\\item[86] 6.70889409230174\n",
       "\\item[87] 7.87781577999416\n",
       "\\item[88] 8.47991869896583\n",
       "\\item[89] 11.4367943568059\n",
       "\\item[90] 13.9368393986021\n",
       "\\item[91] 11.7794156283401\n",
       "\\item[92] 9.08891533192487\n",
       "\\item[93] 6.38887109658009\n",
       "\\item[94] 6.72233523612662\n",
       "\\item[95] 7.08328980954734\n",
       "\\item[96] 7.25287301060094\n",
       "\\item[97] 4.71262661440697\n",
       "\\item[98] 4.91479051536377\n",
       "\\item[99] 4.19383436290664\n",
       "\\item[100] 4.59265970030171\n",
       "\\item[101] 5.00932723621421\n",
       "\\item[102] 5.83113873363539\n",
       "\\item[103] 4.98079318820395\n",
       "\\item[104] 4.06895791127324\n",
       "\\item[105] 3.98736984883602\n",
       "\\item[106] 4.19651385942922\n",
       "\\item[107] 5.50201510994668\n",
       "\\item[108] 5.06070791000828\n",
       "\\item[109] 5.12603544021007\n",
       "\\item[110] 5.71521923681269\n",
       "\\item[111] 8.59457258318175\n",
       "\\item[112] 9.2247485421768\n",
       "\\item[113] 8.96355798026498\n",
       "\\item[114] 9.44594777480829\n",
       "\\item[115] 8.79606331012058\n",
       "\\item[116] 8.26317194810004\n",
       "\\item[117] 8.35044103252056\n",
       "\\item[118] 8.10022810788742\n",
       "\\item[119] 7.8823579079558\n",
       "\\item[120] 6.64760433749972\n",
       "\\item[121] 5.49709813989385\n",
       "\\item[122] 4.625359874202\n",
       "\\item[123] 4.98735128406124\n",
       "\\item[124] 7.53472502433809\n",
       "\\item[125] 12.678640968221\n",
       "\\item[126] 13.4841072337276\n",
       "\\item[127] 10.5257556782419\n",
       "\\item[128] 6.90336824638136\n",
       "\\item[129] 5.56786024532337\n",
       "\\item[130] 6.41805093975465\n",
       "\\item[131] 4.95660572199686\n",
       "\\item[132] 4.51011888235911\n",
       "\\item[133] 4.81806095076495\n",
       "\\item[134] 6.51230412162573\n",
       "\\item[135] 8.49055723607855\n",
       "\\item[136] 15.6072904115162\n",
       "\\item[137] 20.6462915803166\n",
       "\\item[138] 19.9189360800399\n",
       "\\item[139] 8.82426684288587\n",
       "\\item[140] 6.7790047872784\n",
       "\\item[141] 6.12069990603778\n",
       "\\item[142] 6.25657369590697\n",
       "\\item[143] 6.46856338706828\n",
       "\\item[144] 9.9508983596011\n",
       "\\item[145] 9.108977096588\n",
       "\\item[146] <NA>\n",
       "\\item[147] <NA>\n",
       "\\item[148] <NA>\n",
       "\\item[149] <NA>\n",
       "\\item[150] <NA>\n",
       "\\item[151] <NA>\n",
       "\\item[152] 10.6265557144815\n",
       "\\item[153] 9.71850377598985\n",
       "\\item[154] 7.81618030894026\n",
       "\\item[155] 5.16742240669743\n",
       "\\item[156] 5.30118948762869\n",
       "\\item[157] 6.63260900199665\n",
       "\\item[158] 7.48026646570353\n",
       "\\item[159] 10.9023696400633\n",
       "\\item[160] 23.4377948828754\n",
       "\\item[161] 27.3813244649999\n",
       "\\item[162] 24.4421109479444\n",
       "\\item[163] 17.5607514875411\n",
       "\\item[164] 15.6052908732481\n",
       "\\item[165] 14.6375473240147\n",
       "\\item[166] 11.8920985458768\n",
       "\\item[167] 9.27924616556761\n",
       "\\item[168] 10.8780781229189\n",
       "\\item[169] 10.719507141004\n",
       "\\item[170] 9.20511687317088\n",
       "\\item[171] <NA>\n",
       "\\item[172] <NA>\n",
       "\\item[173] <NA>\n",
       "\\item[174] 24.0220999650305\n",
       "\\item[175] 25.7003444288951\n",
       "\\item[176] 16.5899889724178\n",
       "\\item[177] 13.3785862419732\n",
       "\\item[178] 6.92867419037535\n",
       "\\item[179] 6.93892978072668\n",
       "\\item[180] 6.03462686814603\n",
       "\\item[181] 6.92649725982672\n",
       "\\item[182] 5.56219336378324\n",
       "\\item[183] 6.29775477291608\n",
       "\\item[184] 9.64368121864073\n",
       "\\item[185] 17.1189666861835\n",
       "\\item[186] 26.1948925273541\n",
       "\\item[187] 24.185331370546\n",
       "\\item[188] 18.2786665551035\n",
       "\\item[189] 12.417503722141\n",
       "\\item[190] 11.6919518360066\n",
       "\\item[191] 12.7839133090463\n",
       "\\item[192] 13.0894234265023\n",
       "\\item[193] 13.020035293045\n",
       "\\item[194] 10.7441786769419\n",
       "\\item[195] 10.2323131113563\n",
       "\\item[196] 11.7176622756263\n",
       "\\item[197] 11.4232538251248\n",
       "\\item[198] 14.1634598897149\n",
       "\\item[199] 6.9524607181437\n",
       "\\item[200] 5.846351756115\n",
       "\\item[201] ⋯\n",
       "\\item[202] <NA>\n",
       "\\item[203] <NA>\n",
       "\\item[204] <NA>\n",
       "\\item[205] <NA>\n",
       "\\item[206] <NA>\n",
       "\\item[207] <NA>\n",
       "\\item[208] <NA>\n",
       "\\item[209] <NA>\n",
       "\\item[210] <NA>\n",
       "\\item[211] <NA>\n",
       "\\item[212] <NA>\n",
       "\\item[213] <NA>\n",
       "\\item[214] <NA>\n",
       "\\item[215] <NA>\n",
       "\\item[216] <NA>\n",
       "\\item[217] <NA>\n",
       "\\item[218] <NA>\n",
       "\\item[219] <NA>\n",
       "\\item[220] 19.3277035830913\n",
       "\\item[221] 24.4443202632184\n",
       "\\item[222] 34.3988477173563\n",
       "\\item[223] 38.7265177229725\n",
       "\\item[224] 42.5419306583674\n",
       "\\item[225] 51.1339199449673\n",
       "\\item[226] <NA>\n",
       "\\item[227] <NA>\n",
       "\\item[228] <NA>\n",
       "\\item[229] <NA>\n",
       "\\item[230] <NA>\n",
       "\\item[231] <NA>\n",
       "\\item[232] <NA>\n",
       "\\item[233] <NA>\n",
       "\\item[234] <NA>\n",
       "\\item[235] <NA>\n",
       "\\item[236] <NA>\n",
       "\\item[237] <NA>\n",
       "\\item[238] <NA>\n",
       "\\item[239] <NA>\n",
       "\\item[240] <NA>\n",
       "\\item[241] <NA>\n",
       "\\item[242] <NA>\n",
       "\\item[243] 12.8579892787407\n",
       "\\item[244] 10.1556694706243\n",
       "\\item[245] 13.7026205179752\n",
       "\\item[246] 19.9337722076462\n",
       "\\item[247] 28.0101971667689\n",
       "\\item[248] 36.8146353591657\n",
       "\\item[249] <NA>\n",
       "\\item[250] <NA>\n",
       "\\item[251] <NA>\n",
       "\\item[252] <NA>\n",
       "\\item[253] <NA>\n",
       "\\item[254] <NA>\n",
       "\\item[255] <NA>\n",
       "\\item[256] <NA>\n",
       "\\item[257] <NA>\n",
       "\\item[258] <NA>\n",
       "\\item[259] <NA>\n",
       "\\item[260] <NA>\n",
       "\\item[261] <NA>\n",
       "\\item[262] <NA>\n",
       "\\item[263] <NA>\n",
       "\\item[264] <NA>\n",
       "\\item[265] <NA>\n",
       "\\item[266] 10.5639998586953\n",
       "\\item[267] 20.9053150900512\n",
       "\\item[268] 20.4020411616869\n",
       "\\item[269] 25.5223813775164\n",
       "\\item[270] <NA>\n",
       "\\item[271] <NA>\n",
       "\\item[272] <NA>\n",
       "\\item[273] <NA>\n",
       "\\item[274] <NA>\n",
       "\\item[275] <NA>\n",
       "\\item[276] <NA>\n",
       "\\item[277] <NA>\n",
       "\\item[278] <NA>\n",
       "\\item[279] <NA>\n",
       "\\item[280] <NA>\n",
       "\\item[281] <NA>\n",
       "\\item[282] <NA>\n",
       "\\item[283] <NA>\n",
       "\\item[284] <NA>\n",
       "\\item[285] <NA>\n",
       "\\item[286] <NA>\n",
       "\\item[287] <NA>\n",
       "\\item[288] <NA>\n",
       "\\item[289] <NA>\n",
       "\\item[290] <NA>\n",
       "\\item[291] <NA>\n",
       "\\item[292] <NA>\n",
       "\\item[293] <NA>\n",
       "\\item[294] <NA>\n",
       "\\item[295] <NA>\n",
       "\\item[296] <NA>\n",
       "\\item[297] <NA>\n",
       "\\item[298] <NA>\n",
       "\\item[299] <NA>\n",
       "\\item[300] <NA>\n",
       "\\item[301] <NA>\n",
       "\\item[302] <NA>\n",
       "\\item[303] <NA>\n",
       "\\item[304] <NA>\n",
       "\\item[305] <NA>\n",
       "\\item[306] <NA>\n",
       "\\item[307] <NA>\n",
       "\\item[308] <NA>\n",
       "\\item[309] <NA>\n",
       "\\item[310] <NA>\n",
       "\\item[311] <NA>\n",
       "\\item[312] <NA>\n",
       "\\item[313] <NA>\n",
       "\\item[314] <NA>\n",
       "\\item[315] <NA>\n",
       "\\item[316] <NA>\n",
       "\\item[317] <NA>\n",
       "\\item[318] <NA>\n",
       "\\item[319] <NA>\n",
       "\\item[320] <NA>\n",
       "\\item[321] <NA>\n",
       "\\item[322] <NA>\n",
       "\\item[323] <NA>\n",
       "\\item[324] <NA>\n",
       "\\item[325] <NA>\n",
       "\\item[326] <NA>\n",
       "\\item[327] <NA>\n",
       "\\item[328] <NA>\n",
       "\\item[329] <NA>\n",
       "\\item[330] <NA>\n",
       "\\item[331] <NA>\n",
       "\\item[332] <NA>\n",
       "\\item[333] <NA>\n",
       "\\item[334] <NA>\n",
       "\\item[335] <NA>\n",
       "\\item[336] <NA>\n",
       "\\item[337] <NA>\n",
       "\\item[338] <NA>\n",
       "\\item[339] <NA>\n",
       "\\item[340] <NA>\n",
       "\\item[341] <NA>\n",
       "\\item[342] 16.461489317597\n",
       "\\item[343] <NA>\n",
       "\\item[344] <NA>\n",
       "\\item[345] <NA>\n",
       "\\item[346] <NA>\n",
       "\\item[347] <NA>\n",
       "\\item[348] <NA>\n",
       "\\item[349] <NA>\n",
       "\\item[350] <NA>\n",
       "\\item[351] <NA>\n",
       "\\item[352] <NA>\n",
       "\\item[353] 7.98424463092754\n",
       "\\item[354] 6.62334606781657\n",
       "\\item[355] 6.17370547334031\n",
       "\\item[356] 5.82982194935703\n",
       "\\item[357] 6.44531629152359\n",
       "\\item[358] 7.57578606664158\n",
       "\\item[359] <NA>\n",
       "\\item[360] <NA>\n",
       "\\item[361] 9.20942513650385\n",
       "\\item[362] 7.78460434224686\n",
       "\\item[363] 7.39462760361619\n",
       "\\item[364] 7.36018317611215\n",
       "\\item[365] 7.76298393162238\n",
       "\\item[366] 14.7807905875329\n",
       "\\item[367] 14.0023127654253\n",
       "\\item[368] 12.7166252816558\n",
       "\\item[369] 12.2463021259169\n",
       "\\item[370] 14.4610356807542\n",
       "\\item[371] 17.3166593513896\n",
       "\\item[372] 16.9734485234568\n",
       "\\item[373] 9.19176192325748\n",
       "\\item[374] 6.71799320417532\n",
       "\\item[375] 6.51849644417303\n",
       "\\item[376] 6.59289103145002\n",
       "\\item[377] 7.17313197437459\n",
       "\\item[378] 6.06457701069879\n",
       "\\item[379] 6.17071656826238\n",
       "\\item[380] <NA>\n",
       "\\item[381] <NA>\n",
       "\\item[382] <NA>\n",
       "\\item[383] <NA>\n",
       "\\item[384] <NA>\n",
       "\\item[385] <NA>\n",
       "\\item[386] <NA>\n",
       "\\item[387] <NA>\n",
       "\\item[388] 6.28412314988484\n",
       "\\item[389] 5.94388838045176\n",
       "\\item[390] 6.52026563745929\n",
       "\\item[391] 9.50813832223819\n",
       "\\item[392] 11.4584178928783\n",
       "\\item[393] 16.6719004473242\n",
       "\\item[394] 11.8015199665349\n",
       "\\item[395] 12.0176269169903\n",
       "\\item[396] 15.3468392270358\n",
       "\\item[397] 14.0806461156693\n",
       "\\item[398] <NA>\n",
       "\\item[399] <NA>\n",
       "\\item[400] <NA>\n",
       "\\item[401] <NA>\n",
       "\\end{description*}\n"
      ],
      "text/markdown": [
       "1\n",
       ":   20.94918109146652\n",
       ":   18.12237121428943\n",
       ":   14.66430584964924\n",
       ":   14.75596160162695\n",
       ":   15.36439735256186\n",
       ":   17.67755501844457\n",
       ":   20.11347006102258\n",
       ":   21.10224782185049\n",
       ":   16.446520176299310\n",
       ":   12.489914065526711\n",
       ":   13.781108297227712\n",
       ":   9.1959599202807113\n",
       ":   5.629293543085614\n",
       ":   6.3533465842048515\n",
       ":   8.5461847854106916\n",
       ":   13.138522268084717\n",
       ":   17.003444572252918\n",
       ":   22.603306492601719\n",
       ":   28.114917659173220\n",
       ":   32.989473606091821\n",
       ":   31.790368224900422\n",
       ":   29.588641879823623\n",
       ":   26.902387014641524\n",
       ":   21.83523651749225\n",
       ":   20.90080839128326\n",
       ":   19.517532512659627\n",
       ":   17.566038066496628\n",
       ":   17.925222325894429\n",
       ":   18.636409134682230\n",
       ":   21.741937817253931\n",
       ":   23.3501117443132\n",
       ":   20.416421116094233\n",
       ":   19.082143802050934\n",
       ":   17.08355027262935\n",
       ":   17.322335149872136\n",
       ":   13.130185660030737\n",
       ":   12.5445313638638\n",
       ":   13.823291833041839\n",
       ":   16.659656528489340\n",
       ":   16.349871507872841\n",
       ":   22.534353016447642\n",
       ":   25.068675558652843\n",
       ":   32.087934859800444\n",
       ":   27.656408626368245\n",
       ":   26.296253129070346\n",
       ":   20.968290423950647\n",
       ":   16.617836365259748\n",
       ":   17.078109634180549\n",
       ":   14.696611705886350\n",
       ":   13.630346886998951\n",
       ":   9.261573043732152\n",
       ":   10.412750765963953\n",
       ":   11.529990330907854\n",
       ":   14.403548095292655\n",
       ":   10.394688981527656\n",
       ":   18.051371189639557\n",
       ":   24.823169369822958\n",
       ":   24.348216764941159\n",
       ":   20.135719059414160\n",
       ":   13.168520864524161\n",
       ":   13.78803480037362\n",
       ":   13.445529446581863\n",
       ":   12.750565580222964\n",
       ":   13.752311500232665\n",
       ":   15.707301423477766\n",
       ":   18.250672628904267\n",
       ":   11.398657305317468\n",
       ":   10.859777030027569\n",
       ":   10.470207123059470\n",
       ":   9.0065122253864871\n",
       ":   8.3141121723845872\n",
       ":   7.9840676838679573\n",
       ":   6.7346779249493774\n",
       ":   7.3838421360734275\n",
       ":   5.9290318931411976\n",
       ":   5.3512369983115177\n",
       ":   7.2895181099552278\n",
       ":   7.2934210236292179\n",
       ":   5.8880848875754280\n",
       ":   6.6247234219328681\n",
       ":   7.2938911131286482\n",
       ":   6.1068652157412283\n",
       ":   5.6590855919690184\n",
       ":   6.0071997057932685\n",
       ":   7.7782877195965286\n",
       ":   6.7088940923017487\n",
       ":   7.8778157799941688\n",
       ":   8.4799186989658389\n",
       ":   11.436794356805990\n",
       ":   13.936839398602191\n",
       ":   11.779415628340192\n",
       ":   9.0889153319248793\n",
       ":   6.3888710965800994\n",
       ":   6.7223352361266295\n",
       ":   7.0832898095473496\n",
       ":   7.2528730106009497\n",
       ":   4.7126266144069798\n",
       ":   4.9147905153637799\n",
       ":   4.19383436290664100\n",
       ":   4.59265970030171101\n",
       ":   5.00932723621421102\n",
       ":   5.83113873363539103\n",
       ":   4.98079318820395104\n",
       ":   4.06895791127324105\n",
       ":   3.98736984883602106\n",
       ":   4.19651385942922107\n",
       ":   5.50201510994668108\n",
       ":   5.06070791000828109\n",
       ":   5.12603544021007110\n",
       ":   5.71521923681269111\n",
       ":   8.59457258318175112\n",
       ":   9.2247485421768113\n",
       ":   8.96355798026498114\n",
       ":   9.44594777480829115\n",
       ":   8.79606331012058116\n",
       ":   8.26317194810004117\n",
       ":   8.35044103252056118\n",
       ":   8.10022810788742119\n",
       ":   7.8823579079558120\n",
       ":   6.64760433749972121\n",
       ":   5.49709813989385122\n",
       ":   4.625359874202123\n",
       ":   4.98735128406124124\n",
       ":   7.53472502433809125\n",
       ":   12.678640968221126\n",
       ":   13.4841072337276127\n",
       ":   10.5257556782419128\n",
       ":   6.90336824638136129\n",
       ":   5.56786024532337130\n",
       ":   6.41805093975465131\n",
       ":   4.95660572199686132\n",
       ":   4.51011888235911133\n",
       ":   4.81806095076495134\n",
       ":   6.51230412162573135\n",
       ":   8.49055723607855136\n",
       ":   15.6072904115162137\n",
       ":   20.6462915803166138\n",
       ":   19.9189360800399139\n",
       ":   8.82426684288587140\n",
       ":   6.7790047872784141\n",
       ":   6.12069990603778142\n",
       ":   6.25657369590697143\n",
       ":   6.46856338706828144\n",
       ":   9.9508983596011145\n",
       ":   9.108977096588146\n",
       ":   &lt;NA&gt;147\n",
       ":   &lt;NA&gt;148\n",
       ":   &lt;NA&gt;149\n",
       ":   &lt;NA&gt;150\n",
       ":   &lt;NA&gt;151\n",
       ":   &lt;NA&gt;152\n",
       ":   10.6265557144815153\n",
       ":   9.71850377598985154\n",
       ":   7.81618030894026155\n",
       ":   5.16742240669743156\n",
       ":   5.30118948762869157\n",
       ":   6.63260900199665158\n",
       ":   7.48026646570353159\n",
       ":   10.9023696400633160\n",
       ":   23.4377948828754161\n",
       ":   27.3813244649999162\n",
       ":   24.4421109479444163\n",
       ":   17.5607514875411164\n",
       ":   15.6052908732481165\n",
       ":   14.6375473240147166\n",
       ":   11.8920985458768167\n",
       ":   9.27924616556761168\n",
       ":   10.8780781229189169\n",
       ":   10.719507141004170\n",
       ":   9.20511687317088171\n",
       ":   &lt;NA&gt;172\n",
       ":   &lt;NA&gt;173\n",
       ":   &lt;NA&gt;174\n",
       ":   24.0220999650305175\n",
       ":   25.7003444288951176\n",
       ":   16.5899889724178177\n",
       ":   13.3785862419732178\n",
       ":   6.92867419037535179\n",
       ":   6.93892978072668180\n",
       ":   6.03462686814603181\n",
       ":   6.92649725982672182\n",
       ":   5.56219336378324183\n",
       ":   6.29775477291608184\n",
       ":   9.64368121864073185\n",
       ":   17.1189666861835186\n",
       ":   26.1948925273541187\n",
       ":   24.185331370546188\n",
       ":   18.2786665551035189\n",
       ":   12.417503722141190\n",
       ":   11.6919518360066191\n",
       ":   12.7839133090463192\n",
       ":   13.0894234265023193\n",
       ":   13.020035293045194\n",
       ":   10.7441786769419195\n",
       ":   10.2323131113563196\n",
       ":   11.7176622756263197\n",
       ":   11.4232538251248198\n",
       ":   14.1634598897149199\n",
       ":   6.9524607181437200\n",
       ":   5.846351756115201\n",
       ":   ⋯202\n",
       ":   &lt;NA&gt;203\n",
       ":   &lt;NA&gt;204\n",
       ":   &lt;NA&gt;205\n",
       ":   &lt;NA&gt;206\n",
       ":   &lt;NA&gt;207\n",
       ":   &lt;NA&gt;208\n",
       ":   &lt;NA&gt;209\n",
       ":   &lt;NA&gt;210\n",
       ":   &lt;NA&gt;211\n",
       ":   &lt;NA&gt;212\n",
       ":   &lt;NA&gt;213\n",
       ":   &lt;NA&gt;214\n",
       ":   &lt;NA&gt;215\n",
       ":   &lt;NA&gt;216\n",
       ":   &lt;NA&gt;217\n",
       ":   &lt;NA&gt;218\n",
       ":   &lt;NA&gt;219\n",
       ":   &lt;NA&gt;220\n",
       ":   19.3277035830913221\n",
       ":   24.4443202632184222\n",
       ":   34.3988477173563223\n",
       ":   38.7265177229725224\n",
       ":   42.5419306583674225\n",
       ":   51.1339199449673226\n",
       ":   &lt;NA&gt;227\n",
       ":   &lt;NA&gt;228\n",
       ":   &lt;NA&gt;229\n",
       ":   &lt;NA&gt;230\n",
       ":   &lt;NA&gt;231\n",
       ":   &lt;NA&gt;232\n",
       ":   &lt;NA&gt;233\n",
       ":   &lt;NA&gt;234\n",
       ":   &lt;NA&gt;235\n",
       ":   &lt;NA&gt;236\n",
       ":   &lt;NA&gt;237\n",
       ":   &lt;NA&gt;238\n",
       ":   &lt;NA&gt;239\n",
       ":   &lt;NA&gt;240\n",
       ":   &lt;NA&gt;241\n",
       ":   &lt;NA&gt;242\n",
       ":   &lt;NA&gt;243\n",
       ":   12.8579892787407244\n",
       ":   10.1556694706243245\n",
       ":   13.7026205179752246\n",
       ":   19.9337722076462247\n",
       ":   28.0101971667689248\n",
       ":   36.8146353591657249\n",
       ":   &lt;NA&gt;250\n",
       ":   &lt;NA&gt;251\n",
       ":   &lt;NA&gt;252\n",
       ":   &lt;NA&gt;253\n",
       ":   &lt;NA&gt;254\n",
       ":   &lt;NA&gt;255\n",
       ":   &lt;NA&gt;256\n",
       ":   &lt;NA&gt;257\n",
       ":   &lt;NA&gt;258\n",
       ":   &lt;NA&gt;259\n",
       ":   &lt;NA&gt;260\n",
       ":   &lt;NA&gt;261\n",
       ":   &lt;NA&gt;262\n",
       ":   &lt;NA&gt;263\n",
       ":   &lt;NA&gt;264\n",
       ":   &lt;NA&gt;265\n",
       ":   &lt;NA&gt;266\n",
       ":   10.5639998586953267\n",
       ":   20.9053150900512268\n",
       ":   20.4020411616869269\n",
       ":   25.5223813775164270\n",
       ":   &lt;NA&gt;271\n",
       ":   &lt;NA&gt;272\n",
       ":   &lt;NA&gt;273\n",
       ":   &lt;NA&gt;274\n",
       ":   &lt;NA&gt;275\n",
       ":   &lt;NA&gt;276\n",
       ":   &lt;NA&gt;277\n",
       ":   &lt;NA&gt;278\n",
       ":   &lt;NA&gt;279\n",
       ":   &lt;NA&gt;280\n",
       ":   &lt;NA&gt;281\n",
       ":   &lt;NA&gt;282\n",
       ":   &lt;NA&gt;283\n",
       ":   &lt;NA&gt;284\n",
       ":   &lt;NA&gt;285\n",
       ":   &lt;NA&gt;286\n",
       ":   &lt;NA&gt;287\n",
       ":   &lt;NA&gt;288\n",
       ":   &lt;NA&gt;289\n",
       ":   &lt;NA&gt;290\n",
       ":   &lt;NA&gt;291\n",
       ":   &lt;NA&gt;292\n",
       ":   &lt;NA&gt;293\n",
       ":   &lt;NA&gt;294\n",
       ":   &lt;NA&gt;295\n",
       ":   &lt;NA&gt;296\n",
       ":   &lt;NA&gt;297\n",
       ":   &lt;NA&gt;298\n",
       ":   &lt;NA&gt;299\n",
       ":   &lt;NA&gt;300\n",
       ":   &lt;NA&gt;301\n",
       ":   &lt;NA&gt;302\n",
       ":   &lt;NA&gt;303\n",
       ":   &lt;NA&gt;304\n",
       ":   &lt;NA&gt;305\n",
       ":   &lt;NA&gt;306\n",
       ":   &lt;NA&gt;307\n",
       ":   &lt;NA&gt;308\n",
       ":   &lt;NA&gt;309\n",
       ":   &lt;NA&gt;310\n",
       ":   &lt;NA&gt;311\n",
       ":   &lt;NA&gt;312\n",
       ":   &lt;NA&gt;313\n",
       ":   &lt;NA&gt;314\n",
       ":   &lt;NA&gt;315\n",
       ":   &lt;NA&gt;316\n",
       ":   &lt;NA&gt;317\n",
       ":   &lt;NA&gt;318\n",
       ":   &lt;NA&gt;319\n",
       ":   &lt;NA&gt;320\n",
       ":   &lt;NA&gt;321\n",
       ":   &lt;NA&gt;322\n",
       ":   &lt;NA&gt;323\n",
       ":   &lt;NA&gt;324\n",
       ":   &lt;NA&gt;325\n",
       ":   &lt;NA&gt;326\n",
       ":   &lt;NA&gt;327\n",
       ":   &lt;NA&gt;328\n",
       ":   &lt;NA&gt;329\n",
       ":   &lt;NA&gt;330\n",
       ":   &lt;NA&gt;331\n",
       ":   &lt;NA&gt;332\n",
       ":   &lt;NA&gt;333\n",
       ":   &lt;NA&gt;334\n",
       ":   &lt;NA&gt;335\n",
       ":   &lt;NA&gt;336\n",
       ":   &lt;NA&gt;337\n",
       ":   &lt;NA&gt;338\n",
       ":   &lt;NA&gt;339\n",
       ":   &lt;NA&gt;340\n",
       ":   &lt;NA&gt;341\n",
       ":   &lt;NA&gt;342\n",
       ":   16.461489317597343\n",
       ":   &lt;NA&gt;344\n",
       ":   &lt;NA&gt;345\n",
       ":   &lt;NA&gt;346\n",
       ":   &lt;NA&gt;347\n",
       ":   &lt;NA&gt;348\n",
       ":   &lt;NA&gt;349\n",
       ":   &lt;NA&gt;350\n",
       ":   &lt;NA&gt;351\n",
       ":   &lt;NA&gt;352\n",
       ":   &lt;NA&gt;353\n",
       ":   7.98424463092754354\n",
       ":   6.62334606781657355\n",
       ":   6.17370547334031356\n",
       ":   5.82982194935703357\n",
       ":   6.44531629152359358\n",
       ":   7.57578606664158359\n",
       ":   &lt;NA&gt;360\n",
       ":   &lt;NA&gt;361\n",
       ":   9.20942513650385362\n",
       ":   7.78460434224686363\n",
       ":   7.39462760361619364\n",
       ":   7.36018317611215365\n",
       ":   7.76298393162238366\n",
       ":   14.7807905875329367\n",
       ":   14.0023127654253368\n",
       ":   12.7166252816558369\n",
       ":   12.2463021259169370\n",
       ":   14.4610356807542371\n",
       ":   17.3166593513896372\n",
       ":   16.9734485234568373\n",
       ":   9.19176192325748374\n",
       ":   6.71799320417532375\n",
       ":   6.51849644417303376\n",
       ":   6.59289103145002377\n",
       ":   7.17313197437459378\n",
       ":   6.06457701069879379\n",
       ":   6.17071656826238380\n",
       ":   &lt;NA&gt;381\n",
       ":   &lt;NA&gt;382\n",
       ":   &lt;NA&gt;383\n",
       ":   &lt;NA&gt;384\n",
       ":   &lt;NA&gt;385\n",
       ":   &lt;NA&gt;386\n",
       ":   &lt;NA&gt;387\n",
       ":   &lt;NA&gt;388\n",
       ":   6.28412314988484389\n",
       ":   5.94388838045176390\n",
       ":   6.52026563745929391\n",
       ":   9.50813832223819392\n",
       ":   11.4584178928783393\n",
       ":   16.6719004473242394\n",
       ":   11.8015199665349395\n",
       ":   12.0176269169903396\n",
       ":   15.3468392270358397\n",
       ":   14.0806461156693398\n",
       ":   &lt;NA&gt;399\n",
       ":   &lt;NA&gt;400\n",
       ":   &lt;NA&gt;401\n",
       ":   &lt;NA&gt;\n",
       "\n"
      ],
      "text/plain": [
       "        1         2         3         4         5         6         7         8 \n",
       "20.949181 18.122371 14.664306 14.755962 15.364397 17.677555 20.113470 21.102248 \n",
       "        9        10        11        12        13        14        15        16 \n",
       "16.446520 12.489914 13.781108  9.195960  5.629294  6.353347  8.546185 13.138522 \n",
       "       17        18        19        20        21        22        23        24 \n",
       "17.003445 22.603306 28.114918 32.989474 31.790368 29.588642 26.902387 21.835237 \n",
       "       25        26        27        28        29        30        31        32 \n",
       "20.900808 19.517533 17.566038 17.925222 18.636409 21.741938 23.350112 20.416421 \n",
       "       33        34        35        36        37        38        39        40 \n",
       "19.082144 17.083550 17.322335 13.130186 12.544531 13.823292 16.659657 16.349872 \n",
       "       41        42        43        44        45        46        47        48 \n",
       "22.534353 25.068676 32.087935 27.656409 26.296253 20.968290 16.617836 17.078110 \n",
       "       49        50        51        52        53        54        55        56 \n",
       "14.696612 13.630347  9.261573 10.412751 11.529990 14.403548 10.394689 18.051371 \n",
       "       57        58        59        60        61        62        63        64 \n",
       "24.823169 24.348217 20.135719 13.168521 13.788035 13.445529 12.750566 13.752312 \n",
       "       65        66        67        68        69        70        71        72 \n",
       "15.707301 18.250673 11.398657 10.859777 10.470207  9.006512  8.314112  7.984068 \n",
       "       73        74        75        76        77        78        79        80 \n",
       " 6.734678  7.383842  5.929032  5.351237  7.289518  7.293421  5.888085  6.624723 \n",
       "       81        82        83        84        85        86        87        88 \n",
       " 7.293891  6.106865  5.659086  6.007200  7.778288  6.708894  7.877816  8.479919 \n",
       "       89        90        91        92        93        94        95        96 \n",
       "11.436794 13.936839 11.779416  9.088915  6.388871  6.722335  7.083290  7.252873 \n",
       "       97        98        99       100       101       102       103       104 \n",
       " 4.712627  4.914791  4.193834  4.592660  5.009327  5.831139  4.980793  4.068958 \n",
       "      105       106       107       108       109       110       111       112 \n",
       " 3.987370  4.196514  5.502015  5.060708  5.126035  5.715219  8.594573  9.224749 \n",
       "      113       114       115       116       117       118       119       120 \n",
       " 8.963558  9.445948  8.796063  8.263172  8.350441  8.100228  7.882358  6.647604 \n",
       "      121       122       123       124       125       126       127       128 \n",
       " 5.497098  4.625360  4.987351  7.534725 12.678641 13.484107 10.525756  6.903368 \n",
       "      129       130       131       132       133       134       135       136 \n",
       " 5.567860  6.418051  4.956606  4.510119  4.818061  6.512304  8.490557 15.607290 \n",
       "      137       138       139       140       141       142       143       144 \n",
       "20.646292 19.918936  8.824267  6.779005  6.120700  6.256574  6.468563  9.950898 \n",
       "      145       146       147       148       149       150       151       152 \n",
       " 9.108977        NA        NA        NA        NA        NA        NA 10.626556 \n",
       "      153       154       155       156       157       158       159       160 \n",
       " 9.718504  7.816180  5.167422  5.301189  6.632609  7.480266 10.902370 23.437795 \n",
       "      161       162       163       164       165       166       167       168 \n",
       "27.381324 24.442111 17.560751 15.605291 14.637547 11.892099  9.279246 10.878078 \n",
       "      169       170       171       172       173       174       175       176 \n",
       "10.719507  9.205117        NA        NA        NA 24.022100 25.700344 16.589989 \n",
       "      177       178       179       180       181       182       183       184 \n",
       "13.378586  6.928674  6.938930  6.034627  6.926497  5.562193  6.297755  9.643681 \n",
       "      185       186       187       188       189       190       191       192 \n",
       "17.118967 26.194893 24.185331 18.278667 12.417504 11.691952 12.783913 13.089423 \n",
       "      193       194       195       196       197       198       199       200 \n",
       "13.020035 10.744179 10.232313 11.717662 11.423254 14.163460  6.952461  5.846352 \n",
       "      201       202       203       204       205       206       207       208 \n",
       " 6.317496  5.207376  6.246584  7.439898  7.656573 13.718437 20.555182 14.261678 \n",
       "      209       210       211       212       213       214       215       216 \n",
       "13.453617 10.637376  8.476460  6.214663  5.793673  5.898980  6.271836  5.859832 \n",
       "      217       218       219       220       221       222       223       224 \n",
       " 8.995698 10.379714 13.003636 14.845179 10.375328  9.642025 10.450480  6.290741 \n",
       "      225       226       227       228       229       230       231       232 \n",
       " 7.375063  7.944755  9.494233  7.082720  8.830939 14.488955 17.037594 20.097631 \n",
       "      233       234       235       236       237       238       239       240 \n",
       "16.652589 19.617994 13.344824 10.213140  8.333464  8.344884  6.658593  7.791462 \n",
       "      241       242       243       244       245       246       247       248 \n",
       " 8.276817  9.967035 10.616619  9.427905  9.690051 10.629872 10.455574  8.989576 \n",
       "      249       250       251       252       253       254       255       256 \n",
       " 8.437531  8.448677  7.870695  8.637307 10.773985 11.720049 16.096835 22.742851 \n",
       "      257       258       259       260       261       262       263       264 \n",
       "31.500959 35.200058 24.274971 24.109077 25.162170 24.917298 20.048458 17.398618 \n",
       "      265       266       267       268       269       270       271       272 \n",
       "17.106776 16.551548 13.094358 12.403422 13.423756 13.317479 10.427275  7.927372 \n",
       "      273       274       275       276       277       278       279       280 \n",
       " 7.397954  7.348802  7.371788  8.165974  8.317289 11.276151 14.448428 14.726457 \n",
       "      281       282       283       284       285       286       287       288 \n",
       "16.882832 14.359404 12.693957 11.378990 10.719361 11.613049 12.052446 12.339139 \n",
       "      289       290       291       292       293       294       295       296 \n",
       "11.036415 12.335079 15.161965 15.265107 13.241556 12.998778 13.186274 13.066637 \n",
       "      297       298       299       300       301       302       303       304 \n",
       "12.124576 12.265458  9.143752  9.497572  9.982878 10.646274 12.454849 12.315681 \n",
       "      305       306       307       308       309       310       311       312 \n",
       "11.613828  9.998099  7.994928  6.293691  5.922304  6.291197  6.362952  6.844056 \n",
       "      313       314       315       316       317       318       319       320 \n",
       " 6.515167  7.178782 12.580963 13.275722 10.899073  8.795793  8.065765  9.130177 \n",
       "      321       322       323       324       325       326       327       328 \n",
       " 9.331818  7.764692  6.929431  7.239532  7.326383  8.647088 10.501304 17.164541 \n",
       "      329       330       331       332       333       334       335       336 \n",
       "20.482560 11.438405 10.756846  9.256461  9.362807 10.586122  8.693144  7.358751 \n",
       "      337       338       339       340       341       342       343       344 \n",
       " 8.462254        NA        NA 19.078995 15.522757 13.755356  9.344905  8.418483 \n",
       "      345       346       347       348       349       350       351       352 \n",
       " 9.238252  9.674921 11.275410 13.461955 13.963939 15.349700 20.860094 14.723533 \n",
       "      353       354       355       356       357       358       359       360 \n",
       "14.403335 12.858713 15.058570 20.975997 20.286007 19.096395 17.185984 13.761190 \n",
       "      361       362       363       364       365       366       367       368 \n",
       "15.415340 14.690822 15.761323 17.661584 18.840517  8.363038 10.324119 11.582939 \n",
       "      369       370       371       372       373       374       375       376 \n",
       "11.148671 13.653280 14.115593 11.131115 12.790805 15.211459 22.131104 25.974903 \n",
       "      377       378       379       380       381       382       383       384 \n",
       "23.800874 23.354251 21.551248 20.301528 14.670897  9.757388  8.914498  8.286897 \n",
       "      385       386       387       388       389       390       391       392 \n",
       "       NA 11.134705 10.759193 13.629371 17.054264 16.813743 18.343236  9.447816 \n",
       "      393       394       395       396       397       398       399       400 \n",
       " 8.650553  5.787002  5.987977  7.792048  9.327686  9.460438 15.619239 20.584820 \n",
       "      401       402       403       404       405       406       407       408 \n",
       "15.130196 17.906983 19.206314 17.387471 15.211927 13.675057 12.498773 10.994971 \n",
       "      409       410       411       412       413       414       415       416 \n",
       " 9.391682  9.743244  9.322245  9.214006  9.934286 12.305129 11.751534 10.256562 \n",
       "      417       418       419       420       421       422       423       424 \n",
       " 6.556723  5.283263  5.104956  6.239852  5.873056  8.109773 26.331326 28.394270 \n",
       "      425       426       427       428       429       430       431       432 \n",
       "40.345189 34.509002 29.777435 25.569963 17.807116 16.030640 13.635033 13.226262 \n",
       "      433       434       435       436       437       438       439       440 \n",
       "11.699814 11.295093        NA        NA 12.818376 12.214680  8.382867  7.825367 \n",
       "      441       442       443       444       445       446       447       448 \n",
       " 6.836416  5.249317  6.833186  6.469755  8.681557  8.158290  9.244413 20.180434 \n",
       "      449       450       451       452       453       454       455       456 \n",
       "28.523058 36.018337 33.032681 28.362320 23.010280 12.589772 16.435000 15.078928 \n",
       "      457       458       459       460       461       462       463       464 \n",
       "15.475031 16.752109 20.485506 28.601627 29.274696 25.336318 26.038493 23.201580 \n",
       "      465       466       467       468       469       470       471       472 \n",
       "20.358170 17.932010 13.560499 14.310717 12.551817 17.035309 30.549589 38.289381 \n",
       "      473       474       475       476       477       478       479       480 \n",
       "44.588765 41.223778 33.962881 34.109540 23.186137 21.801167 18.994403 14.751564 \n",
       "      481       482       483       484       485       486       487       488 \n",
       "17.077511 16.749964 18.233369 25.480724 22.993979 21.372467 14.738130  9.785814 \n",
       "      489       490       491       492       493       494       495       496 \n",
       "10.480357  9.234701  7.035923  7.689500  8.964671 10.249601 12.530360 14.780325 \n",
       "      497       498       499       500       501       502       503       504 \n",
       "12.923316 14.367691 20.007626 24.475870 15.771079 16.407139 15.108492 13.969151 \n",
       "      505       506       507       508       509       510       511       512 \n",
       "11.512717 15.875802 22.608842 25.764682 31.096247 31.285064 33.715914 35.167289 \n",
       "      513       514       515       516       517       518       519       520 \n",
       "28.522962 18.878040 16.789665 24.861951 26.870690 25.347008 23.800398 15.787114 \n",
       "      521       522       523       524       525       526       527       528 \n",
       "13.701024 12.017610 13.378570 15.369016  9.784550 11.542197  9.939728  7.972487 \n",
       "      529       530       531       532       533       534       535       536 \n",
       "10.857129 13.325534 15.494829 14.554829 17.729092 11.941682 11.157965  8.979313 \n",
       "      537       538       539       540       541       542       543       544 \n",
       " 8.017094  5.827920  5.510984  5.418014  6.229307  9.177363 15.374131  7.302719 \n",
       "      545       546       547       548       549       550       551       552 \n",
       " 8.354635  7.218522  6.549182  5.374366  5.295677        NA        NA        NA \n",
       "      553       554       555       556       557       558       559       560 \n",
       "       NA        NA        NA        NA        NA        NA        NA  6.386803 \n",
       "      561       562       563       564       565       566       567       568 \n",
       " 4.705401  4.744185  5.605867  5.526083  5.263539  8.890635 14.402521 11.217269 \n",
       "      569       570       571       572       573       574       575       576 \n",
       " 9.667843        NA        NA        NA        NA        NA        NA        NA \n",
       "      577       578       579       580       581       582       583       584 \n",
       "       NA        NA        NA        NA        NA        NA        NA        NA \n",
       "      585       586       587       588       589       590       591       592 \n",
       " 4.239075  3.792877  4.401366  4.260367  5.273939  6.513011  8.823427 12.526831 \n",
       "      593       594       595       596       597       598       599       600 \n",
       "       NA        NA        NA        NA        NA        NA        NA        NA \n",
       "      601       602       603       604       605       606       607       608 \n",
       "       NA        NA        NA        NA        NA        NA        NA        NA \n",
       "      609       610       611       612       613       614       615       616 \n",
       " 4.632167  4.450370  4.466368  5.008298  5.257481  9.447431 22.869981 33.421133 \n",
       "      617       618       619       620       621       622       623       624 \n",
       "28.860071        NA        NA        NA        NA        NA        NA        NA \n",
       "      625       626       627       628       629       630       631       632 \n",
       "       NA        NA        NA        NA        NA        NA        NA        NA \n",
       "      633       634       635       636       637       638       639       640 \n",
       "12.339447 12.560540 12.345635 22.161897 19.416368 31.918431 43.233185 54.821795 \n",
       "      641       642       643       644       645       646       647       648 \n",
       "50.836100 44.772527        NA        NA 24.110879        NA        NA        NA \n",
       "      649       650       651       652       653       654       655       656 \n",
       "       NA        NA        NA        NA        NA        NA 14.227366 11.754551 \n",
       "      657       658       659       660       661       662       663       664 \n",
       " 7.062025  5.340924  4.711868 10.359973 12.294250 12.827751 36.070320 40.921602 \n",
       "      665       666       667       668       669       670       671       672 \n",
       "29.661582 31.199643        NA        NA        NA  7.092626  6.211345  5.751237 \n",
       "      673       674       675       676       677       678       679       680 \n",
       " 5.596825  4.376736 12.300753 22.824338 42.600464 29.631989        NA        NA \n",
       "      681       682       683       684       685       686       687       688 \n",
       "       NA        NA        NA        NA        NA        NA 10.649021 17.426298 \n",
       "      689       690       691       692       693       694       695       696 \n",
       "26.204939 25.225071 27.657287 18.239382 11.828029  7.186203  6.519724  7.584981 \n",
       "      697       698       699       700       701       702       703       704 \n",
       " 7.202120  6.942702  8.055282  9.395100 13.803701 14.655454 15.329205 14.479290 \n",
       "      705       706       707       708       709       710       711       712 \n",
       "21.337482 22.055648 14.811244 10.193983  8.369136  6.418252        NA        NA \n",
       "      713       714       715       716       717       718       719       720 \n",
       " 9.878994  9.297505  8.521212  6.223963  5.419720  7.074084  9.970266  6.307021 \n",
       "      721       722       723       724       725       726       727       728 \n",
       " 7.181170  8.604919 13.198954 10.222172 10.251762 10.258826 22.563389 30.283208 \n",
       "      729       730       731       732       733       734       735       736 \n",
       "26.558400        NA        NA        NA        NA        NA        NA        NA \n",
       "      737       738       739       740       741       742       743       744 \n",
       "       NA        NA        NA  6.574573  4.389969  4.191444  4.660449  4.756125 \n",
       "      745       746       747       748       749       750       751       752 \n",
       " 5.231751  6.431921 10.231114 24.227805 27.299104 36.294191 42.212053 27.856056 \n",
       "      753       754       755       756       757       758       759       760 \n",
       "33.982869 30.396537 18.975728        NA        NA        NA        NA        NA \n",
       "      761       762       763       764       765       766       767       768 \n",
       "       NA        NA        NA        NA        NA 26.127003 23.835577 26.174055 \n",
       "      769       770       771       772       773       774       775       776 \n",
       "26.549159 22.487351 24.029543 22.508420 20.507336 17.873978 14.563282 13.579259 \n",
       "      777       778       779       780       781       782       783       784 \n",
       "12.732331 12.947904 15.164734 12.837379 10.528784        NA 14.763008 25.438013 \n",
       "      785       786       787       788       789       790       791       792 \n",
       "33.764376 40.639968 29.135213 23.667764 16.003555 15.698579 11.185658 13.364452 \n",
       "      793       794       795       796       797       798       799       800 \n",
       " 6.592269  7.707512 10.084184 21.901788 36.515101 25.554045 21.165491 20.438868 \n",
       "      801       802       803       804       805       806       807       808 \n",
       "25.175271 34.379758 28.987008 23.429882 14.874577 21.239865 20.688391 27.281121 \n",
       "      809       810       811       812       813       814       815       816 \n",
       "42.668635 38.533415 29.767560 13.719990 11.397738 12.913154  8.962065  9.892925 \n",
       "      817       818       819       820       821       822       823       824 \n",
       "11.337790 15.453212 13.536134 13.264482 17.766002 43.179264 48.045460 30.499796 \n",
       "      825       826       827       828       829       830       831       832 \n",
       "34.418104 30.166628 29.033930 28.390655 30.245883 31.684507 32.521237 31.870505 \n",
       "      833       834       835       836       837       838       839       840 \n",
       "36.922383 45.773208 46.840597 42.839727 15.746121  9.986500  8.899790  8.086179 \n",
       "      841       842       843       844       845       846       847       848 \n",
       " 8.439831  7.626262  5.727153  6.888380  6.328416  5.892278  8.231895  4.535588 \n",
       "      849       850       851       852       853       854       855       856 \n",
       " 5.786250  5.844781  6.294291  8.782084  6.283937        NA        NA        NA \n",
       "      857       858       859       860       861       862       863       864 \n",
       "       NA        NA 43.110652 21.269657 10.178178  9.725021 10.483167 14.236963 \n",
       "      865       866       867       868       869       870       871       872 \n",
       "11.303999 14.293571 27.187593 43.030137 39.096905 39.333842 39.055230 36.363753 \n",
       "      873       874       875       876       877       878       879       880 \n",
       "       NA        NA        NA        NA        NA        NA        NA        NA \n",
       "      881       882       883       884       885       886       887       888 \n",
       "       NA 41.138348 42.356398 32.994456 27.450466 22.602987 27.078293 30.695176 \n",
       "      889       890       891       892       893       894       895       896 \n",
       "35.807621 50.169960 53.871756 53.837033 50.922110 46.394989 40.432975        NA \n",
       "      897       898       899       900       901       902       903       904 \n",
       "       NA        NA        NA        NA        NA        NA        NA        NA \n",
       "      905       906       907       908       909       910       911       912 \n",
       "       NA        NA 51.793408 43.083156 24.585433 13.151286 19.332541 26.193341 \n",
       "      913       914       915       916       917       918       919       920 \n",
       "44.119515 52.227624 59.219751 58.992024 59.600118 44.464848        NA        NA \n",
       "      921       922       923       924       925       926       927       928 \n",
       "       NA        NA        NA        NA        NA        NA        NA        NA \n",
       "      929       930       931       932       933       934       935       936 \n",
       "       NA 20.801203 19.797850 18.158510 11.123766  7.529794  6.266316  8.416603 \n",
       "      937       938       939       940       941       942       943       944 \n",
       "21.853072 28.610119 29.706641 32.139023  9.527772  9.003948 10.235376 16.736798 \n",
       "      945       946       947       948       949       950       951       952 \n",
       "23.433386 24.894890        NA        NA        NA        NA        NA        NA \n",
       "      953       954       955       956       957       958       959       960 \n",
       "17.516370  8.531744  9.608417  6.277911  5.731618  7.101883  9.841086 15.272400 \n",
       "      961       962       963       964       965       966       967       968 \n",
       "27.328976 31.984682 47.822448 49.875452 43.036465        NA        NA        NA \n",
       "      969       970       971       972       973       974       975       976 \n",
       "       NA        NA        NA        NA        NA        NA        NA        NA \n",
       "      977       978       979       980       981       982       983       984 \n",
       "       NA 10.990466  9.652845  6.093601  5.362684  7.952237  7.181144 11.844517 \n",
       "      985       986       987       988       989       990       991       992 \n",
       "31.102915 48.012485 49.676844 44.887571 43.375375 37.221710 32.830965 30.546296 \n",
       "      993       994       995       996       997       998       999      1000 \n",
       "22.762356 14.617153 11.373766 13.902261 18.139773 30.097389 35.713657 39.167617 \n",
       "     1001      1002      1003      1004      1005      1006      1007      1008 \n",
       "35.760127 39.906985 36.997942 39.371261 40.535552 36.995610 34.302397 33.055960 \n",
       "     1009      1010      1011      1012      1013      1014      1015      1016 \n",
       "37.022351 35.077016        NA        NA        NA        NA        NA        NA \n",
       "     1017      1018      1019      1020      1021      1022      1023      1024 \n",
       "       NA        NA        NA        NA        NA        NA        NA        NA \n",
       "     1025      1026      1027      1028      1029      1030      1031      1032 \n",
       "39.476796 13.919701 13.582607  7.021197  6.878178  7.316717 15.230349 29.780752 \n",
       "     1033      1034      1035      1036      1037      1038      1039      1040 \n",
       "25.058326 20.448682 12.977397 13.771530 10.400372 12.121195 15.215005 15.242584 \n",
       "     1041      1042      1043      1044      1045      1046      1047      1048 \n",
       " 8.230859  8.009539  8.491830  7.623491  9.639382 13.149039 27.170679 25.202255 \n",
       "     1049      1050      1051      1052      1053      1054      1055      1056 \n",
       "26.677895 19.279985 18.765510 23.032825 19.889419  9.305625  8.961206 17.703121 \n",
       "     1057      1058      1059      1060      1061      1062      1063      1064 \n",
       " 8.055862 16.801733 26.625208 12.669173  5.699154  9.373278  5.697987        NA \n",
       "     1065      1066      1067      1068      1069      1070      1071      1072 \n",
       "       NA        NA        NA        NA        NA        NA        NA        NA \n",
       "     1073      1074      1075      1076      1077      1078      1079      1080 \n",
       "       NA  6.650105  9.585996  8.406939  7.952304 10.395180 11.122044 15.940550 \n",
       "     1081      1082      1083      1084      1085      1086      1087      1088 \n",
       "       NA        NA        NA        NA        NA        NA        NA        NA \n",
       "     1089      1090      1091      1092      1093      1094      1095      1096 \n",
       "       NA        NA        NA        NA        NA        NA        NA        NA \n",
       "     1097      1098      1099      1100      1101      1102      1103      1104 \n",
       "       NA        NA  4.397161  4.249164  5.400803  5.948349  7.551023 10.512079 \n",
       "     1105      1106      1107      1108      1109      1110      1111      1112 \n",
       "       NA        NA        NA        NA        NA        NA        NA        NA \n",
       "     1113      1114      1115      1116      1117      1118      1119      1120 \n",
       "       NA        NA        NA        NA        NA        NA        NA        NA \n",
       "     1121      1122      1123      1124      1125      1126      1127      1128 \n",
       "       NA        NA  7.647019  4.796485  4.630394  5.195070  5.811169  8.846809 \n",
       "     1129      1130      1131      1132      1133      1134      1135      1136 \n",
       "12.786293  9.187117  7.091979  6.191808 12.100028        NA        NA        NA \n",
       "     1137      1138      1139      1140      1141      1142      1143      1144 \n",
       "       NA        NA        NA        NA        NA        NA        NA        NA \n",
       "     1145      1146      1147      1148      1149      1150      1151      1152 \n",
       "       NA  9.269683  7.492891  7.218167 15.139527 19.493208 21.683674 18.974663 \n",
       "     1153      1154      1155      1156      1157      1158      1159      1160 \n",
       "18.686632 24.085197        NA        NA        NA        NA        NA        NA \n",
       "     1161      1162      1163      1164      1165      1166      1167      1168 \n",
       "       NA        NA        NA        NA        NA        NA        NA        NA \n",
       "     1169      1170      1171      1172      1173      1174      1175      1176 \n",
       "       NA        NA 13.539297 13.692848 12.946255 14.348247 26.015289 17.734011 \n",
       "     1177      1178      1179      1180      1181      1182      1183      1184 \n",
       "23.068487        NA        NA        NA        NA        NA        NA        NA \n",
       "     1185      1186      1187      1188      1189      1190      1191      1192 \n",
       "       NA        NA        NA        NA        NA        NA        NA        NA \n",
       "     1193      1194      1195      1196      1197      1198      1199      1200 \n",
       "       NA        NA        NA        NA 19.327704 24.444320 34.398848 38.726518 \n",
       "     1201      1202      1203      1204      1205      1206      1207      1208 \n",
       "42.541931 51.133920        NA        NA        NA        NA        NA        NA \n",
       "     1209      1210      1211      1212      1213      1214      1215      1216 \n",
       "       NA        NA        NA        NA        NA        NA        NA        NA \n",
       "     1217      1218      1219      1220      1221      1222      1223      1224 \n",
       "       NA        NA        NA 12.857989 10.155669 13.702621 19.933772 28.010197 \n",
       "     1225      1226      1227      1228      1229      1230      1231      1232 \n",
       "36.814635        NA        NA        NA        NA        NA        NA        NA \n",
       "     1233      1234      1235      1236      1237      1238      1239      1240 \n",
       "       NA        NA        NA        NA        NA        NA        NA        NA \n",
       "     1241      1242      1243      1244      1245      1246      1247      1248 \n",
       "       NA        NA 10.564000 20.905315 20.402041 25.522381        NA        NA \n",
       "     1249      1250      1251      1252      1253      1254      1255      1256 \n",
       "       NA        NA        NA        NA        NA        NA        NA        NA \n",
       "     1257      1258      1259      1260      1261      1262      1263      1264 \n",
       "       NA        NA        NA        NA        NA        NA        NA        NA \n",
       "     1265      1266      1267      1268      1269      1270      1271      1272 \n",
       "       NA        NA        NA        NA        NA        NA        NA        NA \n",
       "     1273      1274      1275      1276      1277      1278      1279      1280 \n",
       "       NA        NA        NA        NA        NA        NA        NA        NA \n",
       "     1281      1282      1283      1284      1285      1286      1287      1288 \n",
       "       NA        NA        NA        NA        NA        NA        NA        NA \n",
       "     1289      1290      1291      1292      1293      1294      1295      1296 \n",
       "       NA        NA        NA        NA        NA        NA        NA        NA \n",
       "     1297      1298      1299      1300      1301      1302      1303      1304 \n",
       "       NA        NA        NA        NA        NA        NA        NA        NA \n",
       "     1305      1306      1307      1308      1309      1310      1311      1312 \n",
       "       NA        NA        NA        NA        NA        NA        NA        NA \n",
       "     1313      1314      1315      1316      1317      1318      1319      1320 \n",
       "       NA        NA        NA        NA        NA        NA 16.461489        NA \n",
       "     1321      1322      1323      1324      1325      1326      1327      1328 \n",
       "       NA        NA        NA        NA        NA        NA        NA        NA \n",
       "     1329      1330      1331      1332      1333      1334      1335      1336 \n",
       "       NA  7.984245  6.623346  6.173705  5.829822  6.445316  7.575786        NA \n",
       "     1337      1338      1339      1340      1341      1342      1343      1344 \n",
       "       NA  9.209425  7.784604  7.394628  7.360183  7.762984 14.780791 14.002313 \n",
       "     1345      1346      1347      1348      1349      1350      1351      1352 \n",
       "12.716625 12.246302 14.461036 17.316659 16.973449  9.191762  6.717993  6.518496 \n",
       "     1353      1354      1355      1356      1357      1358      1359      1360 \n",
       " 6.592891  7.173132  6.064577  6.170717        NA        NA        NA        NA \n",
       "     1361      1362      1363      1364      1365      1366      1367      1368 \n",
       "       NA        NA        NA        NA  6.284123  5.943888  6.520266  9.508138 \n",
       "     1369      1370      1371      1372      1373      1374      1375      1376 \n",
       "11.458418 16.671900 11.801520 12.017627 15.346839 14.080646        NA        NA \n",
       "     1377      1378 \n",
       "       NA        NA "
      ]
     },
     "metadata": {},
     "output_type": "display_data"
    }
   ],
   "source": [
    "predict(model, newdata = gas_test)"
   ]
  },
  {
   "cell_type": "code",
   "execution_count": 134,
   "metadata": {},
   "outputs": [],
   "source": [
    "saveRDS(model, file='model.rds')"
   ]
  },
  {
   "cell_type": "code",
   "execution_count": 84,
   "metadata": {},
   "outputs": [
    {
     "data": {
      "text/html": [
       "<style>\n",
       ".list-inline {list-style: none; margin:0; padding: 0}\n",
       ".list-inline>li {display: inline-block}\n",
       ".list-inline>li:not(:last-child)::after {content: \"\\00b7\"; padding: 0 .5ex}\n",
       "</style>\n",
       "<ol class=list-inline><li>'n'</li><li>'fitted'</li><li>'residuals'</li><li>'enp'</li><li>'s'</li><li>'one.delta'</li><li>'two.delta'</li><li>'trace.hat'</li><li>'divisor'</li><li>'robust'</li><li>'pars'</li><li>'kd'</li><li>'call'</li><li>'terms'</li><li>'xnames'</li><li>'x'</li><li>'y'</li><li>'weights'</li></ol>\n"
      ],
      "text/latex": [
       "\\begin{enumerate*}\n",
       "\\item 'n'\n",
       "\\item 'fitted'\n",
       "\\item 'residuals'\n",
       "\\item 'enp'\n",
       "\\item 's'\n",
       "\\item 'one.delta'\n",
       "\\item 'two.delta'\n",
       "\\item 'trace.hat'\n",
       "\\item 'divisor'\n",
       "\\item 'robust'\n",
       "\\item 'pars'\n",
       "\\item 'kd'\n",
       "\\item 'call'\n",
       "\\item 'terms'\n",
       "\\item 'xnames'\n",
       "\\item 'x'\n",
       "\\item 'y'\n",
       "\\item 'weights'\n",
       "\\end{enumerate*}\n"
      ],
      "text/markdown": [
       "1. 'n'\n",
       "2. 'fitted'\n",
       "3. 'residuals'\n",
       "4. 'enp'\n",
       "5. 's'\n",
       "6. 'one.delta'\n",
       "7. 'two.delta'\n",
       "8. 'trace.hat'\n",
       "9. 'divisor'\n",
       "10. 'robust'\n",
       "11. 'pars'\n",
       "12. 'kd'\n",
       "13. 'call'\n",
       "14. 'terms'\n",
       "15. 'xnames'\n",
       "16. 'x'\n",
       "17. 'y'\n",
       "18. 'weights'\n",
       "\n",
       "\n"
      ],
      "text/plain": [
       " [1] \"n\"         \"fitted\"    \"residuals\" \"enp\"       \"s\"         \"one.delta\"\n",
       " [7] \"two.delta\" \"trace.hat\" \"divisor\"   \"robust\"    \"pars\"      \"kd\"       \n",
       "[13] \"call\"      \"terms\"     \"xnames\"    \"x\"         \"y\"         \"weights\"  "
      ]
     },
     "metadata": {},
     "output_type": "display_data"
    }
   ],
   "source": [
    "names(model)"
   ]
  },
  {
   "cell_type": "code",
   "execution_count": 85,
   "metadata": {},
   "outputs": [],
   "source": [
    "loess_model <- model[!(names(model) %in% c('x', 'residuals'))]"
   ]
  },
  {
   "cell_type": "code",
   "execution_count": 96,
   "metadata": {},
   "outputs": [
    {
     "data": {
      "text/html": [
       "'loess'"
      ],
      "text/latex": [
       "'loess'"
      ],
      "text/markdown": [
       "'loess'"
      ],
      "text/plain": [
       "[1] \"loess\""
      ]
     },
     "metadata": {},
     "output_type": "display_data"
    }
   ],
   "source": [
    "class(loess_model)"
   ]
  },
  {
   "cell_type": "code",
   "execution_count": 93,
   "metadata": {},
   "outputs": [],
   "source": [
    "attributes(loess_model)$class <- 'loess'"
   ]
  },
  {
   "cell_type": "code",
   "execution_count": 95,
   "metadata": {},
   "outputs": [],
   "source": [
    "save(loess_model, file='loess_model.RData')"
   ]
  },
  {
   "cell_type": "code",
   "execution_count": 54,
   "metadata": {},
   "outputs": [
    {
     "name": "stderr",
     "output_type": "stream",
     "text": [
      "\u001b[1mRows: \u001b[22m\u001b[34m1378\u001b[39m \u001b[1mColumns: \u001b[22m\u001b[34m11\u001b[39m\n",
      "\n",
      "\u001b[36m──\u001b[39m \u001b[1mColumn specification\u001b[22m \u001b[36m────────────────────────────────────────────────────────\u001b[39m\n",
      "\u001b[1mDelimiter:\u001b[22m \",\"\n",
      "\u001b[32mdbl\u001b[39m  (9): RAW, AUX, PPB, FINAL, temperature, humidity, NO, NO2, NOX\n",
      "\u001b[34mdttm\u001b[39m (2): date, Time\n",
      "\n",
      "\n",
      "\u001b[36mℹ\u001b[39m Use \u001b[30m\u001b[47m\u001b[30m\u001b[47m`spec()`\u001b[47m\u001b[30m\u001b[49m\u001b[39m to retrieve the full column specification for this data.\n",
      "\u001b[36mℹ\u001b[39m Specify the column types or set \u001b[30m\u001b[47m\u001b[30m\u001b[47m`show_col_types = FALSE`\u001b[47m\u001b[30m\u001b[49m\u001b[39m to quiet this message.\n",
      "\n"
     ]
    }
   ],
   "source": [
    "gas_test <- read_csv('data/gas_test.csv')"
   ]
  },
  {
   "cell_type": "code",
   "execution_count": 58,
   "metadata": {},
   "outputs": [],
   "source": [
    "data=gas_test[, c('RAW', 'temperature')]"
   ]
  },
  {
   "cell_type": "code",
   "execution_count": 135,
   "metadata": {},
   "outputs": [],
   "source": [
    "test_model=readRDS('model.rds')\n",
    "# attributes(test_model)$class <- 'loess'"
   ]
  },
  {
   "cell_type": "code",
   "execution_count": 136,
   "metadata": {},
   "outputs": [
    {
     "data": {
      "text/html": [
       "'loess'"
      ],
      "text/latex": [
       "'loess'"
      ],
      "text/markdown": [
       "'loess'"
      ],
      "text/plain": [
       "[1] \"loess\""
      ]
     },
     "metadata": {},
     "output_type": "display_data"
    }
   ],
   "source": [
    "class(test_model)"
   ]
  },
  {
   "cell_type": "code",
   "execution_count": 130,
   "metadata": {},
   "outputs": [
    {
     "data": {
      "text/html": [
       "<style>\n",
       ".list-inline {list-style: none; margin:0; padding: 0}\n",
       ".list-inline>li {display: inline-block}\n",
       ".list-inline>li:not(:last-child)::after {content: \"\\00b7\"; padding: 0 .5ex}\n",
       "</style>\n",
       "<ol class=list-inline><li>'n'</li><li>'fitted'</li><li>'residuals'</li><li>'enp'</li><li>'s'</li><li>'one.delta'</li><li>'two.delta'</li><li>'trace.hat'</li><li>'divisor'</li><li>'robust'</li><li>'pars'</li><li>'kd'</li><li>'call'</li><li>'terms'</li><li>'xnames'</li><li>'x'</li><li>'y'</li><li>'weights'</li></ol>\n"
      ],
      "text/latex": [
       "\\begin{enumerate*}\n",
       "\\item 'n'\n",
       "\\item 'fitted'\n",
       "\\item 'residuals'\n",
       "\\item 'enp'\n",
       "\\item 's'\n",
       "\\item 'one.delta'\n",
       "\\item 'two.delta'\n",
       "\\item 'trace.hat'\n",
       "\\item 'divisor'\n",
       "\\item 'robust'\n",
       "\\item 'pars'\n",
       "\\item 'kd'\n",
       "\\item 'call'\n",
       "\\item 'terms'\n",
       "\\item 'xnames'\n",
       "\\item 'x'\n",
       "\\item 'y'\n",
       "\\item 'weights'\n",
       "\\end{enumerate*}\n"
      ],
      "text/markdown": [
       "1. 'n'\n",
       "2. 'fitted'\n",
       "3. 'residuals'\n",
       "4. 'enp'\n",
       "5. 's'\n",
       "6. 'one.delta'\n",
       "7. 'two.delta'\n",
       "8. 'trace.hat'\n",
       "9. 'divisor'\n",
       "10. 'robust'\n",
       "11. 'pars'\n",
       "12. 'kd'\n",
       "13. 'call'\n",
       "14. 'terms'\n",
       "15. 'xnames'\n",
       "16. 'x'\n",
       "17. 'y'\n",
       "18. 'weights'\n",
       "\n",
       "\n"
      ],
      "text/plain": [
       " [1] \"n\"         \"fitted\"    \"residuals\" \"enp\"       \"s\"         \"one.delta\"\n",
       " [7] \"two.delta\" \"trace.hat\" \"divisor\"   \"robust\"    \"pars\"      \"kd\"       \n",
       "[13] \"call\"      \"terms\"     \"xnames\"    \"x\"         \"y\"         \"weights\"  "
      ]
     },
     "metadata": {},
     "output_type": "display_data"
    }
   ],
   "source": [
    "names(model)"
   ]
  },
  {
   "cell_type": "code",
   "execution_count": 105,
   "metadata": {},
   "outputs": [
    {
     "data": {
      "text/html": [
       "<table class=\"dataframe\">\n",
       "<caption>A data.frame: 1 × 2</caption>\n",
       "<thead>\n",
       "\t<tr><th scope=col>RAW</th><th scope=col>temperature</th></tr>\n",
       "\t<tr><th scope=col>&lt;dbl&gt;</th><th scope=col>&lt;dbl&gt;</th></tr>\n",
       "</thead>\n",
       "<tbody>\n",
       "\t<tr><td>297.1858</td><td>17.10584</td></tr>\n",
       "</tbody>\n",
       "</table>\n"
      ],
      "text/latex": [
       "A data.frame: 1 × 2\n",
       "\\begin{tabular}{ll}\n",
       " RAW & temperature\\\\\n",
       " <dbl> & <dbl>\\\\\n",
       "\\hline\n",
       "\t 297.1858 & 17.10584\\\\\n",
       "\\end{tabular}\n"
      ],
      "text/markdown": [
       "\n",
       "A data.frame: 1 × 2\n",
       "\n",
       "| RAW &lt;dbl&gt; | temperature &lt;dbl&gt; |\n",
       "|---|---|\n",
       "| 297.1858 | 17.10584 |\n",
       "\n"
      ],
      "text/plain": [
       "  RAW      temperature\n",
       "1 297.1858 17.10584   "
      ]
     },
     "metadata": {},
     "output_type": "display_data"
    }
   ],
   "source": [
    "data"
   ]
  },
  {
   "cell_type": "code",
   "execution_count": 126,
   "metadata": {},
   "outputs": [],
   "source": [
    "test_model=load('model.RData')"
   ]
  },
  {
   "cell_type": "code",
   "execution_count": 127,
   "metadata": {},
   "outputs": [
    {
     "data": {
      "text/html": [
       "'model'"
      ],
      "text/latex": [
       "'model'"
      ],
      "text/markdown": [
       "'model'"
      ],
      "text/plain": [
       "[1] \"model\""
      ]
     },
     "metadata": {},
     "output_type": "display_data"
    }
   ],
   "source": [
    "test_model"
   ]
  },
  {
   "cell_type": "code",
   "execution_count": 137,
   "metadata": {},
   "outputs": [
    {
     "data": {
      "text/html": [
       "<strong>1:</strong> 20.949181091467"
      ],
      "text/latex": [
       "\\textbf{1:} 20.949181091467"
      ],
      "text/markdown": [
       "**1:** 20.949181091467"
      ],
      "text/plain": [
       "       1 \n",
       "20.94918 "
      ]
     },
     "metadata": {},
     "output_type": "display_data"
    }
   ],
   "source": [
    "predict(test_model, data, row.names=FALSE)"
   ]
  },
  {
   "cell_type": "code",
   "execution_count": 67,
   "metadata": {},
   "outputs": [
    {
     "ename": "ERROR",
     "evalue": "Error in UseMethod(\"predict\"): no applicable method for 'predict' applied to an object of class \"character\"\n",
     "output_type": "error",
     "traceback": [
      "Error in UseMethod(\"predict\"): no applicable method for 'predict' applied to an object of class \"character\"\nTraceback:\n",
      "1. paste(predict(loess_model, data, row.names = FALSE), collapse = \",\")",
      "2. predict(loess_model, data, row.names = FALSE)"
     ]
    }
   ],
   "source": [
    "paste(predict(loess_model, data, row.names=FALSE), collapse=',')"
   ]
  },
  {
   "cell_type": "code",
   "execution_count": 61,
   "metadata": {},
   "outputs": [],
   "source": [
    "payload='RAW,temperature\\n297.1857782999675,17.105836391448975\\n'"
   ]
  },
  {
   "cell_type": "code",
   "execution_count": 62,
   "metadata": {},
   "outputs": [],
   "source": [
    "conn <- textConnection(gsub('\\\\\\\\n', '\\n', payload))\n",
    "data <- read.csv(conn)\n",
    "close(conn)\n"
   ]
  },
  {
   "cell_type": "code",
   "execution_count": 63,
   "metadata": {},
   "outputs": [
    {
     "data": {
      "text/html": [
       "<table class=\"dataframe\">\n",
       "<caption>A data.frame: 1 × 2</caption>\n",
       "<thead>\n",
       "\t<tr><th scope=col>RAW</th><th scope=col>temperature</th></tr>\n",
       "\t<tr><th scope=col>&lt;dbl&gt;</th><th scope=col>&lt;dbl&gt;</th></tr>\n",
       "</thead>\n",
       "<tbody>\n",
       "\t<tr><td>297.1858</td><td>17.10584</td></tr>\n",
       "</tbody>\n",
       "</table>\n"
      ],
      "text/latex": [
       "A data.frame: 1 × 2\n",
       "\\begin{tabular}{ll}\n",
       " RAW & temperature\\\\\n",
       " <dbl> & <dbl>\\\\\n",
       "\\hline\n",
       "\t 297.1858 & 17.10584\\\\\n",
       "\\end{tabular}\n"
      ],
      "text/markdown": [
       "\n",
       "A data.frame: 1 × 2\n",
       "\n",
       "| RAW &lt;dbl&gt; | temperature &lt;dbl&gt; |\n",
       "|---|---|\n",
       "| 297.1858 | 17.10584 |\n",
       "\n"
      ],
      "text/plain": [
       "  RAW      temperature\n",
       "1 297.1858 17.10584   "
      ]
     },
     "metadata": {},
     "output_type": "display_data"
    }
   ],
   "source": [
    "data"
   ]
  },
  {
   "cell_type": "code",
   "execution_count": null,
   "metadata": {},
   "outputs": [],
   "source": []
  }
 ],
 "metadata": {
  "kernelspec": {
   "display_name": "R",
   "language": "R",
   "name": "ir"
  },
  "language_info": {
   "codemirror_mode": "r",
   "file_extension": ".r",
   "mimetype": "text/x-r-source",
   "name": "R",
   "pygments_lexer": "r",
   "version": "4.1.1"
  },
  "notice": "Copyright 2018 Amazon.com, Inc. or its affiliates. All Rights Reserved.  Licensed under the Apache License, Version 2.0 (the \"License\"). You may not use this file except in compliance with the License. A copy of the License is located at http://aws.amazon.com/apache2.0/ or in the \"license\" file accompanying this file. This file is distributed on an \"AS IS\" BASIS, WITHOUT WARRANTIES OR CONDITIONS OF ANY KIND, either express or implied. See the License for the specific language governing permissions and limitations under the License."
 },
 "nbformat": 4,
 "nbformat_minor": 4
}
